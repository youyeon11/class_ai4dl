{
  "nbformat": 4,
  "nbformat_minor": 0,
  "metadata": {
    "colab": {
      "provenance": [],
      "authorship_tag": "ABX9TyPVoAaEm28FbR7nqVP00cfy",
      "include_colab_link": true
    },
    "kernelspec": {
      "name": "python3",
      "display_name": "Python 3"
    },
    "language_info": {
      "name": "python"
    },
    "accelerator": "GPU",
    "gpuClass": "standard"
  },
  "cells": [
    {
      "cell_type": "markdown",
      "metadata": {
        "id": "view-in-github",
        "colab_type": "text"
      },
      "source": [
        "<a href=\"https://colab.research.google.com/github/youyeon11/class_ai4dl/blob/main/Chapter02_mathemaatical_building_blocks.ipynb\" target=\"_parent\"><img src=\"https://colab.research.google.com/assets/colab-badge.svg\" alt=\"Open In Colab\"/></a>"
      ]
    },
    {
      "cell_type": "markdown",
      "source": [
        "#A first look at a neural network"
      ],
      "metadata": {
        "id": "R1VBJJd_ru-7"
      }
    },
    {
      "cell_type": "code",
      "source": [
        "#Loading the MNIST dataset in Keras"
      ],
      "metadata": {
        "id": "Qluis4wpf1-p"
      },
      "execution_count": null,
      "outputs": []
    },
    {
      "cell_type": "code",
      "source": [
        "import tensorflow"
      ],
      "metadata": {
        "id": "C-rhaVoDf4Hm"
      },
      "execution_count": null,
      "outputs": []
    },
    {
      "cell_type": "code",
      "source": [
        "from tensorflow.keras.datasets import mnist"
      ],
      "metadata": {
        "id": "tYs6a1Ctf_ut"
      },
      "execution_count": null,
      "outputs": []
    },
    {
      "cell_type": "code",
      "source": [
        "#how to use mnist?\n",
        "\n",
        "tensorflow.keras.datasets.mnist.load_data?"
      ],
      "metadata": {
        "id": "NRjNlPJlgIRt"
      },
      "execution_count": null,
      "outputs": []
    },
    {
      "cell_type": "code",
      "source": [
        "## Example in python from help\n",
        "\n",
        "#(x_train, y_train), (x_test, y_test) = keras.datasets.mnist.load_data()\n",
        "# assert x_train.shape == (60000, 28, 28)\n",
        "# assert x_test.shape == (10000, 28, 28)\n",
        "# assert y_train.shape == (60000,)\n",
        "# assert y_test.shape == (10000,)"
      ],
      "metadata": {
        "id": "Bl_i_Su3gfyV"
      },
      "execution_count": null,
      "outputs": []
    },
    {
      "cell_type": "code",
      "execution_count": null,
      "metadata": {
        "colab": {
          "base_uri": "https://localhost:8080/"
        },
        "id": "GuHQNZu7fPRw",
        "outputId": "a402695d-c0f6-437f-ba5e-f74fc30f2ac0"
      },
      "outputs": [
        {
          "output_type": "stream",
          "name": "stdout",
          "text": [
            "Downloading data from https://storage.googleapis.com/tensorflow/tf-keras-datasets/mnist.npz\n",
            "11490434/11490434 [==============================] - 0s 0us/step\n"
          ]
        }
      ],
      "source": [
        "from tensorflow.keras.datasets import mnist\n",
        "(train_images, train_labels), (test_images, test_labels)=mnist.load_data()"
      ]
    },
    {
      "cell_type": "markdown",
      "source": [
        "# train data"
      ],
      "metadata": {
        "id": "d_Ey4WACiJ8H"
      }
    },
    {
      "cell_type": "code",
      "source": [
        "train_images.shape\n",
        "# x_train에 대한 shape: 600000개의 train data sets와 28pixels*28pixels 조합"
      ],
      "metadata": {
        "colab": {
          "base_uri": "https://localhost:8080/"
        },
        "id": "byf0tj8phOqY",
        "outputId": "743dfb61-18c7-411b-8ed0-6b214c04d2a7"
      },
      "execution_count": null,
      "outputs": [
        {
          "output_type": "execute_result",
          "data": {
            "text/plain": [
              "(60000, 28, 28)"
            ]
          },
          "metadata": {},
          "execution_count": 9
        }
      ]
    },
    {
      "cell_type": "code",
      "source": [
        "len(train_images) #data set 값의 개수, 길이"
      ],
      "metadata": {
        "colab": {
          "base_uri": "https://localhost:8080/"
        },
        "id": "AxLvWZy-hSYH",
        "outputId": "9146f166-b493-48eb-a9e6-35a4f0d89476"
      },
      "execution_count": null,
      "outputs": [
        {
          "output_type": "execute_result",
          "data": {
            "text/plain": [
              "60000"
            ]
          },
          "metadata": {},
          "execution_count": 10
        }
      ]
    },
    {
      "cell_type": "code",
      "source": [
        "train_labels"
      ],
      "metadata": {
        "colab": {
          "base_uri": "https://localhost:8080/"
        },
        "id": "m9qA9zPPhp8p",
        "outputId": "2ea79240-7b78-4362-e244-df45e71bf4bd"
      },
      "execution_count": null,
      "outputs": [
        {
          "output_type": "execute_result",
          "data": {
            "text/plain": [
              "array([5, 0, 4, ..., 5, 6, 8], dtype=uint8)"
            ]
          },
          "metadata": {},
          "execution_count": 12
        }
      ]
    },
    {
      "cell_type": "markdown",
      "source": [
        "# test data"
      ],
      "metadata": {
        "id": "2u7NruEXiLys"
      }
    },
    {
      "cell_type": "code",
      "source": [
        "test_images.shape"
      ],
      "metadata": {
        "colab": {
          "base_uri": "https://localhost:8080/"
        },
        "id": "PIBSgtSLhxJY",
        "outputId": "126f50b8-f1ee-4549-9439-22c5384a4df6"
      },
      "execution_count": null,
      "outputs": [
        {
          "output_type": "execute_result",
          "data": {
            "text/plain": [
              "(10000, 28, 28)"
            ]
          },
          "metadata": {},
          "execution_count": 13
        }
      ]
    },
    {
      "cell_type": "code",
      "source": [
        "len(test_labels)"
      ],
      "metadata": {
        "colab": {
          "base_uri": "https://localhost:8080/"
        },
        "id": "jjUb1Zh2h3PJ",
        "outputId": "fcfd6cd2-fdfe-41ca-b37e-4b51d689f42c"
      },
      "execution_count": null,
      "outputs": [
        {
          "output_type": "execute_result",
          "data": {
            "text/plain": [
              "10000"
            ]
          },
          "metadata": {},
          "execution_count": 14
        }
      ]
    },
    {
      "cell_type": "code",
      "source": [
        "test_labels"
      ],
      "metadata": {
        "colab": {
          "base_uri": "https://localhost:8080/"
        },
        "id": "5aacQvPtiRiy",
        "outputId": "acc8a7d5-b024-4b87-bfdf-63986b983633"
      },
      "execution_count": null,
      "outputs": [
        {
          "output_type": "execute_result",
          "data": {
            "text/plain": [
              "array([7, 2, 1, ..., 4, 5, 6], dtype=uint8)"
            ]
          },
          "metadata": {},
          "execution_count": 15
        }
      ]
    },
    {
      "cell_type": "markdown",
      "source": [
        "#The network architecture"
      ],
      "metadata": {
        "id": "dXCq1m8KiVAd"
      }
    },
    {
      "cell_type": "code",
      "source": [
        "#how we build the previous model by using the tensorflow model keras?\n"
      ],
      "metadata": {
        "id": "0IyoCZVUiSk0"
      },
      "execution_count": null,
      "outputs": []
    },
    {
      "cell_type": "code",
      "source": [
        "from tensorflow import keras\n",
        "from tensorflow.keras import layers\n",
        "model=keras.Sequential([\n",
        "    layers.Dense(512, activation='relu'), #512 dimension\n",
        "    layers.Dense(10, activation='softmax') #0~9->10\n",
        "])"
      ],
      "metadata": {
        "id": "JUO5BdIQnfDD"
      },
      "execution_count": null,
      "outputs": []
    },
    {
      "cell_type": "markdown",
      "source": [
        "#The complication step"
      ],
      "metadata": {
        "id": "XWutwIuNqPcf"
      }
    },
    {
      "cell_type": "code",
      "source": [
        "model.compile(optimizer='rmsprop',\n",
        "              loss='sparse_categorical_crossentropy',\n",
        "              metrics=['accuracy'])"
      ],
      "metadata": {
        "id": "dt_I4Ejqp8Xi"
      },
      "execution_count": null,
      "outputs": []
    },
    {
      "cell_type": "markdown",
      "source": [
        "#Preparing the image data"
      ],
      "metadata": {
        "id": "FQHVBWL1qgu4"
      }
    },
    {
      "cell_type": "code",
      "source": [
        "train_images=train_images.reshape((60000, 28*28))\n",
        "train_images=train_images.astype('float32')/255\n",
        "test_images=test_images.reshape((10000, 28*28))\n",
        "test_images=test_images.astype('float32')/255"
      ],
      "metadata": {
        "id": "EPQwMpA8qgM-"
      },
      "execution_count": null,
      "outputs": []
    },
    {
      "cell_type": "code",
      "source": [
        "train_images.shape #shape가 변화된 것을 확인가능"
      ],
      "metadata": {
        "colab": {
          "base_uri": "https://localhost:8080/"
        },
        "id": "GkE00atQrAaU",
        "outputId": "429a347c-b45b-4cf0-c77f-ee9b5632382d"
      },
      "execution_count": null,
      "outputs": [
        {
          "output_type": "execute_result",
          "data": {
            "text/plain": [
              "(60000, 784)"
            ]
          },
          "metadata": {},
          "execution_count": 22
        }
      ]
    },
    {
      "cell_type": "markdown",
      "source": [
        "#\"Fitting\" the model"
      ],
      "metadata": {
        "id": "fmO6XAAnrYkm"
      }
    },
    {
      "cell_type": "code",
      "source": [
        "model.fit(train_images, train_labels, epochs=5, batch_size=128)"
      ],
      "metadata": {
        "colab": {
          "base_uri": "https://localhost:8080/"
        },
        "id": "IDRPbhfPrbc9",
        "outputId": "5ae9bd4d-5ff3-4a58-da7b-3d9cf5d0968f"
      },
      "execution_count": null,
      "outputs": [
        {
          "output_type": "stream",
          "name": "stdout",
          "text": [
            "Epoch 1/5\n",
            "469/469 [==============================] - 6s 3ms/step - loss: 0.2635 - accuracy: 0.9242\n",
            "Epoch 2/5\n",
            "469/469 [==============================] - 1s 3ms/step - loss: 0.1078 - accuracy: 0.9681\n",
            "Epoch 3/5\n",
            "469/469 [==============================] - 2s 4ms/step - loss: 0.0709 - accuracy: 0.9788\n",
            "Epoch 4/5\n",
            "469/469 [==============================] - 2s 3ms/step - loss: 0.0509 - accuracy: 0.9847\n",
            "Epoch 5/5\n",
            "469/469 [==============================] - 1s 3ms/step - loss: 0.0389 - accuracy: 0.9887\n"
          ]
        },
        {
          "output_type": "execute_result",
          "data": {
            "text/plain": [
              "<keras.callbacks.History at 0x7f3f0a2d87c0>"
            ]
          },
          "metadata": {},
          "execution_count": 24
        }
      ]
    },
    {
      "cell_type": "markdown",
      "source": [
        "#Using the model to make predictions"
      ],
      "metadata": {
        "id": "U_jl7xISr1q9"
      }
    },
    {
      "cell_type": "code",
      "source": [
        "test_digits=test_images[0:10] #10images\n",
        "predictions=model.predict(test_digits)\n",
        "predictions[0]"
      ],
      "metadata": {
        "colab": {
          "base_uri": "https://localhost:8080/"
        },
        "id": "4OJe5euBrimS",
        "outputId": "d150e7c0-cfa2-44f5-d26f-05f713f3242a"
      },
      "execution_count": null,
      "outputs": [
        {
          "output_type": "stream",
          "name": "stdout",
          "text": [
            "1/1 [==============================] - 0s 83ms/step\n"
          ]
        },
        {
          "output_type": "execute_result",
          "data": {
            "text/plain": [
              "array([5.4734844e-08, 3.0245328e-08, 6.6790390e-06, 9.5694202e-05,\n",
              "       1.0453871e-10, 6.5119633e-07, 5.2688201e-12, 9.9988437e-01,\n",
              "       6.9133847e-07, 1.1832382e-05], dtype=float32)"
            ]
          },
          "metadata": {},
          "execution_count": 25
        }
      ]
    },
    {
      "cell_type": "code",
      "source": [
        "test_digits #10 images 확인 가능\n",
        "#vector of 784"
      ],
      "metadata": {
        "colab": {
          "base_uri": "https://localhost:8080/"
        },
        "id": "rBfruNtwsEqG",
        "outputId": "5d249cc8-a981-4199-86c3-66b49262b255"
      },
      "execution_count": null,
      "outputs": [
        {
          "output_type": "execute_result",
          "data": {
            "text/plain": [
              "array([[0., 0., 0., ..., 0., 0., 0.],\n",
              "       [0., 0., 0., ..., 0., 0., 0.],\n",
              "       [0., 0., 0., ..., 0., 0., 0.],\n",
              "       ...,\n",
              "       [0., 0., 0., ..., 0., 0., 0.],\n",
              "       [0., 0., 0., ..., 0., 0., 0.],\n",
              "       [0., 0., 0., ..., 0., 0., 0.]], dtype=float32)"
            ]
          },
          "metadata": {},
          "execution_count": 26
        }
      ]
    },
    {
      "cell_type": "code",
      "source": [
        "test_digits.shape"
      ],
      "metadata": {
        "colab": {
          "base_uri": "https://localhost:8080/"
        },
        "id": "FfJwsahOsI04",
        "outputId": "c54b9906-bad1-4a35-e9aa-46ee061c01ad"
      },
      "execution_count": null,
      "outputs": [
        {
          "output_type": "execute_result",
          "data": {
            "text/plain": [
              "(10, 784)"
            ]
          },
          "metadata": {},
          "execution_count": 27
        }
      ]
    },
    {
      "cell_type": "code",
      "source": [
        "#argmax() : parameter로 들어갈 estimator 추정 가능\n",
        "predictions[0].argmax()"
      ],
      "metadata": {
        "colab": {
          "base_uri": "https://localhost:8080/"
        },
        "id": "r_HBSs0KsUd-",
        "outputId": "a22aae2f-f120-4323-e056-7edaf83607d9"
      },
      "execution_count": null,
      "outputs": [
        {
          "output_type": "execute_result",
          "data": {
            "text/plain": [
              "7"
            ]
          },
          "metadata": {},
          "execution_count": 29
        }
      ]
    },
    {
      "cell_type": "code",
      "source": [
        "#asign armax value\n",
        "predictions[0][7]"
      ],
      "metadata": {
        "colab": {
          "base_uri": "https://localhost:8080/"
        },
        "id": "9dzsmhfNsW9Z",
        "outputId": "9182e70e-ea5a-4b16-ce85-257d53a912e4"
      },
      "execution_count": null,
      "outputs": [
        {
          "output_type": "execute_result",
          "data": {
            "text/plain": [
              "0.99988437"
            ]
          },
          "metadata": {},
          "execution_count": 31
        }
      ]
    },
    {
      "cell_type": "code",
      "source": [
        "test_labels[0]"
      ],
      "metadata": {
        "colab": {
          "base_uri": "https://localhost:8080/"
        },
        "id": "KJvOmG_AsxBz",
        "outputId": "dafd14c4-5449-4b9e-f57b-ed5ce8b9ecaf"
      },
      "execution_count": null,
      "outputs": [
        {
          "output_type": "execute_result",
          "data": {
            "text/plain": [
              "7"
            ]
          },
          "metadata": {},
          "execution_count": 32
        }
      ]
    },
    {
      "cell_type": "markdown",
      "source": [
        "#Evaluatinng the model on new data seet"
      ],
      "metadata": {
        "id": "5WMD624Usq4d"
      }
    },
    {
      "cell_type": "code",
      "source": [
        "test_loss, test_acc =model.evaluate(test_images, test_labels)\n",
        "print(f'test_acc: {test_acc}')"
      ],
      "metadata": {
        "colab": {
          "base_uri": "https://localhost:8080/"
        },
        "id": "0CkYTwjBslGg",
        "outputId": "734b58eb-05fe-4f66-e184-75deea24987c"
      },
      "execution_count": null,
      "outputs": [
        {
          "output_type": "stream",
          "name": "stdout",
          "text": [
            "313/313 [==============================] - 1s 2ms/step - loss: 0.0636 - accuracy: 0.9797\n",
            "test_acc: 0.9797000288963318\n"
          ]
        }
      ]
    },
    {
      "cell_type": "code",
      "source": [],
      "metadata": {
        "id": "-2OuFBsAtE7c"
      },
      "execution_count": null,
      "outputs": []
    },
    {
      "cell_type": "markdown",
      "source": [
        "#Data representation for neural networks"
      ],
      "metadata": {
        "id": "ESJhPynAt98N"
      }
    },
    {
      "cell_type": "markdown",
      "source": [
        "##Scalars (rank-0 tensors)"
      ],
      "metadata": {
        "id": "BBdasICDuDo9"
      }
    },
    {
      "cell_type": "code",
      "source": [
        "import numpy as np\n",
        "x=np.array(12)\n",
        "x"
      ],
      "metadata": {
        "colab": {
          "base_uri": "https://localhost:8080/"
        },
        "id": "GWcras_IuDHG",
        "outputId": "275035dd-8370-404b-efc6-dcd9699258fb"
      },
      "execution_count": null,
      "outputs": [
        {
          "output_type": "execute_result",
          "data": {
            "text/plain": [
              "array(12)"
            ]
          },
          "metadata": {},
          "execution_count": 36
        }
      ]
    },
    {
      "cell_type": "code",
      "source": [
        "x.ndim"
      ],
      "metadata": {
        "colab": {
          "base_uri": "https://localhost:8080/"
        },
        "id": "YHg2NKtouNNd",
        "outputId": "f835540a-b56c-41d3-a271-9f3c73564772"
      },
      "execution_count": null,
      "outputs": [
        {
          "output_type": "execute_result",
          "data": {
            "text/plain": [
              "0"
            ]
          },
          "metadata": {},
          "execution_count": 37
        }
      ]
    },
    {
      "cell_type": "markdown",
      "source": [
        "##Vectors (rank-1 tensors)"
      ],
      "metadata": {
        "id": "rXbiNrMDuW_f"
      }
    },
    {
      "cell_type": "code",
      "source": [
        "x=np.array([12, 3, 6, 14, 7])\n",
        "x"
      ],
      "metadata": {
        "colab": {
          "base_uri": "https://localhost:8080/"
        },
        "id": "nUfKsfEyuV_1",
        "outputId": "672a54f4-4cfe-4faa-d7e9-70125fff91a5"
      },
      "execution_count": null,
      "outputs": [
        {
          "output_type": "execute_result",
          "data": {
            "text/plain": [
              "array([12,  3,  6, 14,  7])"
            ]
          },
          "metadata": {},
          "execution_count": 39
        }
      ]
    },
    {
      "cell_type": "code",
      "source": [
        "x.ndim"
      ],
      "metadata": {
        "colab": {
          "base_uri": "https://localhost:8080/"
        },
        "id": "IHVSk8VAubxJ",
        "outputId": "9384e8d1-35ce-45b5-eedf-17b6dd067b55"
      },
      "execution_count": null,
      "outputs": [
        {
          "output_type": "execute_result",
          "data": {
            "text/plain": [
              "1"
            ]
          },
          "metadata": {},
          "execution_count": 40
        }
      ]
    },
    {
      "cell_type": "markdown",
      "source": [
        "##Matrices (rank-2 tensors)"
      ],
      "metadata": {
        "id": "72DirhBYunYY"
      }
    },
    {
      "cell_type": "code",
      "source": [
        "x = np.array([[5, 78, 2, 34, 0],[6, 79, 3, 35, 1],[7, 80, 4, 36, 2]])\n",
        "x.ndim"
      ],
      "metadata": {
        "id": "VOn8BS8AuzI6",
        "colab": {
          "base_uri": "https://localhost:8080/"
        },
        "outputId": "ea697813-f577-4f12-9117-fda9270c73ed"
      },
      "execution_count": 3,
      "outputs": [
        {
          "output_type": "execute_result",
          "data": {
            "text/plain": [
              "2"
            ]
          },
          "metadata": {},
          "execution_count": 3
        }
      ]
    },
    {
      "cell_type": "markdown",
      "source": [
        "##Rank-3 and higher-rank tensors"
      ],
      "metadata": {
        "id": "OFZs0Qqguquv"
      }
    },
    {
      "cell_type": "code",
      "source": [
        "import numpy as np\n",
        "x = np.array([[[5, 78, 2, 34, 0],[6, 79, 3, 35, 1],[7, 80, 4, 36, 2]],\n",
        "              [[5, 78, 2, 34, 0],[6, 79, 3, 35, 1],[7, 80, 4, 36, 2]],\n",
        "              [[5, 78, 2, 34, 0],[6, 79, 3, 35, 1],[7, 80, 4, 36, 2]]])\n",
        "x.ndim"
      ],
      "metadata": {
        "id": "MBIM0lZquzzt",
        "colab": {
          "base_uri": "https://localhost:8080/"
        },
        "outputId": "07bff4e7-041f-434e-dea6-467bff6a56ed"
      },
      "execution_count": 2,
      "outputs": [
        {
          "output_type": "execute_result",
          "data": {
            "text/plain": [
              "3"
            ]
          },
          "metadata": {},
          "execution_count": 2
        }
      ]
    },
    {
      "cell_type": "markdown",
      "source": [
        "#Key attributes"
      ],
      "metadata": {
        "id": "X1fZACjxuy64"
      }
    },
    {
      "cell_type": "code",
      "source": [
        "from tensorflow.keras.datasets import mnist\n",
        "(train_images, train_labels),(test_images, test_labels)=mnist.load_data()"
      ],
      "metadata": {
        "id": "jgnYQIgdufwX"
      },
      "execution_count": null,
      "outputs": []
    },
    {
      "cell_type": "code",
      "source": [
        "#rank-3 -> mnist data\n",
        "print(train_images.ndim)"
      ],
      "metadata": {
        "colab": {
          "base_uri": "https://localhost:8080/"
        },
        "id": "pYDOEwQpvJDR",
        "outputId": "87fbe84a-7364-45bc-f8a8-dbca5403a655"
      },
      "execution_count": null,
      "outputs": [
        {
          "output_type": "stream",
          "name": "stdout",
          "text": [
            "3\n"
          ]
        }
      ]
    },
    {
      "cell_type": "code",
      "source": [
        "print(train_images.shape)"
      ],
      "metadata": {
        "colab": {
          "base_uri": "https://localhost:8080/"
        },
        "id": "YtS5mvNJvOfn",
        "outputId": "a81956f2-ae3a-4e1f-94ad-8101cafa2357"
      },
      "execution_count": null,
      "outputs": [
        {
          "output_type": "stream",
          "name": "stdout",
          "text": [
            "(60000, 28, 28)\n"
          ]
        }
      ]
    },
    {
      "cell_type": "code",
      "source": [
        "print(train_images.dtype)\n",
        "#integer type of value"
      ],
      "metadata": {
        "colab": {
          "base_uri": "https://localhost:8080/"
        },
        "id": "GSXsEiZ9vP3f",
        "outputId": "e179950c-9a61-4ebb-a004-33f7256f2187"
      },
      "execution_count": null,
      "outputs": [
        {
          "output_type": "stream",
          "name": "stdout",
          "text": [
            "uint8\n"
          ]
        }
      ]
    },
    {
      "cell_type": "markdown",
      "source": [
        "#Displaying Digits"
      ],
      "metadata": {
        "id": "Z_6ml4I8vgW7"
      }
    },
    {
      "cell_type": "code",
      "source": [
        "digit=train_images[4]\n",
        "\n",
        "import matplotlib.pyplot as plt\n",
        "plt.imshow(digit, cmap=plt.cm.binary)\n",
        "plt.show() #conver data to image"
      ],
      "metadata": {
        "colab": {
          "base_uri": "https://localhost:8080/",
          "height": 265
        },
        "id": "XSApHYPXvRe-",
        "outputId": "0c7156af-54f7-4a44-af91-6065d28d4b19"
      },
      "execution_count": null,
      "outputs": [
        {
          "output_type": "display_data",
          "data": {
            "text/plain": [
              "<Figure size 432x288 with 1 Axes>"
            ],
            "image/png": "[encoded data removed]"
          },
          "metadata": {
            "needs_background": "light"
          }
        }
      ]
    },
    {
      "cell_type": "code",
      "source": [
        "train_images[4].shape"
      ],
      "metadata": {
        "colab": {
          "base_uri": "https://localhost:8080/"
        },
        "id": "pN3CHn4FvvF-",
        "outputId": "d0f7c34c-1294-4c22-8b46-96363833b7c5"
      },
      "execution_count": null,
      "outputs": [
        {
          "output_type": "execute_result",
          "data": {
            "text/plain": [
              "(28, 28)"
            ]
          },
          "metadata": {},
          "execution_count": 50
        }
      ]
    },
    {
      "cell_type": "code",
      "source": [
        "train_images[4]"
      ],
      "metadata": {
        "colab": {
          "base_uri": "https://localhost:8080/"
        },
        "id": "DyLrDUqwwbra",
        "outputId": "13cfbcd8-4d78-421e-ddc8-642ee2ffcab3"
      },
      "execution_count": null,
      "outputs": [
        {
          "output_type": "execute_result",
          "data": {
            "text/plain": [
              "array([[  0,   0,   0,   0,   0,   0,   0,   0,   0,   0,   0,   0,   0,\n",
              "          0,   0,   0,   0,   0,   0,   0,   0,   0,   0,   0,   0,   0,\n",
              "          0,   0],\n",
              "       [  0,   0,   0,   0,   0,   0,   0,   0,   0,   0,   0,   0,   0,\n",
              "          0,   0,   0,   0,   0,   0,   0,   0,   0,   0,   0,   0,   0,\n",
              "          0,   0],\n",
              "       [  0,   0,   0,   0,   0,   0,   0,   0,   0,   0,   0,   0,   0,\n",
              "          0,   0,   0,   0,   0,   0,   0,   0,   0,   0,   0,   0,   0,\n",
              "          0,   0],\n",
              "       [  0,   0,   0,   0,   0,   0,   0,   0,   0,   0,   0,   0,   0,\n",
              "          0,   0,   0,   0,   0,   0,   0,   0,   0,   0,   0,   0,   0,\n",
              "          0,   0],\n",
              "       [  0,   0,   0,   0,   0,   0,   0,   0,   0,   0,   0,   0,   0,\n",
              "          0,   0,   0,   0,   0,   0,   0,   0,   0,   0,   0,   0,   0,\n",
              "          0,   0],\n",
              "       [  0,   0,   0,   0,   0,   0,   0,   0,   0,   0,   0,   0,   0,\n",
              "          0,   0,   0,   0,   0,   0,   0,   0,   0,   0,   0,   0,   0,\n",
              "          0,   0],\n",
              "       [  0,   0,   0,   0,   0,   0,   0,   0,   0,   0,   0,   0,   0,\n",
              "          0,   0,   0,   0,   0,   0,   0,   0,   0,   0,   0,   0,   0,\n",
              "          0,   0],\n",
              "       [  0,   0,   0,   0,   0,   0,   0,   0,   0,   0,   0,   0,  55,\n",
              "        148, 210, 253, 253, 113,  87, 148,  55,   0,   0,   0,   0,   0,\n",
              "          0,   0],\n",
              "       [  0,   0,   0,   0,   0,   0,   0,   0,   0,   0,   0,  87, 232,\n",
              "        252, 253, 189, 210, 252, 252, 253, 168,   0,   0,   0,   0,   0,\n",
              "          0,   0],\n",
              "       [  0,   0,   0,   0,   0,   0,   0,   0,   0,   4,  57, 242, 252,\n",
              "        190,  65,   5,  12, 182, 252, 253, 116,   0,   0,   0,   0,   0,\n",
              "          0,   0],\n",
              "       [  0,   0,   0,   0,   0,   0,   0,   0,   0,  96, 252, 252, 183,\n",
              "         14,   0,   0,  92, 252, 252, 225,  21,   0,   0,   0,   0,   0,\n",
              "          0,   0],\n",
              "       [  0,   0,   0,   0,   0,   0,   0,   0, 132, 253, 252, 146,  14,\n",
              "          0,   0,   0, 215, 252, 252,  79,   0,   0,   0,   0,   0,   0,\n",
              "          0,   0],\n",
              "       [  0,   0,   0,   0,   0,   0,   0, 126, 253, 247, 176,   9,   0,\n",
              "          0,   8,  78, 245, 253, 129,   0,   0,   0,   0,   0,   0,   0,\n",
              "          0,   0],\n",
              "       [  0,   0,   0,   0,   0,   0,  16, 232, 252, 176,   0,   0,   0,\n",
              "         36, 201, 252, 252, 169,  11,   0,   0,   0,   0,   0,   0,   0,\n",
              "          0,   0],\n",
              "       [  0,   0,   0,   0,   0,   0,  22, 252, 252,  30,  22, 119, 197,\n",
              "        241, 253, 252, 251,  77,   0,   0,   0,   0,   0,   0,   0,   0,\n",
              "          0,   0],\n",
              "       [  0,   0,   0,   0,   0,   0,  16, 231, 252, 253, 252, 252, 252,\n",
              "        226, 227, 252, 231,   0,   0,   0,   0,   0,   0,   0,   0,   0,\n",
              "          0,   0],\n",
              "       [  0,   0,   0,   0,   0,   0,   0,  55, 235, 253, 217, 138,  42,\n",
              "         24, 192, 252, 143,   0,   0,   0,   0,   0,   0,   0,   0,   0,\n",
              "          0,   0],\n",
              "       [  0,   0,   0,   0,   0,   0,   0,   0,   0,   0,   0,   0,   0,\n",
              "         62, 255, 253, 109,   0,   0,   0,   0,   0,   0,   0,   0,   0,\n",
              "          0,   0],\n",
              "       [  0,   0,   0,   0,   0,   0,   0,   0,   0,   0,   0,   0,   0,\n",
              "         71, 253, 252,  21,   0,   0,   0,   0,   0,   0,   0,   0,   0,\n",
              "          0,   0],\n",
              "       [  0,   0,   0,   0,   0,   0,   0,   0,   0,   0,   0,   0,   0,\n",
              "          0, 253, 252,  21,   0,   0,   0,   0,   0,   0,   0,   0,   0,\n",
              "          0,   0],\n",
              "       [  0,   0,   0,   0,   0,   0,   0,   0,   0,   0,   0,   0,   0,\n",
              "         71, 253, 252,  21,   0,   0,   0,   0,   0,   0,   0,   0,   0,\n",
              "          0,   0],\n",
              "       [  0,   0,   0,   0,   0,   0,   0,   0,   0,   0,   0,   0,   0,\n",
              "        106, 253, 252,  21,   0,   0,   0,   0,   0,   0,   0,   0,   0,\n",
              "          0,   0],\n",
              "       [  0,   0,   0,   0,   0,   0,   0,   0,   0,   0,   0,   0,   0,\n",
              "         45, 255, 253,  21,   0,   0,   0,   0,   0,   0,   0,   0,   0,\n",
              "          0,   0],\n",
              "       [  0,   0,   0,   0,   0,   0,   0,   0,   0,   0,   0,   0,   0,\n",
              "          0, 218, 252,  56,   0,   0,   0,   0,   0,   0,   0,   0,   0,\n",
              "          0,   0],\n",
              "       [  0,   0,   0,   0,   0,   0,   0,   0,   0,   0,   0,   0,   0,\n",
              "          0,  96, 252, 189,  42,   0,   0,   0,   0,   0,   0,   0,   0,\n",
              "          0,   0],\n",
              "       [  0,   0,   0,   0,   0,   0,   0,   0,   0,   0,   0,   0,   0,\n",
              "          0,  14, 184, 252, 170,  11,   0,   0,   0,   0,   0,   0,   0,\n",
              "          0,   0],\n",
              "       [  0,   0,   0,   0,   0,   0,   0,   0,   0,   0,   0,   0,   0,\n",
              "          0,   0,  14, 147, 252,  42,   0,   0,   0,   0,   0,   0,   0,\n",
              "          0,   0],\n",
              "       [  0,   0,   0,   0,   0,   0,   0,   0,   0,   0,   0,   0,   0,\n",
              "          0,   0,   0,   0,   0,   0,   0,   0,   0,   0,   0,   0,   0,\n",
              "          0,   0]], dtype=uint8)"
            ]
          },
          "metadata": {},
          "execution_count": 51
        }
      ]
    },
    {
      "cell_type": "code",
      "source": [
        "train_labels[4]"
      ],
      "metadata": {
        "colab": {
          "base_uri": "https://localhost:8080/"
        },
        "id": "FyCvhTWEwd9x",
        "outputId": "5b99f29b-418c-41f7-83b4-0f09988d5290"
      },
      "execution_count": null,
      "outputs": [
        {
          "output_type": "execute_result",
          "data": {
            "text/plain": [
              "9"
            ]
          },
          "metadata": {},
          "execution_count": 52
        }
      ]
    },
    {
      "cell_type": "markdown",
      "source": [
        "#Manipulating tensors in Numpy"
      ],
      "metadata": {
        "id": "ZYd0j_DvxRcG"
      }
    },
    {
      "cell_type": "code",
      "source": [
        "#slice와 crop 이전에 본래의 데이터 shape 확인\n",
        "train_images.shape"
      ],
      "metadata": {
        "colab": {
          "base_uri": "https://localhost:8080/"
        },
        "id": "fdcon-BuwqQZ",
        "outputId": "9840cbeb-4a82-402b-85d4-44b3ab3eb9e9"
      },
      "execution_count": null,
      "outputs": [
        {
          "output_type": "execute_result",
          "data": {
            "text/plain": [
              "(60000, 28, 28)"
            ]
          },
          "metadata": {},
          "execution_count": 54
        }
      ]
    },
    {
      "cell_type": "code",
      "source": [
        "my_slice=train_images[10:100]\n",
        "my_slice.shape"
      ],
      "metadata": {
        "colab": {
          "base_uri": "https://localhost:8080/"
        },
        "id": "OW6usmhtxoF1",
        "outputId": "e072360e-35af-43fc-b5ee-317ab813c3ca"
      },
      "execution_count": null,
      "outputs": [
        {
          "output_type": "execute_result",
          "data": {
            "text/plain": [
              "(90, 28, 28)"
            ]
          },
          "metadata": {},
          "execution_count": 57
        }
      ]
    },
    {
      "cell_type": "code",
      "source": [
        "my_slice=train_images[10:100, : , :] #same with former\n",
        "my_slice.shape"
      ],
      "metadata": {
        "colab": {
          "base_uri": "https://localhost:8080/"
        },
        "id": "Ne3qI8-6xVTD",
        "outputId": "82bcd2f1-a7f5-4a7b-ccde-5e6dd76ee462"
      },
      "execution_count": null,
      "outputs": [
        {
          "output_type": "execute_result",
          "data": {
            "text/plain": [
              "(90, 28, 28)"
            ]
          },
          "metadata": {},
          "execution_count": 59
        }
      ]
    },
    {
      "cell_type": "code",
      "source": [
        "my_slice=train_images[10:100, 0:28, 0:28]\n",
        "my_slice.shape"
      ],
      "metadata": {
        "colab": {
          "base_uri": "https://localhost:8080/"
        },
        "id": "pxgpDTTixc0O",
        "outputId": "3a7eeae9-af3c-48b0-8422-24c1e55f8488"
      },
      "execution_count": null,
      "outputs": [
        {
          "output_type": "execute_result",
          "data": {
            "text/plain": [
              "(90, 28, 28)"
            ]
          },
          "metadata": {},
          "execution_count": 60
        }
      ]
    },
    {
      "cell_type": "code",
      "source": [
        "my_slice=train_images[:, 14: , 14:]\n",
        "my_slice.shape"
      ],
      "metadata": {
        "colab": {
          "base_uri": "https://localhost:8080/"
        },
        "id": "UhjaApnMx7ds",
        "outputId": "7d5aacef-9dd3-4fee-82db-aa2d2ef2f514"
      },
      "execution_count": null,
      "outputs": [
        {
          "output_type": "execute_result",
          "data": {
            "text/plain": [
              "(60000, 14, 14)"
            ]
          },
          "metadata": {},
          "execution_count": 61
        }
      ]
    },
    {
      "cell_type": "code",
      "source": [
        "my_slice=train_images[:,7:-7,7:-7]\n",
        "my_slice.shape"
      ],
      "metadata": {
        "colab": {
          "base_uri": "https://localhost:8080/"
        },
        "id": "M9LFpXySyPLv",
        "outputId": "585aa4b6-c7a2-4b31-b392-e7d2a5b9429a"
      },
      "execution_count": null,
      "outputs": [
        {
          "output_type": "execute_result",
          "data": {
            "text/plain": [
              "(60000, 14, 14)"
            ]
          },
          "metadata": {},
          "execution_count": 64
        }
      ]
    },
    {
      "cell_type": "code",
      "source": [
        "#convert to image\n",
        "digit=my_slice[4]\n",
        "plt.imshow(digit, cmap=plt.cm.binary)\n",
        "plt.show()"
      ],
      "metadata": {
        "colab": {
          "base_uri": "https://localhost:8080/",
          "height": 265
        },
        "id": "pLrdS_8cyWsN",
        "outputId": "bf8adf9e-14ed-4c2b-cdd4-a6b67dd45668"
      },
      "execution_count": null,
      "outputs": [
        {
          "output_type": "display_data",
          "data": {
            "text/plain": [
              "<Figure size 432x288 with 1 Axes>"
            ],
            "image/png": "[encoded data removed]"
          },
          "metadata": {
            "needs_background": "light"
          }
        }
      ]
    },
    {
      "cell_type": "markdown",
      "source": [
        "#The notion of data batches"
      ],
      "metadata": {
        "id": "0atSWZPKyuB1"
      }
    },
    {
      "cell_type": "code",
      "source": [
        "#여기서부터 다시해보기\n"
      ],
      "metadata": {
        "id": "YE950Cvqyjph"
      },
      "execution_count": null,
      "outputs": []
    },
    {
      "cell_type": "markdown",
      "source": [],
      "metadata": {
        "id": "1xcUVolW1Ps9"
      }
    },
    {
      "cell_type": "code",
      "source": [
        "def naive_relu(x):\n",
        "  assert len(x.shape) == 2, 'x.ndim() must 2'\n",
        "  \n",
        "  x = x.copy()\n",
        "  for i in range(x.shape[0]):\n",
        "    for j in range(x.shape[1]):\n",
        "      x[i, j] = max(x[i, j], 0)\n",
        "      \n",
        "  return x"
      ],
      "metadata": {
        "id": "TkBRaEzl1iGn"
      },
      "execution_count": null,
      "outputs": []
    },
    {
      "cell_type": "code",
      "source": [
        "x=np.array([1,2,3,4])"
      ],
      "metadata": {
        "id": "u7hZFsm61Pfr"
      },
      "execution_count": null,
      "outputs": []
    },
    {
      "cell_type": "code",
      "source": [
        "len(x.shape)"
      ],
      "metadata": {
        "colab": {
          "base_uri": "https://localhost:8080/"
        },
        "id": "fe-Tnp2D1X2J",
        "outputId": "156358cf-669b-4f0b-ca65-0bc4fa970eef"
      },
      "execution_count": null,
      "outputs": [
        {
          "output_type": "execute_result",
          "data": {
            "text/plain": [
              "1"
            ]
          },
          "metadata": {},
          "execution_count": 71
        }
      ]
    },
    {
      "cell_type": "code",
      "source": [
        "naive_relu(x)\n",
        "#shape"
      ],
      "metadata": {
        "colab": {
          "base_uri": "https://localhost:8080/",
          "height": 303
        },
        "id": "gYd5XaDY1TZy",
        "outputId": "623863dd-8298-472c-b851-23b0eed65a64"
      },
      "execution_count": null,
      "outputs": [
        {
          "output_type": "error",
          "ename": "AssertionError",
          "evalue": "ignored",
          "traceback": [
            "\u001b[0;31m---------------------------------------------------------------------------\u001b[0m",
            "\u001b[0;31mAssertionError\u001b[0m                            Traceback (most recent call last)",
            "\u001b[0;32m<ipython-input-73-d91a669231ed>\u001b[0m in \u001b[0;36m<module>\u001b[0;34m\u001b[0m\n\u001b[0;32m----> 1\u001b[0;31m \u001b[0mnaive_relu\u001b[0m\u001b[0;34m(\u001b[0m\u001b[0mx\u001b[0m\u001b[0;34m)\u001b[0m\u001b[0;34m\u001b[0m\u001b[0;34m\u001b[0m\u001b[0m\n\u001b[0m",
            "\u001b[0;32m<ipython-input-69-51859730735a>\u001b[0m in \u001b[0;36mnaive_relu\u001b[0;34m(x)\u001b[0m\n\u001b[1;32m      1\u001b[0m \u001b[0;32mdef\u001b[0m \u001b[0mnaive_relu\u001b[0m\u001b[0;34m(\u001b[0m\u001b[0mx\u001b[0m\u001b[0;34m)\u001b[0m\u001b[0;34m:\u001b[0m\u001b[0;34m\u001b[0m\u001b[0;34m\u001b[0m\u001b[0m\n\u001b[0;32m----> 2\u001b[0;31m   \u001b[0;32massert\u001b[0m \u001b[0mlen\u001b[0m\u001b[0;34m(\u001b[0m\u001b[0mx\u001b[0m\u001b[0;34m.\u001b[0m\u001b[0mshape\u001b[0m\u001b[0;34m)\u001b[0m \u001b[0;34m==\u001b[0m \u001b[0;36m2\u001b[0m\u001b[0;34m,\u001b[0m \u001b[0;34m'x.ndim() must 2'\u001b[0m\u001b[0;34m\u001b[0m\u001b[0;34m\u001b[0m\u001b[0m\n\u001b[0m\u001b[1;32m      3\u001b[0m \u001b[0;34m\u001b[0m\u001b[0m\n\u001b[1;32m      4\u001b[0m   \u001b[0mx\u001b[0m \u001b[0;34m=\u001b[0m \u001b[0mx\u001b[0m\u001b[0;34m.\u001b[0m\u001b[0mcopy\u001b[0m\u001b[0;34m(\u001b[0m\u001b[0;34m)\u001b[0m\u001b[0;34m\u001b[0m\u001b[0;34m\u001b[0m\u001b[0m\n\u001b[1;32m      5\u001b[0m   \u001b[0;32mfor\u001b[0m \u001b[0mi\u001b[0m \u001b[0;32min\u001b[0m \u001b[0mrange\u001b[0m\u001b[0;34m(\u001b[0m\u001b[0mx\u001b[0m\u001b[0;34m.\u001b[0m\u001b[0mshape\u001b[0m\u001b[0;34m[\u001b[0m\u001b[0;36m0\u001b[0m\u001b[0;34m]\u001b[0m\u001b[0;34m)\u001b[0m\u001b[0;34m:\u001b[0m\u001b[0;34m\u001b[0m\u001b[0;34m\u001b[0m\u001b[0m\n",
            "\u001b[0;31mAssertionError\u001b[0m: x.ndim() must 2"
          ]
        }
      ]
    },
    {
      "cell_type": "code",
      "source": [
        "#ndim 수정 후에 적용\n",
        "x=np.array([[1,2,3,4],[2,-1,--2,4]])"
      ],
      "metadata": {
        "id": "ZmKf20LB13tv"
      },
      "execution_count": null,
      "outputs": []
    },
    {
      "cell_type": "code",
      "source": [
        "len(x.shape)"
      ],
      "metadata": {
        "colab": {
          "base_uri": "https://localhost:8080/"
        },
        "id": "3QqN_B3u2D-V",
        "outputId": "5297399d-5bbb-4879-e15c-d4e81a45802a"
      },
      "execution_count": null,
      "outputs": [
        {
          "output_type": "execute_result",
          "data": {
            "text/plain": [
              "2"
            ]
          },
          "metadata": {},
          "execution_count": 75
        }
      ]
    },
    {
      "cell_type": "code",
      "source": [
        "naive_relu(x)"
      ],
      "metadata": {
        "colab": {
          "base_uri": "https://localhost:8080/"
        },
        "id": "fM-2BZvq2E0k",
        "outputId": "dda321fa-8861-4f42-b77b-16445dc17858"
      },
      "execution_count": null,
      "outputs": [
        {
          "output_type": "execute_result",
          "data": {
            "text/plain": [
              "array([[1, 2, 3, 4],\n",
              "       [2, 0, 2, 4]])"
            ]
          },
          "metadata": {},
          "execution_count": 76
        }
      ]
    },
    {
      "cell_type": "code",
      "source": [
        "#copy 설정"
      ],
      "metadata": {
        "id": "QPzeWciM2GRP"
      },
      "execution_count": null,
      "outputs": []
    },
    {
      "cell_type": "code",
      "source": [
        "def naive_relu(x):\n",
        "  assert len(x.shape) == 2, 'x.ndim() must 2'\n",
        "  #x = x.copy()\n",
        "  for i in range(x.shape[0]):\n",
        "    for j in range(x.shape[1]):\n",
        "      x[i, j] = max(x[i, j], 0)\n",
        "      \n",
        "  return x"
      ],
      "metadata": {
        "id": "N4Nz5I9v2grM"
      },
      "execution_count": null,
      "outputs": []
    },
    {
      "cell_type": "code",
      "source": [
        "a=np.array([1,2,3,4,5])"
      ],
      "metadata": {
        "id": "aIdWNMSB2kZr"
      },
      "execution_count": null,
      "outputs": []
    },
    {
      "cell_type": "code",
      "source": [
        "b=a #copy"
      ],
      "metadata": {
        "id": "YMPIoKNa2q3V"
      },
      "execution_count": null,
      "outputs": []
    },
    {
      "cell_type": "code",
      "source": [
        "b[0]"
      ],
      "metadata": {
        "colab": {
          "base_uri": "https://localhost:8080/"
        },
        "id": "EeoGvEem2rcz",
        "outputId": "75323a52-e7aa-4846-8ec5-f763d02c3a82"
      },
      "execution_count": null,
      "outputs": [
        {
          "output_type": "execute_result",
          "data": {
            "text/plain": [
              "1"
            ]
          },
          "metadata": {},
          "execution_count": 82
        }
      ]
    },
    {
      "cell_type": "code",
      "source": [
        "b[0]=3 #assign new value"
      ],
      "metadata": {
        "id": "9XzIrjMP2sVz"
      },
      "execution_count": null,
      "outputs": []
    },
    {
      "cell_type": "code",
      "source": [
        "b"
      ],
      "metadata": {
        "colab": {
          "base_uri": "https://localhost:8080/"
        },
        "id": "8La8IV2G2xi1",
        "outputId": "df77cbeb-4ff7-46e6-b001-6f734a0e98c6"
      },
      "execution_count": null,
      "outputs": [
        {
          "output_type": "execute_result",
          "data": {
            "text/plain": [
              "array([3, 2, 3, 4, 5])"
            ]
          },
          "metadata": {},
          "execution_count": 84
        }
      ]
    },
    {
      "cell_type": "code",
      "source": [
        "a #a is also changed"
      ],
      "metadata": {
        "colab": {
          "base_uri": "https://localhost:8080/"
        },
        "id": "g4vvbFni2yf8",
        "outputId": "645e24cc-8eee-4e10-ecd9-642bc95649fb"
      },
      "execution_count": null,
      "outputs": [
        {
          "output_type": "execute_result",
          "data": {
            "text/plain": [
              "array([3, 2, 3, 4, 5])"
            ]
          },
          "metadata": {},
          "execution_count": 86
        }
      ]
    },
    {
      "cell_type": "code",
      "source": [],
      "metadata": {
        "id": "xUSJ8IpU20K0"
      },
      "execution_count": null,
      "outputs": []
    },
    {
      "cell_type": "markdown",
      "source": [
        "#Element-wise operations"
      ],
      "metadata": {
        "id": "Jm18RSsK4pdC"
      }
    },
    {
      "cell_type": "code",
      "source": [
        "def naive_relu(x):\n",
        "  assert len(x.shape) == 2, 'x.ndim() must 2'\n",
        "  \n",
        "  x = x.copy()\n",
        "  for i in range(x.shape[0]):\n",
        "    for j in range(x.shape[1]):\n",
        "      x[i, j] = max(x[i, j], 0)\n",
        "\n",
        "  return x"
      ],
      "metadata": {
        "id": "pVKpITIi4tIQ"
      },
      "execution_count": null,
      "outputs": []
    },
    {
      "cell_type": "markdown",
      "source": [
        "#Broadcasting"
      ],
      "metadata": {
        "id": "Jhw1q7e_4udd"
      }
    },
    {
      "cell_type": "code",
      "source": [
        "import numpy as np\n",
        "X=np.random.random((32,10))\n",
        "y=np.random.random((10,))"
      ],
      "metadata": {
        "id": "HYX04XLx4wZy"
      },
      "execution_count": null,
      "outputs": []
    },
    {
      "cell_type": "code",
      "source": [
        "y=np.expand_dims(y,axis=0)"
      ],
      "metadata": {
        "id": "XjEvBNha46V_"
      },
      "execution_count": null,
      "outputs": []
    },
    {
      "cell_type": "code",
      "source": [
        "y.shape"
      ],
      "metadata": {
        "colab": {
          "base_uri": "https://localhost:8080/"
        },
        "id": "ziU9cdVH4_cT",
        "outputId": "88aed43d-faba-436b-ed05-cd21fc44338b"
      },
      "execution_count": null,
      "outputs": [
        {
          "output_type": "execute_result",
          "data": {
            "text/plain": [
              "(1, 10)"
            ]
          },
          "metadata": {},
          "execution_count": 90
        }
      ]
    },
    {
      "cell_type": "code",
      "source": [
        "Y=np.concatenate([y]*32, axis=0)"
      ],
      "metadata": {
        "id": "Ok5ed39U5DuO"
      },
      "execution_count": null,
      "outputs": []
    },
    {
      "cell_type": "code",
      "source": [
        "Y.shape"
      ],
      "metadata": {
        "colab": {
          "base_uri": "https://localhost:8080/"
        },
        "id": "dNSq05IC5IvS",
        "outputId": "f1532a61-0631-431a-f0cc-84612735d06c"
      },
      "execution_count": null,
      "outputs": [
        {
          "output_type": "execute_result",
          "data": {
            "text/plain": [
              "(32, 10)"
            ]
          },
          "metadata": {},
          "execution_count": 92
        }
      ]
    },
    {
      "cell_type": "code",
      "source": [
        "Y #32times"
      ],
      "metadata": {
        "colab": {
          "base_uri": "https://localhost:8080/"
        },
        "id": "m9NWyvyv5Jhj",
        "outputId": "26bbf851-2306-4949-f863-110a8b135608"
      },
      "execution_count": null,
      "outputs": [
        {
          "output_type": "execute_result",
          "data": {
            "text/plain": [
              "array([[0.41183533, 0.68074537, 0.37055692, 0.03670698, 0.55386796,\n",
              "        0.81770587, 0.74711802, 0.35295999, 0.52606958, 0.6323025 ],\n",
              "       [0.41183533, 0.68074537, 0.37055692, 0.03670698, 0.55386796,\n",
              "        0.81770587, 0.74711802, 0.35295999, 0.52606958, 0.6323025 ],\n",
              "       [0.41183533, 0.68074537, 0.37055692, 0.03670698, 0.55386796,\n",
              "        0.81770587, 0.74711802, 0.35295999, 0.52606958, 0.6323025 ],\n",
              "       [0.41183533, 0.68074537, 0.37055692, 0.03670698, 0.55386796,\n",
              "        0.81770587, 0.74711802, 0.35295999, 0.52606958, 0.6323025 ],\n",
              "       [0.41183533, 0.68074537, 0.37055692, 0.03670698, 0.55386796,\n",
              "        0.81770587, 0.74711802, 0.35295999, 0.52606958, 0.6323025 ],\n",
              "       [0.41183533, 0.68074537, 0.37055692, 0.03670698, 0.55386796,\n",
              "        0.81770587, 0.74711802, 0.35295999, 0.52606958, 0.6323025 ],\n",
              "       [0.41183533, 0.68074537, 0.37055692, 0.03670698, 0.55386796,\n",
              "        0.81770587, 0.74711802, 0.35295999, 0.52606958, 0.6323025 ],\n",
              "       [0.41183533, 0.68074537, 0.37055692, 0.03670698, 0.55386796,\n",
              "        0.81770587, 0.74711802, 0.35295999, 0.52606958, 0.6323025 ],\n",
              "       [0.41183533, 0.68074537, 0.37055692, 0.03670698, 0.55386796,\n",
              "        0.81770587, 0.74711802, 0.35295999, 0.52606958, 0.6323025 ],\n",
              "       [0.41183533, 0.68074537, 0.37055692, 0.03670698, 0.55386796,\n",
              "        0.81770587, 0.74711802, 0.35295999, 0.52606958, 0.6323025 ],\n",
              "       [0.41183533, 0.68074537, 0.37055692, 0.03670698, 0.55386796,\n",
              "        0.81770587, 0.74711802, 0.35295999, 0.52606958, 0.6323025 ],\n",
              "       [0.41183533, 0.68074537, 0.37055692, 0.03670698, 0.55386796,\n",
              "        0.81770587, 0.74711802, 0.35295999, 0.52606958, 0.6323025 ],\n",
              "       [0.41183533, 0.68074537, 0.37055692, 0.03670698, 0.55386796,\n",
              "        0.81770587, 0.74711802, 0.35295999, 0.52606958, 0.6323025 ],\n",
              "       [0.41183533, 0.68074537, 0.37055692, 0.03670698, 0.55386796,\n",
              "        0.81770587, 0.74711802, 0.35295999, 0.52606958, 0.6323025 ],\n",
              "       [0.41183533, 0.68074537, 0.37055692, 0.03670698, 0.55386796,\n",
              "        0.81770587, 0.74711802, 0.35295999, 0.52606958, 0.6323025 ],\n",
              "       [0.41183533, 0.68074537, 0.37055692, 0.03670698, 0.55386796,\n",
              "        0.81770587, 0.74711802, 0.35295999, 0.52606958, 0.6323025 ],\n",
              "       [0.41183533, 0.68074537, 0.37055692, 0.03670698, 0.55386796,\n",
              "        0.81770587, 0.74711802, 0.35295999, 0.52606958, 0.6323025 ],\n",
              "       [0.41183533, 0.68074537, 0.37055692, 0.03670698, 0.55386796,\n",
              "        0.81770587, 0.74711802, 0.35295999, 0.52606958, 0.6323025 ],\n",
              "       [0.41183533, 0.68074537, 0.37055692, 0.03670698, 0.55386796,\n",
              "        0.81770587, 0.74711802, 0.35295999, 0.52606958, 0.6323025 ],\n",
              "       [0.41183533, 0.68074537, 0.37055692, 0.03670698, 0.55386796,\n",
              "        0.81770587, 0.74711802, 0.35295999, 0.52606958, 0.6323025 ],\n",
              "       [0.41183533, 0.68074537, 0.37055692, 0.03670698, 0.55386796,\n",
              "        0.81770587, 0.74711802, 0.35295999, 0.52606958, 0.6323025 ],\n",
              "       [0.41183533, 0.68074537, 0.37055692, 0.03670698, 0.55386796,\n",
              "        0.81770587, 0.74711802, 0.35295999, 0.52606958, 0.6323025 ],\n",
              "       [0.41183533, 0.68074537, 0.37055692, 0.03670698, 0.55386796,\n",
              "        0.81770587, 0.74711802, 0.35295999, 0.52606958, 0.6323025 ],\n",
              "       [0.41183533, 0.68074537, 0.37055692, 0.03670698, 0.55386796,\n",
              "        0.81770587, 0.74711802, 0.35295999, 0.52606958, 0.6323025 ],\n",
              "       [0.41183533, 0.68074537, 0.37055692, 0.03670698, 0.55386796,\n",
              "        0.81770587, 0.74711802, 0.35295999, 0.52606958, 0.6323025 ],\n",
              "       [0.41183533, 0.68074537, 0.37055692, 0.03670698, 0.55386796,\n",
              "        0.81770587, 0.74711802, 0.35295999, 0.52606958, 0.6323025 ],\n",
              "       [0.41183533, 0.68074537, 0.37055692, 0.03670698, 0.55386796,\n",
              "        0.81770587, 0.74711802, 0.35295999, 0.52606958, 0.6323025 ],\n",
              "       [0.41183533, 0.68074537, 0.37055692, 0.03670698, 0.55386796,\n",
              "        0.81770587, 0.74711802, 0.35295999, 0.52606958, 0.6323025 ],\n",
              "       [0.41183533, 0.68074537, 0.37055692, 0.03670698, 0.55386796,\n",
              "        0.81770587, 0.74711802, 0.35295999, 0.52606958, 0.6323025 ],\n",
              "       [0.41183533, 0.68074537, 0.37055692, 0.03670698, 0.55386796,\n",
              "        0.81770587, 0.74711802, 0.35295999, 0.52606958, 0.6323025 ],\n",
              "       [0.41183533, 0.68074537, 0.37055692, 0.03670698, 0.55386796,\n",
              "        0.81770587, 0.74711802, 0.35295999, 0.52606958, 0.6323025 ],\n",
              "       [0.41183533, 0.68074537, 0.37055692, 0.03670698, 0.55386796,\n",
              "        0.81770587, 0.74711802, 0.35295999, 0.52606958, 0.6323025 ]])"
            ]
          },
          "metadata": {},
          "execution_count": 93
        }
      ]
    },
    {
      "cell_type": "code",
      "source": [
        "#Broadcasting\n",
        "X+Y"
      ],
      "metadata": {
        "colab": {
          "base_uri": "https://localhost:8080/"
        },
        "id": "iIqxSDmR5Lr4",
        "outputId": "eab67089-814f-48a2-a652-6e5065ebf518"
      },
      "execution_count": null,
      "outputs": [
        {
          "output_type": "execute_result",
          "data": {
            "text/plain": [
              "array([[1.40711297, 1.5362073 , 0.69323032, 0.27108327, 1.02940284,\n",
              "        0.86118765, 1.06332123, 0.93794372, 0.58471984, 1.01713182],\n",
              "       [0.79008604, 1.30197668, 1.24317164, 0.47923176, 1.15838061,\n",
              "        1.51526376, 1.36558489, 1.08515994, 1.13528477, 0.82367807],\n",
              "       [0.68381132, 0.87734387, 1.16116097, 0.87233079, 1.18713905,\n",
              "        1.22301189, 1.28576607, 1.23155103, 1.16413361, 0.81261764],\n",
              "       [0.44377158, 1.58130595, 0.46058925, 0.66290831, 1.27832979,\n",
              "        1.02887804, 1.1940332 , 1.15247904, 1.02512192, 0.81717425],\n",
              "       [0.89523143, 1.57967735, 0.58593601, 0.7562317 , 0.90644266,\n",
              "        1.68495869, 0.94647669, 1.15553674, 1.24182729, 0.95311661],\n",
              "       [1.01549207, 1.54793226, 1.31730839, 0.0830901 , 1.35159072,\n",
              "        1.2657137 , 0.82341712, 0.59307457, 0.95709977, 1.52112173],\n",
              "       [0.51989263, 1.02876425, 1.15440098, 0.38933025, 1.09325437,\n",
              "        1.5597344 , 1.40668852, 1.09498831, 0.73667007, 1.21465174],\n",
              "       [0.8805026 , 1.31610221, 1.28404889, 0.65433861, 1.37942265,\n",
              "        0.97734674, 1.74281154, 1.26453619, 0.62539639, 1.45024267],\n",
              "       [0.72111764, 0.82568041, 1.26353947, 0.28819352, 1.52657438,\n",
              "        1.69171095, 1.32857164, 1.19279611, 0.88603892, 0.91545253],\n",
              "       [1.3559857 , 1.52785772, 0.55015366, 0.16134283, 0.98423158,\n",
              "        1.05801175, 1.03960192, 0.39052068, 1.27795726, 0.96930968],\n",
              "       [1.14427383, 0.97818028, 0.89187653, 0.07107186, 0.95494725,\n",
              "        0.9267594 , 1.17873609, 1.34220829, 0.93236168, 1.35751365],\n",
              "       [0.62254697, 1.15499183, 0.93836577, 0.71677611, 1.35664394,\n",
              "        1.46815991, 1.28301451, 1.26630144, 0.93779839, 1.34295205],\n",
              "       [0.68317568, 0.77559363, 0.52895597, 0.8311888 , 1.42085007,\n",
              "        1.10414256, 1.33892512, 0.89215667, 1.33164467, 1.21809454],\n",
              "       [0.98892592, 0.71985033, 0.63123986, 0.61562237, 1.46788473,\n",
              "        1.24598709, 1.28157932, 1.31752621, 1.0354597 , 1.60452986],\n",
              "       [1.38406021, 0.68202265, 1.04727058, 0.59020727, 1.34629878,\n",
              "        1.33209869, 1.17355329, 0.96036527, 0.67433344, 0.72920637],\n",
              "       [1.02106221, 0.78189659, 1.25991493, 0.85795626, 1.34486886,\n",
              "        1.55279967, 1.30039269, 0.65284094, 1.0866337 , 1.07376745],\n",
              "       [1.32717622, 0.90228361, 0.43194537, 0.52719258, 1.11159827,\n",
              "        1.56995289, 1.0540598 , 0.46935719, 1.33244873, 0.93280442],\n",
              "       [0.52769573, 0.76490417, 0.52216679, 0.24573932, 1.2638448 ,\n",
              "        1.57975058, 1.70098547, 0.47201145, 0.79262153, 1.37574475],\n",
              "       [1.13542136, 1.28273275, 0.65461097, 0.86182382, 1.51472613,\n",
              "        1.32413463, 1.02383539, 1.18475144, 0.8141699 , 1.46788512],\n",
              "       [0.43310455, 1.5527641 , 0.47879702, 0.3719012 , 0.60527756,\n",
              "        1.39037564, 1.66664727, 1.26992419, 1.05515314, 1.52321018],\n",
              "       [1.12271323, 1.36619282, 0.62947849, 0.92604368, 0.59497842,\n",
              "        0.96820614, 1.69283538, 0.95094713, 1.4158391 , 1.61787367],\n",
              "       [0.8042614 , 1.38356391, 1.22731328, 0.21935143, 1.404444  ,\n",
              "        1.32486071, 1.07580594, 0.98302645, 0.82030907, 1.00164462],\n",
              "       [0.60470938, 0.90578104, 1.22318797, 0.36599257, 1.28531468,\n",
              "        1.29763685, 0.91540683, 0.52963956, 0.9484783 , 0.68690095],\n",
              "       [0.75600328, 1.46482855, 0.68207632, 0.71587428, 1.1722303 ,\n",
              "        1.36780312, 1.52013707, 1.30038909, 0.95711293, 1.59671149],\n",
              "       [0.88905926, 1.31235542, 1.29695379, 0.94580483, 0.89322621,\n",
              "        1.54386077, 1.42330641, 0.77258545, 0.54557078, 0.79452157],\n",
              "       [0.53562339, 1.24085173, 0.4046345 , 0.8631807 , 1.23928559,\n",
              "        0.88551237, 1.52739536, 1.33262818, 0.68943491, 0.91906169],\n",
              "       [0.99786965, 1.45771669, 1.11615899, 0.36587031, 1.32093335,\n",
              "        1.6601912 , 1.15349383, 0.54993881, 0.9604358 , 0.92383361],\n",
              "       [1.35975923, 1.04922918, 0.51128785, 0.56302129, 0.95153885,\n",
              "        1.54172535, 1.71788534, 1.21558078, 0.69351441, 0.8584208 ],\n",
              "       [1.27337503, 1.5604617 , 0.67157411, 0.06378035, 0.90824741,\n",
              "        1.31103343, 0.99231606, 0.7002689 , 0.95555703, 1.54827078],\n",
              "       [1.03563163, 0.74529197, 0.40382363, 0.51313237, 1.00392743,\n",
              "        1.28103201, 1.5478267 , 0.99833588, 0.87746906, 1.36951684],\n",
              "       [1.17227615, 1.44029288, 0.51451933, 0.46970859, 0.57596016,\n",
              "        1.35996178, 1.13590327, 0.78304128, 1.29944176, 1.43062031],\n",
              "       [0.78481587, 0.87085097, 0.73544364, 0.15676428, 1.48831529,\n",
              "        1.78554256, 0.78273018, 1.22747669, 1.51775527, 1.59195125]])"
            ]
          },
          "metadata": {},
          "execution_count": 94
        }
      ]
    },
    {
      "cell_type": "code",
      "source": [],
      "metadata": {
        "id": "pbxf3S0s5UKN"
      },
      "execution_count": null,
      "outputs": []
    }
  ]
}