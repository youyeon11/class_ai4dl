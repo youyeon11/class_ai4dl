{
  "cells": [
    {
      "cell_type": "markdown",
      "metadata": {
        "id": "view-in-github",
        "colab_type": "text"
      },
      "source": [
        "<a href=\"https://colab.research.google.com/github/youyeon11/class_ai4dl/blob/main/chapter07_working_with_keras_i%EC%9D%98_%EC%82%AC%EB%B3%B8.ipynb\" target=\"_parent\"><img src=\"https://colab.research.google.com/assets/colab-badge.svg\" alt=\"Open In Colab\"/></a>"
      ]
    },
    {
      "cell_type": "markdown",
      "metadata": {
        "id": "Kr01og5ST-cc"
      },
      "source": [
        "This is a companion notebook for the book [Deep Learning with Python, Second Edition](https://www.manning.com/books/deep-learning-with-python-second-edition?a_aid=keras&a_bid=76564dff). For readability, it only contains runnable code blocks and section titles, and omits everything else in the book: text paragraphs, figures, and pseudocode.\n",
        "\n",
        "**If you want to be able to follow what's going on, I recommend reading the notebook side by side with your copy of the book.**\n",
        "\n",
        "This notebook was generated for TensorFlow 2.6."
      ]
    },
    {
      "cell_type": "markdown",
      "metadata": {
        "id": "jWGnZqCnT-cq"
      },
      "source": [
        "# Working with Keras: A deep dive"
      ]
    },
    {
      "cell_type": "markdown",
      "metadata": {
        "id": "tq0W6rNfT-cs"
      },
      "source": [
        "## A spectrum of workflows"
      ]
    },
    {
      "cell_type": "markdown",
      "metadata": {
        "id": "hQMIgt1kT-ct"
      },
      "source": [
        "## Different ways to build Keras models"
      ]
    },
    {
      "cell_type": "markdown",
      "metadata": {
        "id": "wrA-oiKuT-cu"
      },
      "source": [
        "### The Sequential model"
      ]
    },
    {
      "cell_type": "markdown",
      "metadata": {
        "id": "7UkK3N1bT-cw"
      },
      "source": [
        "**The `Sequential` class**"
      ]
    },
    {
      "cell_type": "code",
      "execution_count": 1,
      "metadata": {
        "id": "EMtIFP_pT-cx"
      },
      "outputs": [],
      "source": [
        "from tensorflow import keras\n",
        "from tensorflow.keras import layers\n",
        "\n",
        "model = keras.Sequential([\n",
        "    layers.Dense(64, activation=\"relu\"),\n",
        "    layers.Dense(10, activation=\"softmax\")\n",
        "])"
      ]
    },
    {
      "cell_type": "markdown",
      "metadata": {
        "id": "zP-jUr2AT-c1"
      },
      "source": [
        "**Incrementally building a Sequential model**"
      ]
    },
    {
      "cell_type": "code",
      "execution_count": 2,
      "metadata": {
        "id": "wCyGiaasT-c3"
      },
      "outputs": [],
      "source": [
        "model = keras.Sequential()\n",
        "model.add(layers.Dense(64, activation=\"relu\"))\n",
        "model.add(layers.Dense(10, activation=\"softmax\"))"
      ]
    },
    {
      "cell_type": "markdown",
      "metadata": {
        "id": "-n3zvv0AT-c6"
      },
      "source": [
        "**Calling a model for the first time to build it**"
      ]
    },
    {
      "cell_type": "code",
      "execution_count": 3,
      "metadata": {
        "id": "Wbiva_gVT-c7",
        "colab": {
          "base_uri": "https://localhost:8080/"
        },
        "outputId": "6bfb1329-5902-4fea-88db-b0b385897e2c"
      },
      "outputs": [
        {
          "output_type": "execute_result",
          "data": {
            "text/plain": [
              "[<tf.Variable 'dense_2/kernel:0' shape=(3, 64) dtype=float32, numpy=\n",
              " array([[-0.10482065,  0.01334754, -0.06363113, -0.11386728, -0.16028786,\n",
              "         -0.22292076,  0.18841958, -0.09970026, -0.12530963,  0.02449799,\n",
              "          0.028649  ,  0.12525827, -0.28174466, -0.10643332,  0.1361241 ,\n",
              "          0.10308033, -0.07380392, -0.12290187,  0.02799246, -0.06422667,\n",
              "         -0.00626686,  0.26208776,  0.11670592,  0.09746659,  0.00162771,\n",
              "          0.06465632,  0.15375027, -0.20035222, -0.27915588,  0.17651248,\n",
              "          0.1035884 ,  0.07056689,  0.02766269, -0.2174435 , -0.29322296,\n",
              "         -0.08504607,  0.03217927, -0.12662442,  0.29283774, -0.02650955,\n",
              "          0.13375923, -0.05317867,  0.09201792,  0.11699423,  0.03455549,\n",
              "         -0.2195451 , -0.1459396 ,  0.06826171,  0.0659405 ,  0.1516439 ,\n",
              "         -0.1862121 ,  0.15848789,  0.15534347, -0.01553348,  0.16393298,\n",
              "          0.25585222,  0.19656688,  0.27198488,  0.11473808, -0.13698699,\n",
              "         -0.2268575 , -0.29748726,  0.10488665, -0.20635718],\n",
              "        [ 0.10483056,  0.06948105, -0.07739897, -0.1529026 , -0.1537216 ,\n",
              "          0.14432779, -0.16711694, -0.24934435, -0.04525667, -0.03859246,\n",
              "          0.05596194,  0.08567041, -0.23216304,  0.09281132,  0.02783954,\n",
              "          0.08961922, -0.06560554,  0.12147415, -0.06417795, -0.13155174,\n",
              "         -0.03151402, -0.16008943,  0.11971536, -0.04631919, -0.03484359,\n",
              "         -0.08144794, -0.17846754, -0.177924  , -0.07043539,  0.04862618,\n",
              "         -0.09003882, -0.253936  , -0.2767581 ,  0.1129317 , -0.08528286,\n",
              "          0.27435154,  0.11130005, -0.19227704,  0.16760337,  0.27051663,\n",
              "          0.23785043, -0.18060118,  0.01698798, -0.16462827, -0.21289973,\n",
              "         -0.28222254,  0.06314781,  0.00826782, -0.08530599,  0.24870223,\n",
              "         -0.18348134, -0.2113438 ,  0.0918743 ,  0.17710608,  0.13160539,\n",
              "          0.09990773, -0.21642321, -0.21122122, -0.16737671, -0.23137957,\n",
              "          0.19462565, -0.06895751,  0.15716931, -0.27672878],\n",
              "        [ 0.23526025, -0.28544465,  0.12323064, -0.1337743 , -0.25602782,\n",
              "         -0.05317381,  0.21899176,  0.2875548 , -0.19489585,  0.00709629,\n",
              "          0.28845978, -0.25440946,  0.27973908,  0.26663047,  0.1670503 ,\n",
              "          0.28697544,  0.2542081 ,  0.03824699,  0.15563822, -0.05771515,\n",
              "         -0.04446551,  0.09362608,  0.19867712,  0.21045274,  0.00763589,\n",
              "          0.28548276, -0.24029158, -0.15871885, -0.03251895,  0.03771025,\n",
              "          0.10207504,  0.21186596,  0.03260976, -0.07320674, -0.18546209,\n",
              "          0.22459984,  0.03711885,  0.24071735, -0.13088585,  0.12029269,\n",
              "          0.22199279, -0.11131077,  0.07512477,  0.06335908,  0.03027144,\n",
              "         -0.12480685, -0.22583073,  0.0841378 , -0.17115542,  0.05059588,\n",
              "          0.15756115,  0.01355594,  0.27653694,  0.27772355, -0.28695515,\n",
              "         -0.23096034,  0.283584  , -0.2842232 , -0.18307737,  0.21341467,\n",
              "          0.25193292, -0.292115  ,  0.05155051, -0.1603278 ]],\n",
              "       dtype=float32)>,\n",
              " <tf.Variable 'dense_2/bias:0' shape=(64,) dtype=float32, numpy=\n",
              " array([0., 0., 0., 0., 0., 0., 0., 0., 0., 0., 0., 0., 0., 0., 0., 0., 0.,\n",
              "        0., 0., 0., 0., 0., 0., 0., 0., 0., 0., 0., 0., 0., 0., 0., 0., 0.,\n",
              "        0., 0., 0., 0., 0., 0., 0., 0., 0., 0., 0., 0., 0., 0., 0., 0., 0.,\n",
              "        0., 0., 0., 0., 0., 0., 0., 0., 0., 0., 0., 0., 0.], dtype=float32)>,\n",
              " <tf.Variable 'dense_3/kernel:0' shape=(64, 10) dtype=float32, numpy=\n",
              " array([[ 2.04337329e-01,  1.23585880e-01, -1.99745655e-01,\n",
              "          1.68290019e-01, -1.46057904e-01,  2.43885070e-01,\n",
              "         -2.40511894e-02,  2.69073695e-01, -1.19680554e-01,\n",
              "          9.87880230e-02],\n",
              "        [-8.81451368e-03, -2.69622803e-02, -1.81339234e-01,\n",
              "         -1.61961257e-01,  1.95926428e-02, -1.76083148e-02,\n",
              "         -3.44484746e-02,  2.60576457e-01,  8.85623097e-02,\n",
              "          1.78316474e-01],\n",
              "        [-1.45639569e-01, -5.28027564e-02, -4.96879220e-03,\n",
              "         -6.85109347e-02,  1.20221704e-01,  8.29514861e-03,\n",
              "          1.32520348e-01,  1.24596000e-01, -1.16725892e-01,\n",
              "         -2.58480430e-01],\n",
              "        [ 2.68730730e-01, -2.31586650e-01, -2.38466799e-01,\n",
              "          2.61955470e-01, -6.07907921e-02, -1.55620277e-01,\n",
              "          5.01679778e-02,  2.01614201e-02,  1.85063213e-01,\n",
              "          1.03990227e-01],\n",
              "        [ 1.29504174e-01,  8.08036327e-03,  4.18278575e-03,\n",
              "         -2.44701594e-01, -1.89959735e-01, -1.72169462e-01,\n",
              "         -7.84613043e-02,  2.55429536e-01,  1.13816828e-01,\n",
              "          4.93874550e-02],\n",
              "        [-1.03004217e-01, -5.89162111e-03,  4.10560369e-02,\n",
              "          1.44994199e-01, -2.14993954e-04, -1.90662235e-01,\n",
              "         -8.26918036e-02, -1.27926081e-01,  1.84881210e-01,\n",
              "         -1.00086004e-01],\n",
              "        [-2.43872881e-01,  1.52051210e-01,  1.98732764e-01,\n",
              "         -2.16172040e-01, -1.08651087e-01, -2.42528334e-01,\n",
              "         -2.30784133e-01, -1.17180943e-01,  4.04187739e-02,\n",
              "         -8.50072354e-02],\n",
              "        [-8.01493526e-02,  5.02434075e-02,  1.19586855e-01,\n",
              "          2.65915662e-01,  2.00972676e-01, -2.83799052e-01,\n",
              "         -9.43133980e-02, -2.15196013e-02,  2.50241846e-01,\n",
              "          1.29516244e-01],\n",
              "        [-1.02792338e-01,  2.67965883e-01,  5.82587421e-02,\n",
              "         -6.55668527e-02, -4.89368141e-02,  3.35763693e-02,\n",
              "         -1.49012774e-01,  1.54574662e-01, -2.17820793e-01,\n",
              "         -1.76826388e-01],\n",
              "        [-1.32255509e-01,  6.21575415e-02, -1.87570706e-01,\n",
              "         -1.81500345e-01,  1.28360033e-01,  1.68382615e-01,\n",
              "          4.73691821e-02, -2.79927343e-01, -2.04858869e-01,\n",
              "          1.12200409e-01],\n",
              "        [ 2.74533302e-01, -1.41776338e-01,  1.07089639e-01,\n",
              "         -4.81801927e-02,  1.22462362e-01, -3.41406465e-03,\n",
              "          2.06721067e-01,  1.73836648e-02,  2.68599480e-01,\n",
              "         -4.88503277e-02],\n",
              "        [-2.49488533e-01,  1.74350947e-01,  2.34944969e-01,\n",
              "         -1.57664686e-01, -1.04716718e-02, -1.48674339e-01,\n",
              "         -7.67422765e-02, -2.67823607e-01,  1.11237854e-01,\n",
              "         -5.97016513e-02],\n",
              "        [-1.75653189e-01,  2.73759872e-01, -1.40911430e-01,\n",
              "          2.67844588e-01, -1.18016258e-01,  9.58208144e-02,\n",
              "          8.47201347e-02,  2.77212858e-02,  2.13846356e-01,\n",
              "         -1.10679209e-01],\n",
              "        [-2.25227892e-01,  2.66906708e-01,  2.87231803e-03,\n",
              "         -2.68022925e-01, -2.47986406e-01,  1.20258689e-01,\n",
              "          2.14873642e-01,  1.00787967e-01,  1.78750277e-01,\n",
              "         -8.80578309e-02],\n",
              "        [-1.76851228e-01,  2.56003171e-01,  2.68758982e-01,\n",
              "         -1.72183454e-01,  1.42709732e-01, -2.21847355e-01,\n",
              "          3.50024402e-02, -2.64316976e-01, -4.14425433e-02,\n",
              "         -9.35376287e-02],\n",
              "        [-6.23738915e-02, -3.51818055e-02,  7.02530444e-02,\n",
              "         -3.12696993e-02, -4.46164906e-02, -1.66740105e-01,\n",
              "          2.40320772e-01,  1.04543328e-01, -4.33569402e-02,\n",
              "         -1.08043626e-01],\n",
              "        [ 1.42123252e-01, -5.51541597e-02,  2.02587783e-01,\n",
              "          2.03170538e-01,  2.35963315e-01,  2.13356823e-01,\n",
              "         -1.38090238e-01,  8.23366642e-03,  6.29705191e-02,\n",
              "          1.02331012e-01],\n",
              "        [-9.99938697e-02,  9.31579173e-02, -2.82669574e-01,\n",
              "          2.23264694e-02, -1.70700818e-01,  1.30743146e-01,\n",
              "          2.33391374e-01,  2.05305040e-01, -1.70730203e-01,\n",
              "          2.82773167e-01],\n",
              "        [-2.15096116e-01, -1.54289037e-01,  2.13045478e-02,\n",
              "         -2.16307670e-01,  2.01018989e-01, -2.32980013e-01,\n",
              "          9.03664529e-02,  5.25815785e-02, -7.00709522e-02,\n",
              "         -1.53714761e-01],\n",
              "        [ 8.48754644e-02,  2.71099061e-01, -1.88086331e-01,\n",
              "         -7.79713392e-02, -2.65967846e-03,  4.27809060e-02,\n",
              "         -1.16932064e-01, -2.58877575e-01, -4.03844267e-02,\n",
              "          1.66554421e-01],\n",
              "        [-1.24401495e-01,  2.07394034e-01,  2.22094268e-01,\n",
              "         -3.16908956e-02,  1.69582605e-01, -8.87575746e-03,\n",
              "          4.81662750e-02,  1.49064034e-01, -1.29563913e-01,\n",
              "         -2.39913926e-01],\n",
              "        [ 9.93803740e-02, -2.71515280e-01, -4.72579896e-02,\n",
              "          3.03208828e-02, -8.32822323e-02,  1.68080777e-01,\n",
              "          3.22272182e-02, -6.27584904e-02,  2.29172975e-01,\n",
              "          1.58994168e-01],\n",
              "        [ 1.61804289e-01, -1.17179453e-01,  2.42650121e-01,\n",
              "          4.09187675e-02, -2.35020280e-01, -1.91537529e-01,\n",
              "          2.63404816e-01,  1.33288920e-01,  3.61056328e-02,\n",
              "          6.94478154e-02],\n",
              "        [-1.78842247e-02, -1.98850408e-01, -9.04953480e-03,\n",
              "         -5.57614267e-02,  1.25796884e-01,  5.93794584e-02,\n",
              "         -2.84332395e-01,  2.60521919e-01,  1.08257741e-01,\n",
              "         -1.21168002e-01],\n",
              "        [ 3.22251618e-02, -5.11205196e-03, -2.52749175e-01,\n",
              "         -1.73589498e-01, -1.01183772e-01, -3.53423655e-02,\n",
              "          2.40428776e-01, -1.96573436e-02, -2.11483538e-01,\n",
              "         -1.51428401e-01],\n",
              "        [ 1.47047937e-01, -2.79288977e-01, -2.30911627e-01,\n",
              "         -2.39849299e-01, -1.21178865e-01,  1.47182494e-01,\n",
              "          1.49294049e-01,  7.87250400e-02,  4.94146943e-02,\n",
              "         -1.49595737e-02],\n",
              "        [-7.06605762e-02,  1.22313440e-01,  2.47965425e-01,\n",
              "          1.05243385e-01, -2.55771518e-01,  1.22014165e-01,\n",
              "          8.34336281e-02,  2.38724023e-01,  9.46135223e-02,\n",
              "         -4.78807390e-02],\n",
              "        [ 1.01846695e-01,  1.29892707e-01,  1.77214652e-01,\n",
              "         -1.32375658e-02,  9.60353315e-02, -2.76759565e-01,\n",
              "          1.12420976e-01, -2.42741510e-01,  1.03015602e-02,\n",
              "          2.32982308e-01],\n",
              "        [-2.53687114e-01,  1.86215103e-01,  7.68320262e-02,\n",
              "          2.81811982e-01, -9.00958478e-02, -2.13492811e-02,\n",
              "          1.27364159e-01,  2.40102679e-01,  1.03416711e-01,\n",
              "         -2.68111646e-01],\n",
              "        [ 1.70142353e-01, -6.37031645e-02,  1.44924551e-01,\n",
              "          1.31189823e-03, -2.13218316e-01,  1.90603048e-01,\n",
              "          6.15456402e-02,  2.40043610e-01, -2.84421444e-03,\n",
              "         -2.58221298e-01],\n",
              "        [ 1.87108517e-02,  1.48409039e-01,  6.89953864e-02,\n",
              "          2.35420913e-01, -1.55422315e-01,  1.48945004e-01,\n",
              "         -1.47625729e-01,  1.63541704e-01, -2.14900881e-01,\n",
              "          1.64301932e-01],\n",
              "        [-1.57994434e-01, -3.76978517e-02, -5.81592321e-04,\n",
              "          1.96560502e-01, -2.21806765e-03, -1.24818668e-01,\n",
              "         -1.33842275e-01,  2.83057064e-01, -1.44992247e-01,\n",
              "          6.69249892e-02],\n",
              "        [ 2.78630853e-03,  2.24950910e-03, -1.68212354e-01,\n",
              "          1.14844739e-01, -2.34231815e-01, -2.76955426e-01,\n",
              "         -1.75808936e-01,  7.40722716e-02,  1.06983393e-01,\n",
              "          2.57991642e-01],\n",
              "        [ 4.43740487e-02,  2.27946341e-02,  5.20788729e-02,\n",
              "         -1.70345351e-01, -9.89737064e-02, -9.46106762e-02,\n",
              "         -1.80490151e-01, -1.44803792e-01, -2.43814349e-01,\n",
              "         -1.27248690e-01],\n",
              "        [ 6.11707568e-02,  2.40302980e-02,  2.24920720e-01,\n",
              "          5.17484546e-03,  1.01085931e-01, -2.71478474e-01,\n",
              "          2.24497288e-01, -2.12214500e-01, -6.63387477e-02,\n",
              "          1.27809525e-01],\n",
              "        [ 5.38954437e-02,  6.94349408e-03,  2.05841482e-01,\n",
              "         -8.42844844e-02, -1.47758052e-01,  1.01879567e-01,\n",
              "          1.20082051e-01, -2.70990223e-01, -1.40634447e-01,\n",
              "          2.22035259e-01],\n",
              "        [ 1.97485507e-01,  1.86139882e-01, -5.15455157e-02,\n",
              "          1.26451254e-01,  2.26667494e-01,  1.03374958e-01,\n",
              "         -1.23091027e-01,  2.43222922e-01, -1.12330019e-02,\n",
              "         -1.88298553e-01],\n",
              "        [ 2.83864707e-01, -1.56595036e-01, -2.76042461e-01,\n",
              "         -5.02127409e-03, -2.53388882e-01, -1.31086528e-01,\n",
              "         -2.60825455e-01, -1.50066018e-02,  2.27537960e-01,\n",
              "          5.17117977e-03],\n",
              "        [ 2.52832741e-01,  8.01036656e-02, -1.61408365e-01,\n",
              "          2.64789850e-01, -1.37719974e-01, -2.14550853e-01,\n",
              "          4.01422083e-02,  1.39288604e-01,  1.98008716e-02,\n",
              "         -1.34616420e-01],\n",
              "        [-1.18066221e-01,  1.57450557e-01, -2.84315467e-01,\n",
              "          8.92217755e-02, -1.15206465e-01, -1.07383132e-01,\n",
              "         -5.72414100e-02, -5.52350283e-02,  2.38690883e-01,\n",
              "         -1.43268615e-01],\n",
              "        [ 1.15222692e-01,  7.22758472e-02,  2.84616023e-01,\n",
              "         -2.41463631e-01,  8.68100822e-02,  6.40141666e-02,\n",
              "         -1.72391728e-01, -2.77438730e-01,  1.68876648e-01,\n",
              "         -8.57639164e-02],\n",
              "        [-9.19902921e-02, -1.49556220e-01, -1.90710574e-01,\n",
              "          1.91414654e-02,  6.29844368e-02, -1.36581883e-01,\n",
              "          5.63963950e-02,  5.76108098e-02,  1.51793063e-02,\n",
              "          2.25774199e-01],\n",
              "        [ 2.22731203e-01,  2.51497716e-01,  2.51497626e-02,\n",
              "          2.33477861e-01, -2.24626184e-01,  2.32625902e-02,\n",
              "          2.63383657e-01, -1.75058752e-01,  2.05888331e-01,\n",
              "          2.66851038e-01],\n",
              "        [ 1.55916274e-01, -2.79468149e-01,  8.34127963e-02,\n",
              "          1.06732339e-01,  9.84044671e-02,  2.34655172e-01,\n",
              "         -2.05573395e-01,  2.29171067e-01, -1.87633157e-01,\n",
              "          1.98591143e-01],\n",
              "        [-1.46750703e-01,  1.39029205e-01, -1.04682028e-01,\n",
              "         -3.27158868e-02,  2.37830669e-01, -2.78794259e-01,\n",
              "         -2.50663012e-01,  1.83106333e-01,  2.44577974e-01,\n",
              "          2.42408365e-01],\n",
              "        [-7.32874721e-02, -1.59562871e-01,  2.37946838e-01,\n",
              "          4.47117388e-02,  5.96717000e-03,  3.12376618e-02,\n",
              "         -1.19686738e-01, -1.52736485e-01, -1.69769913e-01,\n",
              "          2.66609818e-01],\n",
              "        [-6.57409281e-02,  5.53101301e-04,  1.14684731e-01,\n",
              "          1.47811800e-01, -3.48911732e-02, -1.83914408e-01,\n",
              "          2.48650759e-01,  1.53396994e-01, -6.72767758e-02,\n",
              "         -7.99053013e-02],\n",
              "        [-1.81931645e-01,  1.12746149e-01, -1.40953794e-01,\n",
              "         -7.45834112e-02, -8.27614516e-02,  2.08438665e-01,\n",
              "         -3.67698073e-02,  1.48225725e-02,  6.33116364e-02,\n",
              "          2.54589230e-01],\n",
              "        [ 1.70834064e-02, -1.83957383e-01, -6.69399798e-02,\n",
              "         -1.08806148e-01,  6.91235065e-04, -2.37691239e-01,\n",
              "         -4.25577164e-05,  1.81654662e-01,  1.55920088e-02,\n",
              "         -4.54069227e-02],\n",
              "        [-1.94285423e-01, -1.69852465e-01, -2.53658950e-01,\n",
              "         -1.98454469e-01,  9.35389698e-02, -7.54881650e-02,\n",
              "         -1.83962464e-01,  1.84504986e-02, -1.98457271e-01,\n",
              "          7.17324615e-02],\n",
              "        [ 4.59627211e-02,  1.93737000e-01,  1.67001069e-01,\n",
              "          2.69259512e-02,  3.95275950e-02,  2.57915258e-02,\n",
              "          1.35394424e-01,  9.83196795e-02, -2.08281159e-01,\n",
              "          1.10632986e-01],\n",
              "        [ 2.36792058e-01, -4.59462404e-02, -5.77507168e-02,\n",
              "         -1.70043722e-01,  2.60909706e-01,  1.87337995e-01,\n",
              "         -2.58034945e-01, -1.51215360e-01, -7.22216070e-02,\n",
              "          1.72309458e-01],\n",
              "        [ 1.45109087e-01,  2.42605776e-01, -1.70378268e-01,\n",
              "          7.21446872e-02, -1.91227764e-01, -1.98749319e-01,\n",
              "         -5.26868105e-02, -1.86516866e-01, -1.29093915e-01,\n",
              "         -1.78279877e-01],\n",
              "        [-2.07249165e-01, -1.80818528e-01, -2.63589770e-01,\n",
              "         -1.90319806e-01,  1.78812474e-01, -1.89020813e-01,\n",
              "         -2.09005594e-01, -2.22922519e-01, -2.77940571e-01,\n",
              "          2.62746364e-01],\n",
              "        [ 2.54040092e-01,  1.34714246e-01, -3.82982641e-02,\n",
              "          1.07334375e-01,  1.15153432e-01, -2.15676442e-01,\n",
              "         -8.63001794e-02,  8.29620063e-02, -2.48173043e-01,\n",
              "         -2.78074026e-01],\n",
              "        [ 2.69262344e-01, -2.27694228e-01, -1.98444635e-01,\n",
              "         -1.25331774e-01, -5.77051044e-02,  6.29852414e-02,\n",
              "         -2.06652492e-01,  2.11353600e-01, -2.11754501e-01,\n",
              "         -1.35598645e-01],\n",
              "        [ 2.26201624e-01,  2.20605522e-01,  3.75029445e-02,\n",
              "          3.09565365e-02,  2.46651143e-01,  1.66976571e-01,\n",
              "          4.35463488e-02,  3.86848748e-02, -8.31211358e-02,\n",
              "         -2.11376548e-02],\n",
              "        [-9.82477665e-02,  2.69571155e-01,  6.00819588e-02,\n",
              "          2.21614212e-01, -5.18886298e-02,  3.06633115e-03,\n",
              "          2.79813260e-01,  1.17693245e-02,  1.75592422e-01,\n",
              "          8.44778419e-02],\n",
              "        [ 2.19814032e-01, -2.69091219e-01,  5.33914566e-03,\n",
              "         -5.29931188e-02, -3.66412848e-02,  1.84366345e-01,\n",
              "         -9.95501578e-02, -1.98992640e-01,  1.53789103e-01,\n",
              "         -1.86764047e-01],\n",
              "        [ 1.37068301e-01, -1.15842789e-01,  1.15198046e-01,\n",
              "          9.83080268e-03,  1.37740254e-01, -2.67626941e-02,\n",
              "         -2.60659456e-02,  6.58835471e-02, -7.52432942e-02,\n",
              "         -1.83877885e-01],\n",
              "        [-7.85793513e-02,  2.15879679e-02,  1.90329850e-01,\n",
              "         -2.12818995e-01, -1.10512406e-01, -1.96914554e-01,\n",
              "         -4.08773720e-02, -7.74660408e-02, -2.80794501e-03,\n",
              "          8.62987638e-02],\n",
              "        [-1.73341498e-01, -2.82159925e-01, -1.91757619e-01,\n",
              "          1.87330991e-01, -1.51571169e-01,  2.52441376e-01,\n",
              "         -8.29695463e-02, -4.80552167e-02,  1.21020406e-01,\n",
              "         -9.99037921e-02],\n",
              "        [-1.02563277e-01, -1.46671280e-01,  4.63760495e-02,\n",
              "          2.17408627e-01,  1.88561350e-01,  2.73761421e-01,\n",
              "          2.65447706e-01, -2.58137375e-01, -1.94643945e-01,\n",
              "          3.83721888e-02],\n",
              "        [ 2.61232227e-01,  2.03383714e-01,  1.74382240e-01,\n",
              "          1.30454749e-01, -1.56037122e-01, -2.58704454e-01,\n",
              "          1.70706123e-01,  1.89670384e-01,  3.52179408e-02,\n",
              "          3.87505293e-02]], dtype=float32)>,\n",
              " <tf.Variable 'dense_3/bias:0' shape=(10,) dtype=float32, numpy=array([0., 0., 0., 0., 0., 0., 0., 0., 0., 0.], dtype=float32)>]"
            ]
          },
          "metadata": {},
          "execution_count": 3
        }
      ],
      "source": [
        "model.build(input_shape=(None, 3))\n",
        "model.weights"
      ]
    },
    {
      "cell_type": "markdown",
      "metadata": {
        "id": "dPGdW67ET-c8"
      },
      "source": [
        "**The summary method**"
      ]
    },
    {
      "cell_type": "code",
      "execution_count": 4,
      "metadata": {
        "id": "mE_KWHg4T-c9",
        "colab": {
          "base_uri": "https://localhost:8080/"
        },
        "outputId": "01c87d53-258f-409c-9a1e-6895b2780464"
      },
      "outputs": [
        {
          "output_type": "stream",
          "name": "stdout",
          "text": [
            "Model: \"sequential_1\"\n",
            "_________________________________________________________________\n",
            " Layer (type)                Output Shape              Param #   \n",
            "=================================================================\n",
            " dense_2 (Dense)             (None, 64)                256       \n",
            "                                                                 \n",
            " dense_3 (Dense)             (None, 10)                650       \n",
            "                                                                 \n",
            "=================================================================\n",
            "Total params: 906\n",
            "Trainable params: 906\n",
            "Non-trainable params: 0\n",
            "_________________________________________________________________\n"
          ]
        }
      ],
      "source": [
        "model.summary()"
      ]
    },
    {
      "cell_type": "markdown",
      "metadata": {
        "id": "JI5rWBO8T-c-"
      },
      "source": [
        "**Naming models and layers with the `name` argument**"
      ]
    },
    {
      "cell_type": "code",
      "execution_count": 5,
      "metadata": {
        "id": "a-KyiW4IT-c_",
        "colab": {
          "base_uri": "https://localhost:8080/"
        },
        "outputId": "8aabdbb8-aaec-4d01-fa83-1f9b04e7342e"
      },
      "outputs": [
        {
          "output_type": "stream",
          "name": "stdout",
          "text": [
            "Model: \"my_example_model\"\n",
            "_________________________________________________________________\n",
            " Layer (type)                Output Shape              Param #   \n",
            "=================================================================\n",
            " my_first_layer (Dense)      (None, 64)                256       \n",
            "                                                                 \n",
            " my_last_layer (Dense)       (None, 10)                650       \n",
            "                                                                 \n",
            "=================================================================\n",
            "Total params: 906\n",
            "Trainable params: 906\n",
            "Non-trainable params: 0\n",
            "_________________________________________________________________\n"
          ]
        }
      ],
      "source": [
        "model = keras.Sequential(name=\"my_example_model\")\n",
        "model.add(layers.Dense(64, activation=\"relu\", name=\"my_first_layer\"))\n",
        "model.add(layers.Dense(10, activation=\"softmax\", name=\"my_last_layer\"))\n",
        "model.build((None, 3))\n",
        "model.summary()"
      ]
    },
    {
      "cell_type": "markdown",
      "metadata": {
        "id": "LD_NCMqaT-dA"
      },
      "source": [
        "**Specifying the input shape of your model in advance**"
      ]
    },
    {
      "cell_type": "code",
      "execution_count": 6,
      "metadata": {
        "id": "kHUKFLNZT-dB"
      },
      "outputs": [],
      "source": [
        "model = keras.Sequential()\n",
        "model.add(keras.Input(shape=(3,)))\n",
        "model.add(layers.Dense(64, activation=\"relu\"))"
      ]
    },
    {
      "cell_type": "code",
      "execution_count": 7,
      "metadata": {
        "id": "YBsdMZ4eT-dC",
        "colab": {
          "base_uri": "https://localhost:8080/"
        },
        "outputId": "03151fdc-7355-45db-9cb5-c324e3202bbf"
      },
      "outputs": [
        {
          "output_type": "stream",
          "name": "stdout",
          "text": [
            "Model: \"sequential_2\"\n",
            "_________________________________________________________________\n",
            " Layer (type)                Output Shape              Param #   \n",
            "=================================================================\n",
            " dense_4 (Dense)             (None, 64)                256       \n",
            "                                                                 \n",
            "=================================================================\n",
            "Total params: 256\n",
            "Trainable params: 256\n",
            "Non-trainable params: 0\n",
            "_________________________________________________________________\n"
          ]
        }
      ],
      "source": [
        "model.summary()"
      ]
    },
    {
      "cell_type": "code",
      "execution_count": 8,
      "metadata": {
        "id": "uM8dpP2uT-dD",
        "colab": {
          "base_uri": "https://localhost:8080/"
        },
        "outputId": "8937b6c9-e1b2-4438-c3c6-b1611b9b17ce"
      },
      "outputs": [
        {
          "output_type": "stream",
          "name": "stdout",
          "text": [
            "Model: \"sequential_2\"\n",
            "_________________________________________________________________\n",
            " Layer (type)                Output Shape              Param #   \n",
            "=================================================================\n",
            " dense_4 (Dense)             (None, 64)                256       \n",
            "                                                                 \n",
            " dense_5 (Dense)             (None, 10)                650       \n",
            "                                                                 \n",
            "=================================================================\n",
            "Total params: 906\n",
            "Trainable params: 906\n",
            "Non-trainable params: 0\n",
            "_________________________________________________________________\n"
          ]
        }
      ],
      "source": [
        "model.add(layers.Dense(10, activation=\"softmax\"))\n",
        "model.summary()"
      ]
    },
    {
      "cell_type": "markdown",
      "metadata": {
        "id": "KFn6WWVcT-dE"
      },
      "source": [
        "### The Functional API"
      ]
    },
    {
      "cell_type": "markdown",
      "metadata": {
        "id": "_WxNjNe8T-dF"
      },
      "source": [
        "#### A simple example"
      ]
    },
    {
      "cell_type": "markdown",
      "metadata": {
        "id": "uQWmLgqGT-dF"
      },
      "source": [
        "**A simple Functional model with two `Dense` layers**"
      ]
    },
    {
      "cell_type": "code",
      "execution_count": 9,
      "metadata": {
        "id": "jVsSWaOKT-dG"
      },
      "outputs": [],
      "source": [
        "inputs = keras.Input(shape=(3,), name=\"my_input\")\n",
        "features = layers.Dense(64, activation=\"relu\")(inputs)\n",
        "outputs = layers.Dense(10, activation=\"softmax\")(features)\n",
        "model = keras.Model(inputs=inputs, outputs=outputs)"
      ]
    },
    {
      "cell_type": "code",
      "execution_count": 10,
      "metadata": {
        "id": "S-jZY2C7T-dH"
      },
      "outputs": [],
      "source": [
        "inputs = keras.Input(shape=(3,), name=\"my_input\")"
      ]
    },
    {
      "cell_type": "code",
      "execution_count": 11,
      "metadata": {
        "id": "bAFttHqDT-dJ",
        "colab": {
          "base_uri": "https://localhost:8080/"
        },
        "outputId": "0d873dc7-9787-4c15-d7af-dafcb9cef736"
      },
      "outputs": [
        {
          "output_type": "execute_result",
          "data": {
            "text/plain": [
              "TensorShape([None, 3])"
            ]
          },
          "metadata": {},
          "execution_count": 11
        }
      ],
      "source": [
        "inputs.shape"
      ]
    },
    {
      "cell_type": "code",
      "execution_count": null,
      "metadata": {
        "id": "CSDDFYEYT-dJ"
      },
      "outputs": [],
      "source": [
        "inputs.dtype"
      ]
    },
    {
      "cell_type": "code",
      "execution_count": null,
      "metadata": {
        "id": "0Ud4lOsST-dK"
      },
      "outputs": [],
      "source": [
        "features = layers.Dense(64, activation=\"relu\")(inputs)"
      ]
    },
    {
      "cell_type": "code",
      "execution_count": null,
      "metadata": {
        "id": "K8HKmjYJT-dK"
      },
      "outputs": [],
      "source": [
        "features.shape"
      ]
    },
    {
      "cell_type": "code",
      "execution_count": null,
      "metadata": {
        "id": "m43S4rqkT-dL"
      },
      "outputs": [],
      "source": [
        "outputs = layers.Dense(10, activation=\"softmax\")(features)\n",
        "model = keras.Model(inputs=inputs, outputs=outputs)"
      ]
    },
    {
      "cell_type": "code",
      "execution_count": null,
      "metadata": {
        "id": "7g_8MunpT-dL"
      },
      "outputs": [],
      "source": [
        "model.summary()"
      ]
    },
    {
      "cell_type": "markdown",
      "metadata": {
        "id": "IihIsvA5T-dM"
      },
      "source": [
        "#### Multi-input, multi-output models"
      ]
    },
    {
      "cell_type": "markdown",
      "metadata": {
        "id": "QKsprS9eT-dM"
      },
      "source": [
        "**A multi-input, multi-output Functional model**"
      ]
    },
    {
      "cell_type": "code",
      "execution_count": 24,
      "metadata": {
        "id": "JRmJNbSMT-dN"
      },
      "outputs": [],
      "source": [
        "vocabulary_size = 10000\n",
        "num_tags = 100\n",
        "num_departments = 4\n",
        "\n",
        "title = keras.Input(shape=(vocabulary_size,), name=\"title\")\n",
        "text_body = keras.Input(shape=(vocabulary_size,), name=\"text_body\")\n",
        "tags = keras.Input(shape=(num_tags,), name=\"tags\")\n",
        "\n",
        "features = layers.Concatenate()([title, text_body, tags])\n",
        "features = layers.Dense(64, activation=\"relu\")(features)\n",
        "\n",
        "priority = layers.Dense(1, activation=\"sigmoid\", name=\"priority\")(features)\n",
        "department = layers.Dense(\n",
        "    num_departments, activation=\"softmax\", name=\"department\")(features)\n",
        "\n",
        "model = keras.Model(inputs=[title, text_body, tags], outputs=[priority, department])"
      ]
    },
    {
      "cell_type": "markdown",
      "source": [
        "w7 practice\n",
        "- from multi-input, multi-output example, modify your functional model as below."
      ],
      "metadata": {
        "id": "ELUa_8aT1JAR"
      }
    },
    {
      "cell_type": "code",
      "source": [
        "#w7 prac\n",
        "\n",
        "vocabulary_size = 10000\n",
        "num_tags = 100\n",
        "num_departments = 4\n",
        "\n",
        "#multi-input 만들기\n",
        "title = keras.Input(shape=(vocabulary_size,), name=\"title\")\n",
        "text_body = keras.Input(shape=(vocabulary_size,), name=\"text_body\")\n",
        "tags = keras.Input(shape=(num_tags,), name=\"tags\")\n",
        "\n",
        "#layer 추가하기, multi-outputs\n",
        "features = layers.Concatenate()([title, text_body, tags]) #multi inputs을 concatenate하기 -> features 지정\n",
        "features = layers.Dense(64, activation=\"relu\", name='dense_11')(features) #add layer, 이전 객체를 이어 받음(feature)\n",
        "dense_11 = layers.Dense(36, activation='relu', name='dense_12')(features)\n",
        "dense_13 = layers.Dense(24, activation='relu', name='dense_13')(dense_11)\n",
        "difficulty = layers.Dense(3, activation='sigmoid', name='difficulty')(dense_11)\n",
        "priority = layers.Dense(1, activation='sigmoid', name='priority')(dense_13)\n",
        "department = layers.Dense( num_departments, activation='softmax', name='difficulty')(dense_13)\n",
        "\n",
        "model = keras.Model(inputs=[title, text_body, tags], outputs=[priority, department])\n"
      ],
      "metadata": {
        "id": "3P5QjIpb2Mp6"
      },
      "execution_count": 21,
      "outputs": []
    },
    {
      "cell_type": "code",
      "source": [
        "keras.utils.plot_model(model, \"w7.png\",show_shapes=True)"
      ],
      "metadata": {
        "colab": {
          "base_uri": "https://localhost:8080/",
          "height": 551
        },
        "id": "BFBUpr_s-X7C",
        "outputId": "dda50fdf-84fd-4380-ff46-4ac29f1557b8"
      },
      "execution_count": 23,
      "outputs": [
        {
          "output_type": "execute_result",
          "data": {
            "image/png": "[encoded data removed]",
            "text/plain": [
              "<IPython.core.display.Image object>"
            ]
          },
          "metadata": {},
          "execution_count": 23
        }
      ]
    },
    {
      "cell_type": "markdown",
      "metadata": {
        "id": "eDGW9V-qT-dO"
      },
      "source": [
        "#### Training a multi-input, multi-output model"
      ]
    },
    {
      "cell_type": "markdown",
      "metadata": {
        "id": "5DLxJGrAT-dP"
      },
      "source": [
        "**Training a model by providing lists of input & target arrays**"
      ]
    },
    {
      "cell_type": "code",
      "execution_count": 25,
      "metadata": {
        "id": "tDQyUO0hT-dP",
        "colab": {
          "base_uri": "https://localhost:8080/"
        },
        "outputId": "07720d82-4fff-4287-e018-e00113c77ca3"
      },
      "outputs": [
        {
          "output_type": "stream",
          "name": "stdout",
          "text": [
            "40/40 [==============================] - 6s 5ms/step - loss: 23.0299 - priority_loss: 0.3339 - department_loss: 22.6959 - priority_mean_absolute_error: 0.4981 - department_accuracy: 0.2555\n",
            "40/40 [==============================] - 0s 4ms/step - loss: 22.4104 - priority_loss: 0.3373 - department_loss: 22.0731 - priority_mean_absolute_error: 0.5013 - department_accuracy: 0.0672\n",
            "40/40 [==============================] - 0s 4ms/step\n"
          ]
        }
      ],
      "source": [
        "import numpy as np\n",
        "\n",
        "num_samples = 1280\n",
        "\n",
        "title_data = np.random.randint(0, 2, size=(num_samples, vocabulary_size))\n",
        "text_body_data = np.random.randint(0, 2, size=(num_samples, vocabulary_size))\n",
        "tags_data = np.random.randint(0, 2, size=(num_samples, num_tags))\n",
        "\n",
        "priority_data = np.random.random(size=(num_samples, 1))\n",
        "department_data = np.random.randint(0, 2, size=(num_samples, num_departments))\n",
        "\n",
        "model.compile(optimizer=\"rmsprop\",\n",
        "              loss=[\"mean_squared_error\", \"categorical_crossentropy\"],\n",
        "              metrics=[[\"mean_absolute_error\"], [\"accuracy\"]])\n",
        "model.fit([title_data, text_body_data, tags_data],\n",
        "          [priority_data, department_data],\n",
        "          epochs=1)\n",
        "model.evaluate([title_data, text_body_data, tags_data],\n",
        "               [priority_data, department_data])\n",
        "priority_preds, department_preds = model.predict([title_data, text_body_data, tags_data])"
      ]
    },
    {
      "cell_type": "markdown",
      "metadata": {
        "id": "vbG2UMTKT-dQ"
      },
      "source": [
        "**Training a model by providing dicts of input & target arrays**"
      ]
    },
    {
      "cell_type": "code",
      "execution_count": 26,
      "metadata": {
        "id": "32rSXqBQT-dR",
        "colab": {
          "base_uri": "https://localhost:8080/"
        },
        "outputId": "602c04cb-58a0-4bf6-8cb7-b3438a9a3a72"
      },
      "outputs": [
        {
          "output_type": "stream",
          "name": "stdout",
          "text": [
            "40/40 [==============================] - 2s 6ms/step - loss: 33.8167 - priority_loss: 0.3364 - department_loss: 33.4802 - priority_mean_absolute_error: 0.5006 - department_accuracy: 0.2500\n",
            "40/40 [==============================] - 0s 5ms/step - loss: 32.6776 - priority_loss: 0.3373 - department_loss: 32.3403 - priority_mean_absolute_error: 0.5013 - department_accuracy: 0.5578\n",
            "40/40 [==============================] - 0s 4ms/step\n"
          ]
        }
      ],
      "source": [
        "model.compile(optimizer=\"rmsprop\",\n",
        "              loss={\"priority\": \"mean_squared_error\", \"department\": \"categorical_crossentropy\"},\n",
        "              metrics={\"priority\": [\"mean_absolute_error\"], \"department\": [\"accuracy\"]})\n",
        "model.fit({\"title\": title_data, \"text_body\": text_body_data, \"tags\": tags_data},\n",
        "          {\"priority\": priority_data, \"department\": department_data},\n",
        "          epochs=1)\n",
        "model.evaluate({\"title\": title_data, \"text_body\": text_body_data, \"tags\": tags_data},\n",
        "               {\"priority\": priority_data, \"department\": department_data})\n",
        "priority_preds, department_preds = model.predict(\n",
        "    {\"title\": title_data, \"text_body\": text_body_data, \"tags\": tags_data})"
      ]
    },
    {
      "cell_type": "markdown",
      "metadata": {
        "id": "SCU7KmsfT-dS"
      },
      "source": [
        "#### The power of the Functional API: Access to layer connectivity"
      ]
    },
    {
      "cell_type": "code",
      "execution_count": null,
      "metadata": {
        "id": "faLA5VxkT-dS"
      },
      "outputs": [],
      "source": [
        "keras.utils.plot_model(model, \"ticket_classifier.png\")"
      ]
    },
    {
      "cell_type": "code",
      "execution_count": null,
      "metadata": {
        "id": "iVBv-cMMT-dT"
      },
      "outputs": [],
      "source": [
        "keras.utils.plot_model(model, \"ticket_classifier_with_shape_info.png\", show_shapes=True)"
      ]
    },
    {
      "cell_type": "markdown",
      "metadata": {
        "id": "NG1S6jIVT-dT"
      },
      "source": [
        "**Retrieving the inputs or outputs of a layer in a Functional model**"
      ]
    },
    {
      "cell_type": "code",
      "execution_count": null,
      "metadata": {
        "id": "ecurw0HpT-dU"
      },
      "outputs": [],
      "source": [
        "model.layers"
      ]
    },
    {
      "cell_type": "code",
      "execution_count": null,
      "metadata": {
        "id": "1e6wQ2r7T-dU"
      },
      "outputs": [],
      "source": [
        "model.layers[3].input"
      ]
    },
    {
      "cell_type": "code",
      "execution_count": null,
      "metadata": {
        "id": "Xxxdz2t_T-dV"
      },
      "outputs": [],
      "source": [
        "model.layers[3].output"
      ]
    },
    {
      "cell_type": "markdown",
      "metadata": {
        "id": "1Is02pRHT-dV"
      },
      "source": [
        "**Creating a new model by reusing intermediate layer outputs**"
      ]
    },
    {
      "cell_type": "code",
      "execution_count": null,
      "metadata": {
        "id": "42s6px1IT-dW"
      },
      "outputs": [],
      "source": [
        "features = model.layers[4].output\n",
        "difficulty = layers.Dense(3, activation=\"softmax\", name=\"difficulty\")(features)\n",
        "\n",
        "new_model = keras.Model(\n",
        "    inputs=[title, text_body, tags],\n",
        "    outputs=[priority, department, difficulty])"
      ]
    },
    {
      "cell_type": "code",
      "execution_count": null,
      "metadata": {
        "id": "xwBBqR2iT-dX"
      },
      "outputs": [],
      "source": [
        "keras.utils.plot_model(new_model, \"updated_ticket_classifier.png\", show_shapes=True)"
      ]
    },
    {
      "cell_type": "markdown",
      "metadata": {
        "id": "xx_R8WYgT-dX"
      },
      "source": [
        "### Subclassing the Model class"
      ]
    },
    {
      "cell_type": "markdown",
      "metadata": {
        "id": "JiJAihbeT-dY"
      },
      "source": [
        "#### Rewriting our previous example as a subclassed model"
      ]
    },
    {
      "cell_type": "markdown",
      "metadata": {
        "id": "nkYE4YT9T-dY"
      },
      "source": [
        "**A simple subclassed model**"
      ]
    },
    {
      "cell_type": "code",
      "execution_count": null,
      "metadata": {
        "id": "jnvnqJOiT-dZ"
      },
      "outputs": [],
      "source": [
        "class CustomerTicketModel(keras.Model):\n",
        "\n",
        "    def __init__(self, num_departments):\n",
        "        super().__init__()\n",
        "        self.concat_layer = layers.Concatenate()\n",
        "        self.mixing_layer = layers.Dense(64, activation=\"relu\")\n",
        "        self.priority_scorer = layers.Dense(1, activation=\"sigmoid\")\n",
        "        self.department_classifier = layers.Dense(\n",
        "            num_departments, activation=\"softmax\")\n",
        "\n",
        "    def call(self, inputs):\n",
        "        title = inputs[\"title\"]\n",
        "        text_body = inputs[\"text_body\"]\n",
        "        tags = inputs[\"tags\"]\n",
        "\n",
        "        features = self.concat_layer([title, text_body, tags])\n",
        "        features = self.mixing_layer(features)\n",
        "        priority = self.priority_scorer(features)\n",
        "        department = self.department_classifier(features)\n",
        "        return priority, department"
      ]
    },
    {
      "cell_type": "code",
      "execution_count": null,
      "metadata": {
        "id": "8JPxHSB3T-da"
      },
      "outputs": [],
      "source": [
        "model = CustomerTicketModel(num_departments=4)\n",
        "\n",
        "priority, department = model(\n",
        "    {\"title\": title_data, \"text_body\": text_body_data, \"tags\": tags_data})"
      ]
    },
    {
      "cell_type": "code",
      "execution_count": null,
      "metadata": {
        "id": "gEwamt6qT-da"
      },
      "outputs": [],
      "source": [
        "model.compile(optimizer=\"rmsprop\",\n",
        "              loss=[\"mean_squared_error\", \"categorical_crossentropy\"],\n",
        "              metrics=[[\"mean_absolute_error\"], [\"accuracy\"]])\n",
        "model.fit({\"title\": title_data,\n",
        "           \"text_body\": text_body_data,\n",
        "           \"tags\": tags_data},\n",
        "          [priority_data, department_data],\n",
        "          epochs=1)\n",
        "model.evaluate({\"title\": title_data,\n",
        "                \"text_body\": text_body_data,\n",
        "                \"tags\": tags_data},\n",
        "               [priority_data, department_data])\n",
        "priority_preds, department_preds = model.predict({\"title\": title_data,\n",
        "                                                  \"text_body\": text_body_data,\n",
        "                                                  \"tags\": tags_data})"
      ]
    },
    {
      "cell_type": "markdown",
      "metadata": {
        "id": "yarvUcvdT-db"
      },
      "source": [
        "#### Beware: What subclassed models don't support"
      ]
    },
    {
      "cell_type": "markdown",
      "metadata": {
        "id": "_Y-xeNvET-db"
      },
      "source": [
        "### Mixing and matching different components"
      ]
    },
    {
      "cell_type": "markdown",
      "metadata": {
        "id": "IaSF6GSQT-dc"
      },
      "source": [
        "**Creating a Functional model that includes a subclassed model**"
      ]
    },
    {
      "cell_type": "code",
      "execution_count": null,
      "metadata": {
        "id": "kiK5WUcQT-dc"
      },
      "outputs": [],
      "source": [
        "class Classifier(keras.Model):\n",
        "\n",
        "    def __init__(self, num_classes=2):\n",
        "        super().__init__()\n",
        "        if num_classes == 2:\n",
        "            num_units = 1\n",
        "            activation = \"sigmoid\"\n",
        "        else:\n",
        "            num_units = num_classes\n",
        "            activation = \"softmax\"\n",
        "        self.dense = layers.Dense(num_units, activation=activation)\n",
        "\n",
        "    def call(self, inputs):\n",
        "        return self.dense(inputs)\n",
        "\n",
        "inputs = keras.Input(shape=(3,))\n",
        "features = layers.Dense(64, activation=\"relu\")(inputs)\n",
        "outputs = Classifier(num_classes=10)(features)\n",
        "model = keras.Model(inputs=inputs, outputs=outputs)"
      ]
    },
    {
      "cell_type": "markdown",
      "metadata": {
        "id": "NjfWHOrfT-dc"
      },
      "source": [
        "**Creating a subclassed model that includes a Functional model**"
      ]
    },
    {
      "cell_type": "code",
      "execution_count": null,
      "metadata": {
        "id": "wX4cmnKhT-dd"
      },
      "outputs": [],
      "source": [
        "inputs = keras.Input(shape=(64,))\n",
        "outputs = layers.Dense(1, activation=\"sigmoid\")(inputs)\n",
        "binary_classifier = keras.Model(inputs=inputs, outputs=outputs)\n",
        "\n",
        "class MyModel(keras.Model):\n",
        "\n",
        "    def __init__(self, num_classes=2):\n",
        "        super().__init__()\n",
        "        self.dense = layers.Dense(64, activation=\"relu\")\n",
        "        self.classifier = binary_classifier\n",
        "\n",
        "    def call(self, inputs):\n",
        "        features = self.dense(inputs)\n",
        "        return self.classifier(features)\n",
        "\n",
        "model = MyModel()"
      ]
    },
    {
      "cell_type": "markdown",
      "metadata": {
        "id": "JWFUU7BaT-de"
      },
      "source": [
        "### Remember: Use the right tool for the job"
      ]
    },
    {
      "cell_type": "markdown",
      "metadata": {
        "id": "c746lFg9T-de"
      },
      "source": [
        "## Using built-in training and evaluation loops"
      ]
    },
    {
      "cell_type": "markdown",
      "metadata": {
        "id": "vEf_Q-ghT-de"
      },
      "source": [
        "**The standard workflow: `compile()`, `fit()`, `evaluate()`, `predict()`**"
      ]
    },
    {
      "cell_type": "code",
      "execution_count": 31,
      "metadata": {
        "id": "LIrAYjUCT-df",
        "colab": {
          "base_uri": "https://localhost:8080/"
        },
        "outputId": "d5f1b350-b044-4dc0-8084-18397dcd91c7"
      },
      "outputs": [
        {
          "output_type": "stream",
          "name": "stdout",
          "text": [
            "Downloading data from https://storage.googleapis.com/tensorflow/tf-keras-datasets/mnist.npz\n",
            "11490434/11490434 [==============================] - 2s 0us/step\n",
            "Epoch 1/3\n",
            "1563/1563 [==============================] - 7s 4ms/step - loss: 0.2959 - accuracy: 0.9116 - val_loss: 0.1408 - val_accuracy: 0.9585\n",
            "Epoch 2/3\n",
            "1563/1563 [==============================] - 5s 3ms/step - loss: 0.1617 - accuracy: 0.9534 - val_loss: 0.1111 - val_accuracy: 0.9704\n",
            "Epoch 3/3\n",
            "1563/1563 [==============================] - 5s 3ms/step - loss: 0.1288 - accuracy: 0.9635 - val_loss: 0.1055 - val_accuracy: 0.9730\n",
            "313/313 [==============================] - 1s 2ms/step - loss: 0.0946 - accuracy: 0.9730\n",
            "313/313 [==============================] - 1s 1ms/step\n"
          ]
        }
      ],
      "source": [
        "from tensorflow.keras.datasets import mnist\n",
        "\n",
        "def get_mnist_model():\n",
        "    inputs = keras.Input(shape=(28 * 28,))\n",
        "    features = layers.Dense(512, activation=\"relu\")(inputs)\n",
        "    features = layers.Dropout(0.5)(features)\n",
        "    outputs = layers.Dense(10, activation=\"softmax\")(features)\n",
        "    model = keras.Model(inputs, outputs)\n",
        "    return model\n",
        "\n",
        "(images, labels), (test_images, test_labels) = mnist.load_data()\n",
        "images = images.reshape((60000, 28 * 28)).astype(\"float32\") / 255\n",
        "test_images = test_images.reshape((10000, 28 * 28)).astype(\"float32\") / 255\n",
        "train_images, val_images = images[10000:], images[:10000]\n",
        "train_labels, val_labels = labels[10000:], labels[:10000]\n",
        "\n",
        "model = get_mnist_model()\n",
        "model.compile(optimizer=\"rmsprop\",\n",
        "              loss=\"sparse_categorical_crossentropy\",\n",
        "              metrics=[\"accuracy\"])\n",
        "model.fit(train_images, train_labels,\n",
        "          epochs=3,\n",
        "          validation_data=(val_images, val_labels))\n",
        "test_metrics = model.evaluate(test_images, test_labels)\n",
        "predictions = model.predict(test_images)"
      ]
    },
    {
      "cell_type": "markdown",
      "metadata": {
        "id": "pnHfmYgIT-dg"
      },
      "source": [
        "### Writing your own metrics"
      ]
    },
    {
      "cell_type": "markdown",
      "metadata": {
        "id": "wyzb3y78T-dg"
      },
      "source": [
        "**Implementing a custom metric by subclassing the `Metric` class**"
      ]
    },
    {
      "cell_type": "code",
      "execution_count": 29,
      "metadata": {
        "id": "eXMUFnSeT-dg"
      },
      "outputs": [],
      "source": [
        "import tensorflow as tf\n",
        "\n",
        "class RootMeanSquaredError(keras.metrics.Metric):\n",
        "\n",
        "    def __init__(self, name=\"rmse\", **kwargs):\n",
        "        super().__init__(name=name, **kwargs)\n",
        "        self.mse_sum = self.add_weight(name=\"mse_sum\", initializer=\"zeros\")\n",
        "        self.total_samples = self.add_weight(\n",
        "            name=\"total_samples\", initializer=\"zeros\", dtype=\"int32\")\n",
        "\n",
        "    def update_state(self, y_true, y_pred, sample_weight=None):\n",
        "        y_true = tf.one_hot(y_true, depth=tf.shape(y_pred)[1])\n",
        "        mse = tf.reduce_sum(tf.square(y_true - y_pred))\n",
        "        self.mse_sum.assign_add(mse)\n",
        "        num_samples = tf.shape(y_pred)[0]\n",
        "        self.total_samples.assign_add(num_samples)\n",
        "\n",
        "    def result(self):\n",
        "        return tf.sqrt(self.mse_sum / tf.cast(self.total_samples, tf.float32))\n",
        "\n",
        "    def reset_state(self):\n",
        "        self.mse_sum.assign(0.)\n",
        "        self.total_samples.assign(0)"
      ]
    },
    {
      "cell_type": "code",
      "execution_count": 32,
      "metadata": {
        "id": "bIeGIXY7T-dh",
        "colab": {
          "base_uri": "https://localhost:8080/"
        },
        "outputId": "7a755634-342b-4ab6-dc41-d087b5419587"
      },
      "outputs": [
        {
          "output_type": "stream",
          "name": "stdout",
          "text": [
            "Epoch 1/3\n",
            "1563/1563 [==============================] - 7s 4ms/step - loss: 0.2926 - accuracy: 0.9134 - rmse: 7.1793 - val_loss: 0.1536 - val_accuracy: 0.9540 - val_rmse: 7.3529\n",
            "Epoch 2/3\n",
            "1563/1563 [==============================] - 5s 3ms/step - loss: 0.1576 - accuracy: 0.9546 - rmse: 7.3527 - val_loss: 0.1184 - val_accuracy: 0.9658 - val_rmse: 7.4016\n",
            "Epoch 3/3\n",
            "1563/1563 [==============================] - 8s 5ms/step - loss: 0.1273 - accuracy: 0.9641 - rmse: 7.3866 - val_loss: 0.1048 - val_accuracy: 0.9709 - val_rmse: 7.4206\n",
            "313/313 [==============================] - 1s 2ms/step - loss: 0.0921 - accuracy: 0.9729 - rmse: 7.4325\n"
          ]
        }
      ],
      "source": [
        "model = get_mnist_model()\n",
        "model.compile(optimizer=\"rmsprop\",\n",
        "              loss=\"sparse_categorical_crossentropy\",\n",
        "              metrics=[\"accuracy\", RootMeanSquaredError()])\n",
        "model.fit(train_images, train_labels,\n",
        "          epochs=3,\n",
        "          validation_data=(val_images, val_labels))\n",
        "test_metrics = model.evaluate(test_images, test_labels)"
      ]
    },
    {
      "cell_type": "markdown",
      "metadata": {
        "id": "3tdXtVtzT-dh"
      },
      "source": [
        "### Using callbacks"
      ]
    },
    {
      "cell_type": "markdown",
      "metadata": {
        "id": "MYpDQ6a1T-di"
      },
      "source": [
        "#### The EarlyStopping and ModelCheckpoint callbacks"
      ]
    },
    {
      "cell_type": "markdown",
      "metadata": {
        "id": "hd9Ew62TT-di"
      },
      "source": [
        "**Using the `callbacks` argument in the `fit()` method**"
      ]
    },
    {
      "cell_type": "code",
      "execution_count": 33,
      "metadata": {
        "id": "c8VHLYEoT-dj",
        "colab": {
          "base_uri": "https://localhost:8080/"
        },
        "outputId": "b12dde44-de15-46ab-8a62-4a82360fb199"
      },
      "outputs": [
        {
          "output_type": "stream",
          "name": "stdout",
          "text": [
            "Epoch 1/10\n",
            "1563/1563 [==============================] - 6s 3ms/step - loss: 0.2959 - accuracy: 0.9110 - val_loss: 0.1544 - val_accuracy: 0.9545\n",
            "Epoch 2/10\n",
            "1563/1563 [==============================] - 7s 4ms/step - loss: 0.1581 - accuracy: 0.9539 - val_loss: 0.1196 - val_accuracy: 0.9652\n",
            "Epoch 3/10\n",
            "1563/1563 [==============================] - 5s 4ms/step - loss: 0.1293 - accuracy: 0.9634 - val_loss: 0.1058 - val_accuracy: 0.9710\n",
            "Epoch 4/10\n",
            "1563/1563 [==============================] - 6s 4ms/step - loss: 0.1110 - accuracy: 0.9680 - val_loss: 0.0968 - val_accuracy: 0.9731\n",
            "Epoch 5/10\n",
            "1563/1563 [==============================] - 5s 3ms/step - loss: 0.1021 - accuracy: 0.9720 - val_loss: 0.0920 - val_accuracy: 0.9766\n",
            "Epoch 6/10\n",
            "1563/1563 [==============================] - 6s 4ms/step - loss: 0.0923 - accuracy: 0.9741 - val_loss: 0.0968 - val_accuracy: 0.9767\n",
            "Epoch 7/10\n",
            "1563/1563 [==============================] - 6s 4ms/step - loss: 0.0879 - accuracy: 0.9763 - val_loss: 0.0905 - val_accuracy: 0.9778\n",
            "Epoch 8/10\n",
            "1563/1563 [==============================] - 7s 4ms/step - loss: 0.0790 - accuracy: 0.9786 - val_loss: 0.0881 - val_accuracy: 0.9796\n",
            "Epoch 9/10\n",
            "1563/1563 [==============================] - 5s 3ms/step - loss: 0.0782 - accuracy: 0.9785 - val_loss: 0.0941 - val_accuracy: 0.9788\n",
            "Epoch 10/10\n",
            "1563/1563 [==============================] - 5s 3ms/step - loss: 0.0744 - accuracy: 0.9796 - val_loss: 0.0902 - val_accuracy: 0.9786\n"
          ]
        },
        {
          "output_type": "execute_result",
          "data": {
            "text/plain": [
              "<keras.callbacks.History at 0x7f79547a5d00>"
            ]
          },
          "metadata": {},
          "execution_count": 33
        }
      ],
      "source": [
        "callbacks_list = [\n",
        "    keras.callbacks.EarlyStopping(\n",
        "        monitor=\"val_accuracy\",\n",
        "        patience=2,\n",
        "    ),\n",
        "    keras.callbacks.ModelCheckpoint(\n",
        "        filepath=\"checkpoint_path.keras\",\n",
        "        monitor=\"val_loss\",\n",
        "        save_best_only=True,\n",
        "    )\n",
        "]\n",
        "model = get_mnist_model()\n",
        "model.compile(optimizer=\"rmsprop\",\n",
        "              loss=\"sparse_categorical_crossentropy\",\n",
        "              metrics=[\"accuracy\"])\n",
        "model.fit(train_images, train_labels,\n",
        "          epochs=10,\n",
        "          callbacks=callbacks_list,\n",
        "          validation_data=(val_images, val_labels))"
      ]
    },
    {
      "cell_type": "code",
      "execution_count": 34,
      "metadata": {
        "id": "l1ImWIT1T-dk"
      },
      "outputs": [],
      "source": [
        "model = keras.models.load_model(\"checkpoint_path.keras\")"
      ]
    },
    {
      "cell_type": "markdown",
      "metadata": {
        "id": "MHdUanTbT-dk"
      },
      "source": [
        "### Writing your own callbacks"
      ]
    },
    {
      "cell_type": "markdown",
      "metadata": {
        "id": "CrNiVIYyT-dl"
      },
      "source": [
        "**Creating a custom callback by subclassing the `Callback` class**"
      ]
    },
    {
      "cell_type": "code",
      "execution_count": null,
      "metadata": {
        "id": "NQfYrcQzT-dl"
      },
      "outputs": [],
      "source": [
        "from matplotlib import pyplot as plt\n",
        "\n",
        "class LossHistory(keras.callbacks.Callback):\n",
        "    def on_train_begin(self, logs):\n",
        "        self.per_batch_losses = []\n",
        "\n",
        "    def on_batch_end(self, batch, logs):\n",
        "        self.per_batch_losses.append(logs.get(\"loss\"))\n",
        "\n",
        "    def on_epoch_end(self, epoch, logs):\n",
        "        plt.clf()\n",
        "        plt.plot(range(len(self.per_batch_losses)), self.per_batch_losses,\n",
        "                 label=\"Training loss for each batch\")\n",
        "        plt.xlabel(f\"Batch (epoch {epoch})\")\n",
        "        plt.ylabel(\"Loss\")\n",
        "        plt.legend()\n",
        "        plt.savefig(f\"plot_at_epoch_{epoch}\")\n",
        "        self.per_batch_losses = []"
      ]
    },
    {
      "cell_type": "code",
      "execution_count": null,
      "metadata": {
        "id": "F0LVMcGGT-dm"
      },
      "outputs": [],
      "source": [
        "model = get_mnist_model()\n",
        "model.compile(optimizer=\"rmsprop\",\n",
        "              loss=\"sparse_categorical_crossentropy\",\n",
        "              metrics=[\"accuracy\"])\n",
        "model.fit(train_images, train_labels,\n",
        "          epochs=10,\n",
        "          callbacks=[LossHistory()],\n",
        "          validation_data=(val_images, val_labels))"
      ]
    },
    {
      "cell_type": "markdown",
      "metadata": {
        "id": "cvOpWhZaT-dn"
      },
      "source": [
        "### Monitoring and visualization with TensorBoard"
      ]
    },
    {
      "cell_type": "code",
      "execution_count": null,
      "metadata": {
        "id": "b6zLy8M6T-do"
      },
      "outputs": [],
      "source": [
        "model = get_mnist_model()\n",
        "model.compile(optimizer=\"rmsprop\",\n",
        "              loss=\"sparse_categorical_crossentropy\",\n",
        "              metrics=[\"accuracy\"])\n",
        "\n",
        "tensorboard = keras.callbacks.TensorBoard(\n",
        "    log_dir=\"/full_path_to_your_log_dir\",\n",
        ")\n",
        "model.fit(train_images, train_labels,\n",
        "          epochs=10,\n",
        "          validation_data=(val_images, val_labels),\n",
        "          callbacks=[tensorboard])"
      ]
    },
    {
      "cell_type": "code",
      "execution_count": null,
      "metadata": {
        "id": "ejQ-oWE_T-do"
      },
      "outputs": [],
      "source": [
        "%load_ext tensorboard\n",
        "%tensorboard --logdir /full_path_to_your_log_dir"
      ]
    },
    {
      "cell_type": "markdown",
      "source": [
        "w7 practice\n",
        "\n",
        "- From using callbacks, experiment with different parameters of EarlyStopping and ModelCheckpoint callbacks."
      ],
      "metadata": {
        "id": "uHvWeMwo_LTS"
      }
    },
    {
      "cell_type": "markdown",
      "source": [
        "Using callbacks\n",
        "\n",
        "콜백은 fit() 호출에서 모델에 전달되고 훈련 중 다양한 지점에서 모델에 의해 호출되는 객체(특정 메서드를 구현하는 클래스 인스턴스)입니다. 모델 상태와 성능에 대한 모든 사용 가능한 데이터에 액세스할 수 있으며 훈련 중단, 모델 저장, 다른 가중치 세트 로드 또는 모델 상태 변경과 같은 조치를 취할 수 있습니다.\n",
        "\n",
        "- keras.callbacks.ModelCheckpoint\n",
        "- keras.callbacks.EarlyStopping\n",
        "- keras.callbacks.LearningRateScheduler\n",
        "- keras.callbacks.ReduceLROnPlateau\n",
        "- keras.callbacks.CSVLogger"
      ],
      "metadata": {
        "id": "pYDv7HRfBAs0"
      }
    },
    {
      "cell_type": "markdown",
      "source": [
        "The EarlyStopping and ModelCheckpoint callbacks\n",
        "\n",
        "Using the callbacks argument in the fit() method"
      ],
      "metadata": {
        "id": "TpqVskxoBIId"
      }
    },
    {
      "cell_type": "code",
      "source": [
        "callbacks_list = [\n",
        "    keras.callbacks.EarlyStopping(\n",
        "        monitor=\"val_accuracy\",\n",
        "        patience=2,\n",
        "    ),\n",
        "    keras.callbacks.ModelCheckpoint(\n",
        "        filepath=\"checkpoint_path.keras\",\n",
        "        monitor=\"val_loss\",\n",
        "        save_best_only=True,\n",
        "    )\n",
        "]\n",
        "model = get_mnist_model()\n",
        "model.compile(optimizer=\"rmsprop\",\n",
        "              loss=\"sparse_categorical_crossentropy\",\n",
        "              metrics=[\"accuracy\"])\n",
        "model.fit(train_images, train_labels,\n",
        "          epochs=30,\n",
        "          callbacks=callbacks_list,\n",
        "          validation_data=(val_images, val_labels))"
      ],
      "metadata": {
        "colab": {
          "base_uri": "https://localhost:8080/"
        },
        "id": "q98-HRTiBEh2",
        "outputId": "00c78564-055f-405f-dee0-241f84bd3800"
      },
      "execution_count": 40,
      "outputs": [
        {
          "output_type": "stream",
          "name": "stdout",
          "text": [
            "Epoch 1/30\n",
            "1563/1563 [==============================] - 6s 3ms/step - loss: 0.2946 - accuracy: 0.9143 - val_loss: 0.1395 - val_accuracy: 0.9614\n",
            "Epoch 2/30\n",
            "1563/1563 [==============================] - 7s 4ms/step - loss: 0.1589 - accuracy: 0.9548 - val_loss: 0.1218 - val_accuracy: 0.9657\n",
            "Epoch 3/30\n",
            "1563/1563 [==============================] - 6s 4ms/step - loss: 0.1328 - accuracy: 0.9629 - val_loss: 0.0979 - val_accuracy: 0.9721\n",
            "Epoch 4/30\n",
            "1563/1563 [==============================] - 7s 4ms/step - loss: 0.1121 - accuracy: 0.9693 - val_loss: 0.1061 - val_accuracy: 0.9734\n",
            "Epoch 5/30\n",
            "1563/1563 [==============================] - 5s 3ms/step - loss: 0.1057 - accuracy: 0.9712 - val_loss: 0.1014 - val_accuracy: 0.9754\n",
            "Epoch 6/30\n",
            "1563/1563 [==============================] - 5s 3ms/step - loss: 0.0959 - accuracy: 0.9739 - val_loss: 0.0947 - val_accuracy: 0.9780\n",
            "Epoch 7/30\n",
            "1563/1563 [==============================] - 5s 3ms/step - loss: 0.0899 - accuracy: 0.9749 - val_loss: 0.0959 - val_accuracy: 0.9782\n",
            "Epoch 8/30\n",
            "1563/1563 [==============================] - 5s 3ms/step - loss: 0.0827 - accuracy: 0.9775 - val_loss: 0.0936 - val_accuracy: 0.9784\n",
            "Epoch 9/30\n",
            "1563/1563 [==============================] - 6s 4ms/step - loss: 0.0781 - accuracy: 0.9792 - val_loss: 0.1002 - val_accuracy: 0.9788\n",
            "Epoch 10/30\n",
            "1563/1563 [==============================] - 5s 3ms/step - loss: 0.0746 - accuracy: 0.9806 - val_loss: 0.1073 - val_accuracy: 0.9776\n",
            "Epoch 11/30\n",
            "1563/1563 [==============================] - 6s 4ms/step - loss: 0.0719 - accuracy: 0.9806 - val_loss: 0.0945 - val_accuracy: 0.9792\n",
            "Epoch 12/30\n",
            "1563/1563 [==============================] - 5s 3ms/step - loss: 0.0678 - accuracy: 0.9813 - val_loss: 0.0971 - val_accuracy: 0.9798\n",
            "Epoch 13/30\n",
            "1563/1563 [==============================] - 6s 4ms/step - loss: 0.0621 - accuracy: 0.9827 - val_loss: 0.0956 - val_accuracy: 0.9802\n",
            "Epoch 14/30\n",
            "1563/1563 [==============================] - 5s 3ms/step - loss: 0.0612 - accuracy: 0.9837 - val_loss: 0.0981 - val_accuracy: 0.9808\n",
            "Epoch 15/30\n",
            "1563/1563 [==============================] - 5s 3ms/step - loss: 0.0557 - accuracy: 0.9846 - val_loss: 0.0940 - val_accuracy: 0.9810\n",
            "Epoch 16/30\n",
            "1563/1563 [==============================] - 6s 4ms/step - loss: 0.0574 - accuracy: 0.9852 - val_loss: 0.0983 - val_accuracy: 0.9804\n",
            "Epoch 17/30\n",
            "1563/1563 [==============================] - 5s 3ms/step - loss: 0.0544 - accuracy: 0.9857 - val_loss: 0.0961 - val_accuracy: 0.9810\n"
          ]
        },
        {
          "output_type": "execute_result",
          "data": {
            "text/plain": [
              "<keras.callbacks.History at 0x7f79540c3dc0>"
            ]
          },
          "metadata": {},
          "execution_count": 40
        }
      ]
    },
    {
      "cell_type": "code",
      "source": [
        "model = keras.models.load_model(\"checkpoint_path.keras\")"
      ],
      "metadata": {
        "id": "VR60n2AtBOF8"
      },
      "execution_count": 41,
      "outputs": []
    },
    {
      "cell_type": "code",
      "source": [
        "from matplotlib import pyplot as plt\n",
        "\n",
        "class LossHistory(keras.callbacks.Callback):\n",
        "    def on_train_begin(self, logs):\n",
        "        self.per_batch_losses = []\n",
        "\n",
        "    def on_batch_end(self, batch, logs):\n",
        "        self.per_batch_losses.append(logs.get(\"loss\"))\n",
        "\n",
        "    def on_epoch_end(self, epoch, logs):\n",
        "        plt.clf()\n",
        "        plt.plot(range(len(self.per_batch_losses)), self.per_batch_losses,\n",
        "                 label=\"Training loss for each batch\")\n",
        "        plt.xlabel(f\"Batch (epoch {epoch})\")\n",
        "        plt.ylabel(\"Loss\")\n",
        "        plt.legend()\n",
        "        plt.savefig(f\"plot_at_epoch_{epoch}\")\n",
        "        self.per_batch_losses = []"
      ],
      "metadata": {
        "id": "tYGoS0eNBx0K"
      },
      "execution_count": 38,
      "outputs": []
    },
    {
      "cell_type": "code",
      "source": [
        "model = get_mnist_model()\n",
        "model.compile(optimizer=\"rmsprop\",\n",
        "              loss=\"sparse_categorical_crossentropy\",\n",
        "              metrics=[\"accuracy\"])\n",
        "model.fit(train_images, train_labels,\n",
        "          epochs=10,\n",
        "          callbacks=[LossHistory()],\n",
        "          validation_data=(val_images, val_labels))"
      ],
      "metadata": {
        "colab": {
          "base_uri": "https://localhost:8080/",
          "height": 856
        },
        "id": "7SRF-fU6By-O",
        "outputId": "789888c2-e897-4c3f-c12d-3acf580dffc9"
      },
      "execution_count": 39,
      "outputs": [
        {
          "output_type": "stream",
          "name": "stdout",
          "text": [
            "Epoch 1/10\n",
            "1563/1563 [==============================] - 6s 3ms/step - loss: 0.2889 - accuracy: 0.9146 - val_loss: 0.1584 - val_accuracy: 0.9527\n",
            "Epoch 2/10\n",
            "1563/1563 [==============================] - 6s 4ms/step - loss: 0.1596 - accuracy: 0.9534 - val_loss: 0.1173 - val_accuracy: 0.9663\n",
            "Epoch 3/10\n",
            "1563/1563 [==============================] - 5s 3ms/step - loss: 0.1285 - accuracy: 0.9630 - val_loss: 0.1003 - val_accuracy: 0.9724\n",
            "Epoch 4/10\n",
            "1563/1563 [==============================] - 6s 4ms/step - loss: 0.1145 - accuracy: 0.9687 - val_loss: 0.1037 - val_accuracy: 0.9723\n",
            "Epoch 5/10\n",
            "1563/1563 [==============================] - 6s 4ms/step - loss: 0.1040 - accuracy: 0.9714 - val_loss: 0.0945 - val_accuracy: 0.9759\n",
            "Epoch 6/10\n",
            "1563/1563 [==============================] - 7s 4ms/step - loss: 0.0936 - accuracy: 0.9738 - val_loss: 0.0903 - val_accuracy: 0.9781\n",
            "Epoch 7/10\n",
            "1563/1563 [==============================] - 5s 3ms/step - loss: 0.0885 - accuracy: 0.9759 - val_loss: 0.0865 - val_accuracy: 0.9791\n",
            "Epoch 8/10\n",
            "1563/1563 [==============================] - 6s 4ms/step - loss: 0.0783 - accuracy: 0.9786 - val_loss: 0.0909 - val_accuracy: 0.9779\n",
            "Epoch 9/10\n",
            "1563/1563 [==============================] - 5s 3ms/step - loss: 0.0770 - accuracy: 0.9790 - val_loss: 0.0872 - val_accuracy: 0.9791\n",
            "Epoch 10/10\n",
            "1563/1563 [==============================] - 6s 4ms/step - loss: 0.0711 - accuracy: 0.9803 - val_loss: 0.0999 - val_accuracy: 0.9780\n"
          ]
        },
        {
          "output_type": "execute_result",
          "data": {
            "text/plain": [
              "<keras.callbacks.History at 0x7f79544ab280>"
            ]
          },
          "metadata": {},
          "execution_count": 39
        },
        {
          "output_type": "display_data",
          "data": {
            "text/plain": [
              "<Figure size 640x480 with 1 Axes>"
            ],
            "image/png": "[encoded data removed]"
          },
          "metadata": {}
        }
      ]
    },
    {
      "cell_type": "markdown",
      "metadata": {
        "id": "5HHCifc6T-dp"
      },
      "source": [
        "## Writing your own training and evaluation loops"
      ]
    },
    {
      "cell_type": "markdown",
      "metadata": {
        "id": "QdrZQs7VT-dq"
      },
      "source": [
        "### Training versus inference"
      ]
    },
    {
      "cell_type": "markdown",
      "metadata": {
        "id": "tjDerNo6T-dq"
      },
      "source": [
        "### Low-level usage of metrics"
      ]
    },
    {
      "cell_type": "code",
      "execution_count": null,
      "metadata": {
        "id": "GXBa9JLAT-dr"
      },
      "outputs": [],
      "source": [
        "metric = keras.metrics.SparseCategoricalAccuracy()\n",
        "targets = [0, 1, 2]\n",
        "predictions = [[1, 0, 0], [0, 1, 0], [0, 0, 1]]\n",
        "metric.update_state(targets, predictions)\n",
        "current_result = metric.result()\n",
        "print(f\"result: {current_result:.2f}\")"
      ]
    },
    {
      "cell_type": "code",
      "execution_count": null,
      "metadata": {
        "id": "xbrEY2Q0T-ds"
      },
      "outputs": [],
      "source": [
        "values = [0, 1, 2, 3, 4]\n",
        "mean_tracker = keras.metrics.Mean()\n",
        "for value in values:\n",
        "    mean_tracker.update_state(value)\n",
        "print(f\"Mean of values: {mean_tracker.result():.2f}\")"
      ]
    },
    {
      "cell_type": "markdown",
      "metadata": {
        "id": "xThlnoHpT-ds"
      },
      "source": [
        "### A complete training and evaluation loop"
      ]
    },
    {
      "cell_type": "markdown",
      "metadata": {
        "id": "sxg7MK7OT-dt"
      },
      "source": [
        "**Writing a step-by-step training loop: the training step function**"
      ]
    },
    {
      "cell_type": "code",
      "execution_count": null,
      "metadata": {
        "id": "rMNA4HsiT-dt"
      },
      "outputs": [],
      "source": [
        "model = get_mnist_model()\n",
        "\n",
        "loss_fn = keras.losses.SparseCategoricalCrossentropy()\n",
        "optimizer = keras.optimizers.RMSprop()\n",
        "metrics = [keras.metrics.SparseCategoricalAccuracy()]\n",
        "loss_tracking_metric = keras.metrics.Mean()\n",
        "\n",
        "def train_step(inputs, targets):\n",
        "    with tf.GradientTape() as tape:\n",
        "        predictions = model(inputs, training=True)\n",
        "        loss = loss_fn(targets, predictions)\n",
        "    gradients = tape.gradient(loss, model.trainable_weights)\n",
        "    optimizer.apply_gradients(zip(gradients, model.trainable_weights))\n",
        "\n",
        "    logs = {}\n",
        "    for metric in metrics:\n",
        "        metric.update_state(targets, predictions)\n",
        "        logs[metric.name] = metric.result()\n",
        "\n",
        "    loss_tracking_metric.update_state(loss)\n",
        "    logs[\"loss\"] = loss_tracking_metric.result()\n",
        "    return logs"
      ]
    },
    {
      "cell_type": "markdown",
      "metadata": {
        "id": "zbY-dG9sT-du"
      },
      "source": [
        "**Writing a step-by-step training loop: resetting the metrics**"
      ]
    },
    {
      "cell_type": "code",
      "execution_count": null,
      "metadata": {
        "id": "PhCt0ViuT-du"
      },
      "outputs": [],
      "source": [
        "def reset_metrics():\n",
        "    for metric in metrics:\n",
        "        metric.reset_state()\n",
        "    loss_tracking_metric.reset_state()"
      ]
    },
    {
      "cell_type": "markdown",
      "metadata": {
        "id": "pKly0A5iT-dv"
      },
      "source": [
        "**Writing a step-by-step training loop: the loop itself**"
      ]
    },
    {
      "cell_type": "code",
      "execution_count": null,
      "metadata": {
        "id": "vg8nI9QlT-dw"
      },
      "outputs": [],
      "source": [
        "training_dataset = tf.data.Dataset.from_tensor_slices((train_images, train_labels))\n",
        "training_dataset = training_dataset.batch(32)\n",
        "epochs = 3\n",
        "for epoch in range(epochs):\n",
        "    reset_metrics()\n",
        "    for inputs_batch, targets_batch in training_dataset:\n",
        "        logs = train_step(inputs_batch, targets_batch)\n",
        "    print(f\"Results at the end of epoch {epoch}\")\n",
        "    for key, value in logs.items():\n",
        "        print(f\"...{key}: {value:.4f}\")"
      ]
    },
    {
      "cell_type": "markdown",
      "metadata": {
        "id": "oBitAvhET-dw"
      },
      "source": [
        "**Writing a step-by-step evaluation loop**"
      ]
    },
    {
      "cell_type": "code",
      "execution_count": null,
      "metadata": {
        "id": "zr5MR_7jT-dx"
      },
      "outputs": [],
      "source": [
        "def test_step(inputs, targets):\n",
        "    predictions = model(inputs, training=False)\n",
        "    loss = loss_fn(targets, predictions)\n",
        "\n",
        "    logs = {}\n",
        "    for metric in metrics:\n",
        "        metric.update_state(targets, predictions)\n",
        "        logs[\"val_\" + metric.name] = metric.result()\n",
        "\n",
        "    loss_tracking_metric.update_state(loss)\n",
        "    logs[\"val_loss\"] = loss_tracking_metric.result()\n",
        "    return logs\n",
        "\n",
        "val_dataset = tf.data.Dataset.from_tensor_slices((val_images, val_labels))\n",
        "val_dataset = val_dataset.batch(32)\n",
        "reset_metrics()\n",
        "for inputs_batch, targets_batch in val_dataset:\n",
        "    logs = test_step(inputs_batch, targets_batch)\n",
        "print(\"Evaluation results:\")\n",
        "for key, value in logs.items():\n",
        "    print(f\"...{key}: {value:.4f}\")"
      ]
    },
    {
      "cell_type": "markdown",
      "metadata": {
        "id": "Av_mGYPDT-dx"
      },
      "source": [
        "### Make it fast with tf.function"
      ]
    },
    {
      "cell_type": "markdown",
      "metadata": {
        "id": "JgqdohIfT-dy"
      },
      "source": [
        "**Adding a `tf.function` decorator to our evaluation-step function**"
      ]
    },
    {
      "cell_type": "code",
      "execution_count": null,
      "metadata": {
        "id": "OuIaw10aT-dy"
      },
      "outputs": [],
      "source": [
        "@tf.function\n",
        "def test_step(inputs, targets):\n",
        "    predictions = model(inputs, training=False)\n",
        "    loss = loss_fn(targets, predictions)\n",
        "\n",
        "    logs = {}\n",
        "    for metric in metrics:\n",
        "        metric.update_state(targets, predictions)\n",
        "        logs[\"val_\" + metric.name] = metric.result()\n",
        "\n",
        "    loss_tracking_metric.update_state(loss)\n",
        "    logs[\"val_loss\"] = loss_tracking_metric.result()\n",
        "    return logs\n",
        "\n",
        "val_dataset = tf.data.Dataset.from_tensor_slices((val_images, val_labels))\n",
        "val_dataset = val_dataset.batch(32)\n",
        "reset_metrics()\n",
        "for inputs_batch, targets_batch in val_dataset:\n",
        "    logs = test_step(inputs_batch, targets_batch)\n",
        "print(\"Evaluation results:\")\n",
        "for key, value in logs.items():\n",
        "    print(f\"...{key}: {value:.4f}\")"
      ]
    },
    {
      "cell_type": "markdown",
      "metadata": {
        "id": "yNLjonpYT-dz"
      },
      "source": [
        "### Leveraging fit() with a custom training loop"
      ]
    },
    {
      "cell_type": "markdown",
      "metadata": {
        "id": "dps2VtZYT-dz"
      },
      "source": [
        "**Implementing a custom training step to use with `fit()`**"
      ]
    },
    {
      "cell_type": "code",
      "execution_count": null,
      "metadata": {
        "id": "r9trWj52T-d0"
      },
      "outputs": [],
      "source": [
        "loss_fn = keras.losses.SparseCategoricalCrossentropy()\n",
        "loss_tracker = keras.metrics.Mean(name=\"loss\")\n",
        "\n",
        "class CustomModel(keras.Model):\n",
        "    def train_step(self, data):\n",
        "        inputs, targets = data\n",
        "        with tf.GradientTape() as tape:\n",
        "            predictions = self(inputs, training=True)\n",
        "            loss = loss_fn(targets, predictions)\n",
        "        gradients = tape.gradient(loss, self.trainable_weights)\n",
        "        self.optimizer.apply_gradients(zip(gradients, self.trainable_weights))\n",
        "\n",
        "        loss_tracker.update_state(loss)\n",
        "        return {\"loss\": loss_tracker.result()}\n",
        "\n",
        "    @property\n",
        "    def metrics(self):\n",
        "        return [loss_tracker]"
      ]
    },
    {
      "cell_type": "code",
      "execution_count": null,
      "metadata": {
        "id": "CDLYGacqT-d1"
      },
      "outputs": [],
      "source": [
        "inputs = keras.Input(shape=(28 * 28,))\n",
        "features = layers.Dense(512, activation=\"relu\")(inputs)\n",
        "features = layers.Dropout(0.5)(features)\n",
        "outputs = layers.Dense(10, activation=\"softmax\")(features)\n",
        "model = CustomModel(inputs, outputs)\n",
        "\n",
        "model.compile(optimizer=keras.optimizers.RMSprop())\n",
        "model.fit(train_images, train_labels, epochs=3)"
      ]
    },
    {
      "cell_type": "code",
      "execution_count": null,
      "metadata": {
        "id": "re2fWc6NT-d1"
      },
      "outputs": [],
      "source": [
        "class CustomModel(keras.Model):\n",
        "    def train_step(self, data):\n",
        "        inputs, targets = data\n",
        "        with tf.GradientTape() as tape:\n",
        "            predictions = self(inputs, training=True)\n",
        "            loss = self.compiled_loss(targets, predictions)\n",
        "        gradients = tape.gradient(loss, self.trainable_weights)\n",
        "        self.optimizer.apply_gradients(zip(gradients, self.trainable_weights))\n",
        "        self.compiled_metrics.update_state(targets, predictions)\n",
        "        return {m.name: m.result() for m in self.metrics}"
      ]
    },
    {
      "cell_type": "code",
      "execution_count": null,
      "metadata": {
        "id": "cWs3UoPuT-d2"
      },
      "outputs": [],
      "source": [
        "inputs = keras.Input(shape=(28 * 28,))\n",
        "features = layers.Dense(512, activation=\"relu\")(inputs)\n",
        "features = layers.Dropout(0.5)(features)\n",
        "outputs = layers.Dense(10, activation=\"softmax\")(features)\n",
        "model = CustomModel(inputs, outputs)\n",
        "\n",
        "model.compile(optimizer=keras.optimizers.RMSprop(),\n",
        "              loss=keras.losses.SparseCategoricalCrossentropy(),\n",
        "              metrics=[keras.metrics.SparseCategoricalAccuracy()])\n",
        "model.fit(train_images, train_labels, epochs=3)"
      ]
    },
    {
      "cell_type": "markdown",
      "metadata": {
        "id": "8o6__pAoT-d3"
      },
      "source": [
        "## Summary"
      ]
    }
  ],
  "metadata": {
    "colab": {
      "provenance": [],
      "include_colab_link": true
    },
    "kernelspec": {
      "display_name": "Python 3",
      "language": "python",
      "name": "python3"
    },
    "language_info": {
      "codemirror_mode": {
        "name": "ipython",
        "version": 3
      },
      "file_extension": ".py",
      "mimetype": "text/x-python",
      "name": "python",
      "nbconvert_exporter": "python",
      "pygments_lexer": "ipython3",
      "version": "3.7.0"
    },
    "accelerator": "GPU",
    "gpuClass": "standard"
  },
  "nbformat": 4,
  "nbformat_minor": 0
}