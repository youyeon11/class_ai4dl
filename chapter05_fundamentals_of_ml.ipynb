{
  "cells": [
    {
      "cell_type": "markdown",
      "metadata": {
        "id": "view-in-github",
        "colab_type": "text"
      },
      "source": [
        "<a href=\"https://colab.research.google.com/github/youyeon11/class_ai4dl/blob/main/chapter05_fundamentals_of_ml.ipynb\" target=\"_parent\"><img src=\"https://colab.research.google.com/assets/colab-badge.svg\" alt=\"Open In Colab\"/></a>"
      ]
    },
    {
      "cell_type": "markdown",
      "metadata": {
        "id": "kYCYGGUD9j9z"
      },
      "source": [
        "This is a companion notebook for the book [Deep Learning with Python, Second Edition](https://www.manning.com/books/deep-learning-with-python-second-edition?a_aid=keras&a_bid=76564dff). For readability, it only contains runnable code blocks and section titles, and omits everything else in the book: text paragraphs, figures, and pseudocode.\n",
        "\n",
        "**If you want to be able to follow what's going on, I recommend reading the notebook side by side with your copy of the book.**\n",
        "\n",
        "This notebook was generated for TensorFlow 2.6."
      ]
    },
    {
      "cell_type": "markdown",
      "metadata": {
        "id": "ejhRz2TC9j93"
      },
      "source": [
        "# Fundamentals of machine learning"
      ]
    },
    {
      "cell_type": "markdown",
      "metadata": {
        "id": "jAT2a33c9j94"
      },
      "source": [
        "## Generalization: The goal of machine learning"
      ]
    },
    {
      "cell_type": "markdown",
      "metadata": {
        "id": "OnGY1FVW9j95"
      },
      "source": [
        "### Underfitting and overfitting"
      ]
    },
    {
      "cell_type": "markdown",
      "metadata": {
        "id": "01swMeVU9j95"
      },
      "source": [
        "#### Noisy training data"
      ]
    },
    {
      "cell_type": "markdown",
      "metadata": {
        "id": "FBxyKz8O9j96"
      },
      "source": [
        "#### Ambiguous features"
      ]
    },
    {
      "cell_type": "markdown",
      "metadata": {
        "id": "HWDP_wM99j97"
      },
      "source": [
        "#### Rare features and spurious correlations"
      ]
    },
    {
      "cell_type": "markdown",
      "metadata": {
        "id": "QiMzDUcp9j97"
      },
      "source": [
        "**Adding white-noise channels or all-zeros channels to MNIST**"
      ]
    },
    {
      "cell_type": "code",
      "execution_count": 1,
      "metadata": {
        "id": "0PvHJ1cm9j98",
        "colab": {
          "base_uri": "https://localhost:8080/"
        },
        "outputId": "66018486-4f3f-4870-ff9c-64a0a172a070"
      },
      "outputs": [
        {
          "output_type": "stream",
          "name": "stdout",
          "text": [
            "Downloading data from https://storage.googleapis.com/tensorflow/tf-keras-datasets/mnist.npz\n",
            "11490434/11490434 [==============================] - 2s 0us/step\n"
          ]
        }
      ],
      "source": [
        "from tensorflow.keras.datasets import mnist\n",
        "import numpy as np\n",
        "\n",
        "(train_images, train_labels), _ = mnist.load_data()\n",
        "train_images = train_images.reshape((60000, 28 * 28))\n",
        "train_images = train_images.astype(\"float32\") / 255\n",
        "\n",
        "#using concatenate function\n",
        "\n",
        "train_images_with_noise_channels = np.concatenate( #add noise channel\n",
        "    [train_images, np.random.random((len(train_images), 784))], axis=1)\n",
        "\n",
        "train_images_with_zeros_channels = np.concatenate( #add zero channel\n",
        "    [train_images, np.zeros((len(train_images), 784))], axis=1)"
      ]
    },
    {
      "cell_type": "code",
      "source": [
        "train_images.shape"
      ],
      "metadata": {
        "colab": {
          "base_uri": "https://localhost:8080/"
        },
        "id": "QrQaXqLa-G98",
        "outputId": "cc3596aa-aaff-4b07-e6a1-336890f30864"
      },
      "execution_count": 2,
      "outputs": [
        {
          "output_type": "execute_result",
          "data": {
            "text/plain": [
              "(60000, 784)"
            ]
          },
          "metadata": {},
          "execution_count": 2
        }
      ]
    },
    {
      "cell_type": "code",
      "source": [
        "#random 생성(noise channel)\n",
        "np.random.random((len(train_images), 784)).shape"
      ],
      "metadata": {
        "colab": {
          "base_uri": "https://localhost:8080/"
        },
        "id": "55oT8KZJ-QFS",
        "outputId": "242454ac-78fa-4308-e2c1-c4f68f60a804"
      },
      "execution_count": 3,
      "outputs": [
        {
          "output_type": "execute_result",
          "data": {
            "text/plain": [
              "(60000, 784)"
            ]
          },
          "metadata": {},
          "execution_count": 3
        }
      ]
    },
    {
      "cell_type": "code",
      "source": [
        "#784 dimensional noisy data at training data\n",
        "np.concatenate(\n",
        "    [train_images, np.zeros((len(train_images), 784))], axis=1).shape"
      ],
      "metadata": {
        "colab": {
          "base_uri": "https://localhost:8080/"
        },
        "id": "FZlZUUmZ-jw-",
        "outputId": "06ec2340-fbad-4eda-d74c-3fb52bcdb29d"
      },
      "execution_count": 4,
      "outputs": [
        {
          "output_type": "execute_result",
          "data": {
            "text/plain": [
              "(60000, 1568)"
            ]
          },
          "metadata": {},
          "execution_count": 4
        }
      ]
    },
    {
      "cell_type": "code",
      "source": [
        "#noise channel에 대한 확인 (by indexing 첫번째)\n",
        "train_images_with_noise_channels[0]"
      ],
      "metadata": {
        "colab": {
          "base_uri": "https://localhost:8080/"
        },
        "id": "2CcVqFRz_IHX",
        "outputId": "c7160953-da10-4934-9382-bdab83f5011f"
      },
      "execution_count": 5,
      "outputs": [
        {
          "output_type": "execute_result",
          "data": {
            "text/plain": [
              "array([0.        , 0.        , 0.        , ..., 0.78869429, 0.00545323,\n",
              "       0.48503252])"
            ]
          },
          "metadata": {},
          "execution_count": 5
        }
      ]
    },
    {
      "cell_type": "code",
      "source": [
        "#zeros에 대하여 체크(0에 대해서 추가)\n",
        "train_images_with_zeros_channels[0]"
      ],
      "metadata": {
        "colab": {
          "base_uri": "https://localhost:8080/"
        },
        "id": "TfCXYxqh_hPs",
        "outputId": "1dae603a-e76f-4f1e-9e65-98192e718fa2"
      },
      "execution_count": 6,
      "outputs": [
        {
          "output_type": "execute_result",
          "data": {
            "text/plain": [
              "array([0., 0., 0., ..., 0., 0., 0.])"
            ]
          },
          "metadata": {},
          "execution_count": 6
        }
      ]
    },
    {
      "cell_type": "markdown",
      "metadata": {
        "id": "YKKrX7Zo9j9-"
      },
      "source": [
        "**Training the same model on MNIST data with noise channels or all-zero channels**"
      ]
    },
    {
      "cell_type": "code",
      "execution_count": 27,
      "metadata": {
        "id": "9Pr7CWlE9j9_",
        "colab": {
          "base_uri": "https://localhost:8080/"
        },
        "outputId": "cd804ba7-7e60-43a5-efd3-67b094dde506"
      },
      "outputs": [
        {
          "output_type": "stream",
          "name": "stdout",
          "text": [
            "Epoch 1/10\n",
            "375/375 [==============================] - 2s 4ms/step - loss: 2.3473 - accuracy: 0.1049 - val_loss: 2.3020 - val_accuracy: 0.1126\n",
            "Epoch 2/10\n",
            "375/375 [==============================] - 1s 3ms/step - loss: 2.3022 - accuracy: 0.1110 - val_loss: 2.3015 - val_accuracy: 0.1124\n",
            "Epoch 3/10\n",
            "375/375 [==============================] - 3s 7ms/step - loss: 2.3018 - accuracy: 0.1104 - val_loss: 2.3027 - val_accuracy: 0.1046\n",
            "Epoch 4/10\n",
            "375/375 [==============================] - 2s 4ms/step - loss: 2.3020 - accuracy: 0.1104 - val_loss: 2.3021 - val_accuracy: 0.1121\n",
            "Epoch 5/10\n",
            "375/375 [==============================] - 1s 3ms/step - loss: 2.3023 - accuracy: 0.1102 - val_loss: 2.3023 - val_accuracy: 0.1131\n",
            "Epoch 6/10\n",
            "375/375 [==============================] - 2s 4ms/step - loss: 2.3020 - accuracy: 0.1104 - val_loss: 2.3033 - val_accuracy: 0.1112\n",
            "Epoch 7/10\n",
            "375/375 [==============================] - 1s 3ms/step - loss: 2.3015 - accuracy: 0.1134 - val_loss: 2.3060 - val_accuracy: 0.1059\n",
            "Epoch 8/10\n",
            "375/375 [==============================] - 1s 3ms/step - loss: 2.3002 - accuracy: 0.1152 - val_loss: 2.3102 - val_accuracy: 0.0988\n",
            "Epoch 9/10\n",
            "375/375 [==============================] - 2s 5ms/step - loss: 2.2958 - accuracy: 0.1230 - val_loss: 2.3101 - val_accuracy: 0.0985\n",
            "Epoch 10/10\n",
            "375/375 [==============================] - 3s 9ms/step - loss: 2.2896 - accuracy: 0.1298 - val_loss: 2.3348 - val_accuracy: 0.0992\n",
            "Epoch 1/10\n",
            "375/375 [==============================] - 4s 4ms/step - loss: 2.3133 - accuracy: 0.1038 - val_loss: 2.3057 - val_accuracy: 0.1068\n",
            "Epoch 2/10\n",
            "375/375 [==============================] - 1s 3ms/step - loss: 2.3001 - accuracy: 0.1139 - val_loss: 2.3106 - val_accuracy: 0.1008\n",
            "Epoch 3/10\n",
            "375/375 [==============================] - 1s 3ms/step - loss: 2.2940 - accuracy: 0.1236 - val_loss: 2.3177 - val_accuracy: 0.0957\n",
            "Epoch 4/10\n",
            "375/375 [==============================] - 1s 4ms/step - loss: 2.2844 - accuracy: 0.1348 - val_loss: 2.3215 - val_accuracy: 0.0993\n",
            "Epoch 5/10\n",
            "375/375 [==============================] - 1s 4ms/step - loss: 2.2711 - accuracy: 0.1448 - val_loss: 2.3331 - val_accuracy: 0.1004\n",
            "Epoch 6/10\n",
            "375/375 [==============================] - 2s 5ms/step - loss: 2.2527 - accuracy: 0.1587 - val_loss: 2.3443 - val_accuracy: 0.0967\n",
            "Epoch 7/10\n",
            "375/375 [==============================] - 1s 3ms/step - loss: 2.2313 - accuracy: 0.1747 - val_loss: 2.3557 - val_accuracy: 0.1029\n",
            "Epoch 8/10\n",
            "375/375 [==============================] - 1s 3ms/step - loss: 2.2078 - accuracy: 0.1849 - val_loss: 2.3738 - val_accuracy: 0.1032\n",
            "Epoch 9/10\n",
            "375/375 [==============================] - 1s 3ms/step - loss: 2.1796 - accuracy: 0.2031 - val_loss: 2.3961 - val_accuracy: 0.0978\n",
            "Epoch 10/10\n",
            "375/375 [==============================] - 1s 3ms/step - loss: 2.1500 - accuracy: 0.2206 - val_loss: 2.4078 - val_accuracy: 0.0983\n"
          ]
        }
      ],
      "source": [
        "from tensorflow import keras\n",
        "from tensorflow.keras import layers\n",
        "\n",
        "def get_model():\n",
        "    model = keras.Sequential([\n",
        "        layers.Dense(512, activation=\"relu\"), #이 unit에는 input 사이즈를 입력해야함\n",
        "        layers.Dense(10, activation=\"softmax\") #이 unit에는 output 사이즈를 입력해야함\n",
        "    ])\n",
        "    model.compile(optimizer=\"rmsprop\",\n",
        "                  loss=\"sparse_categorical_crossentropy\",\n",
        "                  metrics=[\"accuracy\"])\n",
        "    return model\n",
        "\n",
        "#add validation accuracy of original data for mnist data\n",
        "\n",
        "model = get_model()\n",
        "history_noise = model.fit(\n",
        "    train_images_with_noise_channels, train_labels,\n",
        "    epochs=10,\n",
        "    batch_size=128,\n",
        "    validation_split=0.2)\n",
        "\n",
        "model = get_model()\n",
        "history_zeros = model.fit(\n",
        "    train_images_with_zeros_channels, train_labels,\n",
        "    epochs=10,\n",
        "    batch_size=128,\n",
        "    validation_split=0.2)"
      ]
    },
    {
      "cell_type": "markdown",
      "metadata": {
        "id": "XiYAKClY9j-A"
      },
      "source": [
        "**Plotting a validation accuracy comparison**"
      ]
    },
    {
      "cell_type": "code",
      "execution_count": 8,
      "metadata": {
        "id": "p1-zIkRq9j-B",
        "colab": {
          "base_uri": "https://localhost:8080/",
          "height": 490
        },
        "outputId": "7635abd3-4339-4b21-f0a1-845b1cda2a26"
      },
      "outputs": [
        {
          "output_type": "execute_result",
          "data": {
            "text/plain": [
              "<matplotlib.legend.Legend at 0x7fdeb46c0910>"
            ]
          },
          "metadata": {},
          "execution_count": 8
        },
        {
          "output_type": "display_data",
          "data": {
            "text/plain": [
              "<Figure size 640x480 with 1 Axes>"
            ],
            "image/png": "[encoded data removed]"
          },
          "metadata": {}
        }
      ],
      "source": [
        "import matplotlib.pyplot as plt\n",
        "val_acc_noise = history_noise.history[\"val_accuracy\"]\n",
        "val_acc_zeros = history_zeros.history[\"val_accuracy\"]\n",
        "epochs = range(1, 11)\n",
        "plt.plot(epochs, val_acc_noise, \"b-\",\n",
        "         label=\"Validation accuracy with noise channels\")\n",
        "plt.plot(epochs, val_acc_zeros, \"b--\",\n",
        "         label=\"Validation accuracy with zeros channels\")\n",
        "plt.title(\"Effect of noise channels on validation accuracy\")\n",
        "plt.xlabel(\"Epochs\")\n",
        "plt.ylabel(\"Accuracy\")\n",
        "plt.legend()"
      ]
    },
    {
      "cell_type": "markdown",
      "source": [
        "w6 practice\n",
        "- From Training the sme model on MNIST data with noise channels or all-zero channels Add validation accuracy of original data for mnist data."
      ],
      "metadata": {
        "id": "WxynHuyD4lZL"
      }
    },
    {
      "cell_type": "code",
      "source": [
        "from tensorflow import keras\n",
        "from tensorflow.keras import layers\n",
        "\n",
        "def get_model():\n",
        "    model = keras.Sequential([\n",
        "        layers.Dense(512, activation=\"relu\"), #이 unit에는 input 사이즈를 입력해야함\n",
        "        layers.Dense(10, activation=\"softmax\") #이 unit에는 output 사이즈를 입력해야함\n",
        "    ])\n",
        "    model.compile(optimizer=\"rmsprop\",\n",
        "                  loss=\"sparse_categorical_crossentropy\",\n",
        "                  metrics=[\"accuracy\"])\n",
        "    return model\n",
        "\n",
        "#add validation accuracy of original data for mnist data\n",
        "\n",
        "model3 = get_model()\n",
        "history_noise = model3.fit(\n",
        "    train_images_with_noise_channels, train_labels,\n",
        "    epochs=10,\n",
        "    batch_size=128,\n",
        "    validation_split=0.2)\n",
        "\n",
        "model3 = get_model()\n",
        "history_zeros = model3.fit(\n",
        "    train_images_with_zeros_channels, train_labels,\n",
        "    epochs=10,\n",
        "    batch_size=128,\n",
        "    validation_split=0.2)\n",
        "\n",
        "model3 = get_model()\n",
        "history_original=model3.fit(\n",
        "    train_images, train_labels,\n",
        "    epochs=10,\n",
        "    batch_size=128,\n",
        "    validation_split=0.2\n",
        ")"
      ],
      "metadata": {
        "colab": {
          "base_uri": "https://localhost:8080/"
        },
        "id": "4XkESGt95JTZ",
        "outputId": "385cd1e3-c8ba-4bf5-ee4e-fd69a8ccc6ab"
      },
      "execution_count": 29,
      "outputs": [
        {
          "output_type": "stream",
          "name": "stdout",
          "text": [
            "Epoch 1/10\n",
            "375/375 [==============================] - 2s 4ms/step - loss: 2.3542 - accuracy: 0.1057 - val_loss: 2.3018 - val_accuracy: 0.1131\n",
            "Epoch 2/10\n",
            "375/375 [==============================] - 1s 3ms/step - loss: 2.3020 - accuracy: 0.1104 - val_loss: 2.3085 - val_accuracy: 0.0976\n",
            "Epoch 3/10\n",
            "375/375 [==============================] - 1s 3ms/step - loss: 2.3022 - accuracy: 0.1107 - val_loss: 2.3033 - val_accuracy: 0.1081\n",
            "Epoch 4/10\n",
            "375/375 [==============================] - 1s 3ms/step - loss: 2.3016 - accuracy: 0.1115 - val_loss: 2.3014 - val_accuracy: 0.1123\n",
            "Epoch 5/10\n",
            "375/375 [==============================] - 2s 5ms/step - loss: 2.3015 - accuracy: 0.1160 - val_loss: 2.3046 - val_accuracy: 0.1083\n",
            "Epoch 6/10\n",
            "375/375 [==============================] - 1s 3ms/step - loss: 2.3001 - accuracy: 0.1152 - val_loss: 2.3081 - val_accuracy: 0.1043\n",
            "Epoch 7/10\n",
            "375/375 [==============================] - 1s 3ms/step - loss: 2.2971 - accuracy: 0.1205 - val_loss: 2.3103 - val_accuracy: 0.1036\n",
            "Epoch 8/10\n",
            "375/375 [==============================] - 1s 3ms/step - loss: 2.2942 - accuracy: 0.1239 - val_loss: 2.3080 - val_accuracy: 0.1061\n",
            "Epoch 9/10\n",
            "375/375 [==============================] - 1s 3ms/step - loss: 2.2891 - accuracy: 0.1311 - val_loss: 2.3202 - val_accuracy: 0.1000\n",
            "Epoch 10/10\n",
            "375/375 [==============================] - 1s 3ms/step - loss: 2.2819 - accuracy: 0.1354 - val_loss: 2.3227 - val_accuracy: 0.1062\n",
            "Epoch 1/10\n",
            "375/375 [==============================] - 2s 4ms/step - loss: 2.3123 - accuracy: 0.1032 - val_loss: 2.3061 - val_accuracy: 0.0980\n",
            "Epoch 2/10\n",
            "375/375 [==============================] - 1s 4ms/step - loss: 2.3004 - accuracy: 0.1161 - val_loss: 2.3104 - val_accuracy: 0.1048\n",
            "Epoch 3/10\n",
            "375/375 [==============================] - 2s 5ms/step - loss: 2.2942 - accuracy: 0.1215 - val_loss: 2.3146 - val_accuracy: 0.0992\n",
            "Epoch 4/10\n",
            "375/375 [==============================] - 1s 3ms/step - loss: 2.2843 - accuracy: 0.1359 - val_loss: 2.3227 - val_accuracy: 0.1025\n",
            "Epoch 5/10\n",
            "375/375 [==============================] - 1s 3ms/step - loss: 2.2706 - accuracy: 0.1456 - val_loss: 2.3335 - val_accuracy: 0.0989\n",
            "Epoch 6/10\n",
            "375/375 [==============================] - 1s 3ms/step - loss: 2.2539 - accuracy: 0.1582 - val_loss: 2.3465 - val_accuracy: 0.0966\n",
            "Epoch 7/10\n",
            "375/375 [==============================] - 1s 3ms/step - loss: 2.2347 - accuracy: 0.1711 - val_loss: 2.3564 - val_accuracy: 0.1001\n",
            "Epoch 8/10\n",
            "375/375 [==============================] - 1s 3ms/step - loss: 2.2108 - accuracy: 0.1860 - val_loss: 2.3707 - val_accuracy: 0.0968\n",
            "Epoch 9/10\n",
            "375/375 [==============================] - 1s 3ms/step - loss: 2.1847 - accuracy: 0.2009 - val_loss: 2.3997 - val_accuracy: 0.1008\n",
            "Epoch 10/10\n",
            "375/375 [==============================] - 1s 3ms/step - loss: 2.1551 - accuracy: 0.2168 - val_loss: 2.4119 - val_accuracy: 0.0965\n",
            "Epoch 1/10\n",
            "375/375 [==============================] - 2s 4ms/step - loss: 2.3150 - accuracy: 0.1036 - val_loss: 2.3045 - val_accuracy: 0.1104\n",
            "Epoch 2/10\n",
            "375/375 [==============================] - 1s 3ms/step - loss: 2.2988 - accuracy: 0.1163 - val_loss: 2.3115 - val_accuracy: 0.0986\n",
            "Epoch 3/10\n",
            "375/375 [==============================] - 1s 3ms/step - loss: 2.2913 - accuracy: 0.1260 - val_loss: 2.3212 - val_accuracy: 0.0995\n",
            "Epoch 4/10\n",
            "375/375 [==============================] - 2s 4ms/step - loss: 2.2795 - accuracy: 0.1382 - val_loss: 2.3259 - val_accuracy: 0.1018\n",
            "Epoch 5/10\n",
            "375/375 [==============================] - 1s 3ms/step - loss: 2.2636 - accuracy: 0.1501 - val_loss: 2.3317 - val_accuracy: 0.0985\n",
            "Epoch 6/10\n",
            "375/375 [==============================] - 1s 3ms/step - loss: 2.2442 - accuracy: 0.1656 - val_loss: 2.3459 - val_accuracy: 0.1062\n",
            "Epoch 7/10\n",
            "375/375 [==============================] - 1s 4ms/step - loss: 2.2216 - accuracy: 0.1803 - val_loss: 2.3548 - val_accuracy: 0.0983\n",
            "Epoch 8/10\n",
            "375/375 [==============================] - 1s 4ms/step - loss: 2.1935 - accuracy: 0.1947 - val_loss: 2.3808 - val_accuracy: 0.1027\n",
            "Epoch 9/10\n",
            "375/375 [==============================] - 1s 3ms/step - loss: 2.1642 - accuracy: 0.2111 - val_loss: 2.3956 - val_accuracy: 0.0988\n",
            "Epoch 10/10\n",
            "375/375 [==============================] - 1s 3ms/step - loss: 2.1328 - accuracy: 0.2294 - val_loss: 2.4239 - val_accuracy: 0.0982\n"
          ]
        }
      ]
    },
    {
      "cell_type": "code",
      "source": [
        "import matplotlib.pyplot as plt\n",
        "val_acc_noise = history_noise.history[\"val_accuracy\"]\n",
        "val_acc_zeros = history_zeros.history[\"val_accuracy\"]\n",
        "val_acc_original=history_original.history['val_accuracy']\n",
        "epochs = range(1, 11)\n",
        "plt.plot(epochs, val_acc_noise, \"b-\",\n",
        "         label=\"Validation accuracy with noise channels\")\n",
        "plt.plot(epochs, val_acc_zeros, \"b--\",\n",
        "         label=\"Validation accuracy with zeros channels\")\n",
        "plt.plot(epochs, val_acc_original, 'r--',\n",
        "         label=\"Validation accuracy with original data\")\n",
        "plt.title(\"Effect of noise channels on validation accuracy\")\n",
        "plt.xlabel(\"Epochs\")\n",
        "plt.ylabel(\"Accuracy\")\n",
        "plt.legend()"
      ],
      "metadata": {
        "colab": {
          "base_uri": "https://localhost:8080/",
          "height": 490
        },
        "id": "szd0RAYu4vQ6",
        "outputId": "cccb651e-bf61-4142-cb0f-4f126b05b5d8"
      },
      "execution_count": 30,
      "outputs": [
        {
          "output_type": "execute_result",
          "data": {
            "text/plain": [
              "<matplotlib.legend.Legend at 0x7fddac5da460>"
            ]
          },
          "metadata": {},
          "execution_count": 30
        },
        {
          "output_type": "display_data",
          "data": {
            "text/plain": [
              "<Figure size 640x480 with 1 Axes>"
            ],
            "image/png": "[encoded data removed]"
          },
          "metadata": {}
        }
      ]
    },
    {
      "cell_type": "markdown",
      "metadata": {
        "id": "XnxOBYyg9j-C"
      },
      "source": [
        "### The nature of generalization in deep learning"
      ]
    },
    {
      "cell_type": "markdown",
      "metadata": {
        "id": "7Z3Y5-_K9j-C"
      },
      "source": [
        "**Fitting a MNIST model with randomly shuffled labels**"
      ]
    },
    {
      "cell_type": "markdown",
      "source": [
        "w6 practice\n",
        "\n",
        "- Fitting a MNIST model with randomly shuffled labels. Visualize training accuracy and validation accuracy."
      ],
      "metadata": {
        "id": "_yuR5JzR4Yaj"
      }
    },
    {
      "cell_type": "code",
      "execution_count": 22,
      "metadata": {
        "id": "3o5mK_Ob9j-C",
        "colab": {
          "base_uri": "https://localhost:8080/"
        },
        "outputId": "450e78c3-579c-4d03-9d7a-a2a4a3f91bc6"
      },
      "outputs": [
        {
          "output_type": "stream",
          "name": "stdout",
          "text": [
            "Epoch 1/100\n",
            "375/375 [==============================] - 2s 4ms/step - loss: 2.3158 - accuracy: 0.1051 - val_loss: 2.3055 - val_accuracy: 0.1027\n",
            "Epoch 2/100\n",
            "375/375 [==============================] - 3s 7ms/step - loss: 2.2987 - accuracy: 0.1199 - val_loss: 2.3142 - val_accuracy: 0.1024\n",
            "Epoch 3/100\n",
            "375/375 [==============================] - 2s 4ms/step - loss: 2.2906 - accuracy: 0.1270 - val_loss: 2.3177 - val_accuracy: 0.1034\n",
            "Epoch 4/100\n",
            "375/375 [==============================] - 1s 3ms/step - loss: 2.2771 - accuracy: 0.1410 - val_loss: 2.3337 - val_accuracy: 0.1002\n",
            "Epoch 5/100\n",
            "375/375 [==============================] - 1s 3ms/step - loss: 2.2622 - accuracy: 0.1531 - val_loss: 2.3404 - val_accuracy: 0.1025\n",
            "Epoch 6/100\n",
            "375/375 [==============================] - 1s 4ms/step - loss: 2.2428 - accuracy: 0.1679 - val_loss: 2.3535 - val_accuracy: 0.1007\n",
            "Epoch 7/100\n",
            "375/375 [==============================] - 2s 6ms/step - loss: 2.2193 - accuracy: 0.1793 - val_loss: 2.3684 - val_accuracy: 0.0994\n",
            "Epoch 8/100\n",
            "375/375 [==============================] - 2s 5ms/step - loss: 2.1921 - accuracy: 0.1966 - val_loss: 2.3791 - val_accuracy: 0.0995\n",
            "Epoch 9/100\n",
            "375/375 [==============================] - 2s 5ms/step - loss: 2.1612 - accuracy: 0.2139 - val_loss: 2.4076 - val_accuracy: 0.1001\n",
            "Epoch 10/100\n",
            "375/375 [==============================] - 2s 5ms/step - loss: 2.1305 - accuracy: 0.2281 - val_loss: 2.4178 - val_accuracy: 0.1003\n",
            "Epoch 11/100\n",
            "375/375 [==============================] - 2s 5ms/step - loss: 2.0951 - accuracy: 0.2483 - val_loss: 2.4579 - val_accuracy: 0.1013\n",
            "Epoch 12/100\n",
            "375/375 [==============================] - 1s 3ms/step - loss: 2.0604 - accuracy: 0.2631 - val_loss: 2.4775 - val_accuracy: 0.1007\n",
            "Epoch 13/100\n",
            "375/375 [==============================] - 1s 3ms/step - loss: 2.0219 - accuracy: 0.2834 - val_loss: 2.5047 - val_accuracy: 0.1001\n",
            "Epoch 14/100\n",
            "375/375 [==============================] - 1s 3ms/step - loss: 1.9837 - accuracy: 0.2968 - val_loss: 2.5473 - val_accuracy: 0.1043\n",
            "Epoch 15/100\n",
            "375/375 [==============================] - 1s 3ms/step - loss: 1.9450 - accuracy: 0.3115 - val_loss: 2.5665 - val_accuracy: 0.1032\n",
            "Epoch 16/100\n",
            "375/375 [==============================] - 1s 3ms/step - loss: 1.9053 - accuracy: 0.3275 - val_loss: 2.6049 - val_accuracy: 0.0991\n",
            "Epoch 17/100\n",
            "375/375 [==============================] - 1s 3ms/step - loss: 1.8671 - accuracy: 0.3468 - val_loss: 2.6599 - val_accuracy: 0.0975\n",
            "Epoch 18/100\n",
            "375/375 [==============================] - 1s 3ms/step - loss: 1.8267 - accuracy: 0.3620 - val_loss: 2.6744 - val_accuracy: 0.1005\n",
            "Epoch 19/100\n",
            "375/375 [==============================] - 2s 4ms/step - loss: 1.7880 - accuracy: 0.3784 - val_loss: 2.7288 - val_accuracy: 0.1020\n",
            "Epoch 20/100\n",
            "375/375 [==============================] - 2s 4ms/step - loss: 1.7497 - accuracy: 0.3954 - val_loss: 2.7426 - val_accuracy: 0.1016\n",
            "Epoch 21/100\n",
            "375/375 [==============================] - 1s 3ms/step - loss: 1.7113 - accuracy: 0.4069 - val_loss: 2.8159 - val_accuracy: 0.1042\n",
            "Epoch 22/100\n",
            "375/375 [==============================] - 1s 3ms/step - loss: 1.6745 - accuracy: 0.4224 - val_loss: 2.8476 - val_accuracy: 0.0990\n",
            "Epoch 23/100\n",
            "375/375 [==============================] - 1s 3ms/step - loss: 1.6364 - accuracy: 0.4372 - val_loss: 2.8980 - val_accuracy: 0.1028\n",
            "Epoch 24/100\n",
            "375/375 [==============================] - 1s 3ms/step - loss: 1.6019 - accuracy: 0.4464 - val_loss: 2.9702 - val_accuracy: 0.0963\n",
            "Epoch 25/100\n",
            "375/375 [==============================] - 1s 4ms/step - loss: 1.5660 - accuracy: 0.4642 - val_loss: 2.9994 - val_accuracy: 0.0981\n",
            "Epoch 26/100\n",
            "375/375 [==============================] - 1s 4ms/step - loss: 1.5309 - accuracy: 0.4741 - val_loss: 3.0443 - val_accuracy: 0.0970\n",
            "Epoch 27/100\n",
            "375/375 [==============================] - 1s 4ms/step - loss: 1.4991 - accuracy: 0.4876 - val_loss: 3.0891 - val_accuracy: 0.0978\n",
            "Epoch 28/100\n",
            "375/375 [==============================] - 2s 5ms/step - loss: 1.4652 - accuracy: 0.5011 - val_loss: 3.1498 - val_accuracy: 0.0971\n",
            "Epoch 29/100\n",
            "375/375 [==============================] - 2s 5ms/step - loss: 1.4325 - accuracy: 0.5130 - val_loss: 3.1904 - val_accuracy: 0.0972\n",
            "Epoch 30/100\n",
            "375/375 [==============================] - 2s 5ms/step - loss: 1.4028 - accuracy: 0.5234 - val_loss: 3.2252 - val_accuracy: 0.0982\n",
            "Epoch 31/100\n",
            "375/375 [==============================] - 1s 3ms/step - loss: 1.3713 - accuracy: 0.5346 - val_loss: 3.3154 - val_accuracy: 0.0970\n",
            "Epoch 32/100\n",
            "375/375 [==============================] - 1s 3ms/step - loss: 1.3434 - accuracy: 0.5446 - val_loss: 3.3662 - val_accuracy: 0.0979\n",
            "Epoch 33/100\n",
            "375/375 [==============================] - 1s 4ms/step - loss: 1.3140 - accuracy: 0.5565 - val_loss: 3.4088 - val_accuracy: 0.0959\n",
            "Epoch 34/100\n",
            "375/375 [==============================] - 1s 4ms/step - loss: 1.2831 - accuracy: 0.5688 - val_loss: 3.4427 - val_accuracy: 0.1005\n",
            "Epoch 35/100\n",
            "375/375 [==============================] - 2s 4ms/step - loss: 1.2553 - accuracy: 0.5780 - val_loss: 3.5003 - val_accuracy: 0.0983\n",
            "Epoch 36/100\n",
            "375/375 [==============================] - 2s 4ms/step - loss: 1.2283 - accuracy: 0.5881 - val_loss: 3.5970 - val_accuracy: 0.0988\n",
            "Epoch 37/100\n",
            "375/375 [==============================] - 1s 4ms/step - loss: 1.2066 - accuracy: 0.5939 - val_loss: 3.6206 - val_accuracy: 0.1010\n",
            "Epoch 38/100\n",
            "375/375 [==============================] - 1s 3ms/step - loss: 1.1813 - accuracy: 0.6046 - val_loss: 3.6781 - val_accuracy: 0.1007\n",
            "Epoch 39/100\n",
            "375/375 [==============================] - 2s 4ms/step - loss: 1.1527 - accuracy: 0.6155 - val_loss: 3.7386 - val_accuracy: 0.0995\n",
            "Epoch 40/100\n",
            "375/375 [==============================] - 2s 5ms/step - loss: 1.1299 - accuracy: 0.6204 - val_loss: 3.8305 - val_accuracy: 0.0973\n",
            "Epoch 41/100\n",
            "375/375 [==============================] - 2s 4ms/step - loss: 1.1060 - accuracy: 0.6307 - val_loss: 3.8871 - val_accuracy: 0.0995\n",
            "Epoch 42/100\n",
            "375/375 [==============================] - 2s 4ms/step - loss: 1.0834 - accuracy: 0.6399 - val_loss: 3.9621 - val_accuracy: 0.0948\n",
            "Epoch 43/100\n",
            "375/375 [==============================] - 1s 4ms/step - loss: 1.0611 - accuracy: 0.6480 - val_loss: 3.9975 - val_accuracy: 0.0985\n",
            "Epoch 44/100\n",
            "375/375 [==============================] - 2s 4ms/step - loss: 1.0380 - accuracy: 0.6556 - val_loss: 4.0405 - val_accuracy: 0.0991\n",
            "Epoch 45/100\n",
            "375/375 [==============================] - 2s 5ms/step - loss: 1.0151 - accuracy: 0.6646 - val_loss: 4.1245 - val_accuracy: 0.0990\n",
            "Epoch 46/100\n",
            "375/375 [==============================] - 1s 3ms/step - loss: 0.9948 - accuracy: 0.6710 - val_loss: 4.1689 - val_accuracy: 0.0994\n",
            "Epoch 47/100\n",
            "375/375 [==============================] - 1s 3ms/step - loss: 0.9749 - accuracy: 0.6779 - val_loss: 4.2424 - val_accuracy: 0.1011\n",
            "Epoch 48/100\n",
            "375/375 [==============================] - 1s 4ms/step - loss: 0.9562 - accuracy: 0.6844 - val_loss: 4.3022 - val_accuracy: 0.0995\n",
            "Epoch 49/100\n",
            "375/375 [==============================] - 2s 6ms/step - loss: 0.9380 - accuracy: 0.6927 - val_loss: 4.3681 - val_accuracy: 0.0978\n",
            "Epoch 50/100\n",
            "375/375 [==============================] - 2s 6ms/step - loss: 0.9168 - accuracy: 0.6990 - val_loss: 4.4298 - val_accuracy: 0.1002\n",
            "Epoch 51/100\n",
            "375/375 [==============================] - 2s 6ms/step - loss: 0.8970 - accuracy: 0.7044 - val_loss: 4.5027 - val_accuracy: 0.1007\n",
            "Epoch 52/100\n",
            "375/375 [==============================] - 2s 7ms/step - loss: 0.8797 - accuracy: 0.7134 - val_loss: 4.5930 - val_accuracy: 0.0995\n",
            "Epoch 53/100\n",
            "375/375 [==============================] - 2s 5ms/step - loss: 0.8619 - accuracy: 0.7170 - val_loss: 4.6132 - val_accuracy: 0.0997\n",
            "Epoch 54/100\n",
            "375/375 [==============================] - 2s 5ms/step - loss: 0.8430 - accuracy: 0.7248 - val_loss: 4.6939 - val_accuracy: 0.0992\n",
            "Epoch 55/100\n",
            "375/375 [==============================] - 2s 5ms/step - loss: 0.8262 - accuracy: 0.7293 - val_loss: 4.8038 - val_accuracy: 0.1000\n",
            "Epoch 56/100\n",
            "375/375 [==============================] - 2s 5ms/step - loss: 0.8093 - accuracy: 0.7361 - val_loss: 4.8582 - val_accuracy: 0.0971\n",
            "Epoch 57/100\n",
            "375/375 [==============================] - 2s 6ms/step - loss: 0.7934 - accuracy: 0.7414 - val_loss: 4.9076 - val_accuracy: 0.0985\n",
            "Epoch 58/100\n",
            "375/375 [==============================] - 2s 6ms/step - loss: 0.7779 - accuracy: 0.7449 - val_loss: 5.0243 - val_accuracy: 0.0955\n",
            "Epoch 59/100\n",
            "375/375 [==============================] - 1s 3ms/step - loss: 0.7628 - accuracy: 0.7495 - val_loss: 5.0323 - val_accuracy: 0.0981\n",
            "Epoch 60/100\n",
            "375/375 [==============================] - 1s 3ms/step - loss: 0.7478 - accuracy: 0.7575 - val_loss: 5.0813 - val_accuracy: 0.1007\n",
            "Epoch 61/100\n",
            "375/375 [==============================] - 1s 3ms/step - loss: 0.7324 - accuracy: 0.7603 - val_loss: 5.1649 - val_accuracy: 0.0986\n",
            "Epoch 62/100\n",
            "375/375 [==============================] - 1s 3ms/step - loss: 0.7165 - accuracy: 0.7687 - val_loss: 5.2862 - val_accuracy: 0.1004\n",
            "Epoch 63/100\n",
            "375/375 [==============================] - 1s 3ms/step - loss: 0.7042 - accuracy: 0.7721 - val_loss: 5.3212 - val_accuracy: 0.0972\n",
            "Epoch 64/100\n",
            "375/375 [==============================] - 2s 5ms/step - loss: 0.6897 - accuracy: 0.7768 - val_loss: 5.4015 - val_accuracy: 0.0968\n",
            "Epoch 65/100\n",
            "375/375 [==============================] - 2s 5ms/step - loss: 0.6770 - accuracy: 0.7818 - val_loss: 5.5318 - val_accuracy: 0.0989\n",
            "Epoch 66/100\n",
            "375/375 [==============================] - 3s 7ms/step - loss: 0.6615 - accuracy: 0.7872 - val_loss: 5.5343 - val_accuracy: 0.0994\n",
            "Epoch 67/100\n",
            "375/375 [==============================] - 2s 4ms/step - loss: 0.6501 - accuracy: 0.7909 - val_loss: 5.6017 - val_accuracy: 0.0993\n",
            "Epoch 68/100\n",
            "375/375 [==============================] - 1s 4ms/step - loss: 0.6351 - accuracy: 0.7965 - val_loss: 5.7051 - val_accuracy: 0.0965\n",
            "Epoch 69/100\n",
            "375/375 [==============================] - 2s 5ms/step - loss: 0.6237 - accuracy: 0.7995 - val_loss: 5.7402 - val_accuracy: 0.1026\n",
            "Epoch 70/100\n",
            "375/375 [==============================] - 2s 4ms/step - loss: 0.6114 - accuracy: 0.8050 - val_loss: 5.8543 - val_accuracy: 0.1014\n",
            "Epoch 71/100\n",
            "375/375 [==============================] - 1s 4ms/step - loss: 0.6005 - accuracy: 0.8080 - val_loss: 5.9758 - val_accuracy: 0.0976\n",
            "Epoch 72/100\n",
            "375/375 [==============================] - 2s 5ms/step - loss: 0.5889 - accuracy: 0.8125 - val_loss: 5.9994 - val_accuracy: 0.0993\n",
            "Epoch 73/100\n",
            "375/375 [==============================] - 3s 7ms/step - loss: 0.5783 - accuracy: 0.8138 - val_loss: 6.0779 - val_accuracy: 0.1011\n",
            "Epoch 74/100\n",
            "375/375 [==============================] - 1s 3ms/step - loss: 0.5653 - accuracy: 0.8221 - val_loss: 6.1373 - val_accuracy: 0.0985\n",
            "Epoch 75/100\n",
            "375/375 [==============================] - 1s 3ms/step - loss: 0.5551 - accuracy: 0.8235 - val_loss: 6.2108 - val_accuracy: 0.1004\n",
            "Epoch 76/100\n",
            "375/375 [==============================] - 1s 3ms/step - loss: 0.5459 - accuracy: 0.8267 - val_loss: 6.2729 - val_accuracy: 0.0976\n",
            "Epoch 77/100\n",
            "375/375 [==============================] - 2s 4ms/step - loss: 0.5347 - accuracy: 0.8305 - val_loss: 6.3331 - val_accuracy: 0.1007\n",
            "Epoch 78/100\n",
            "375/375 [==============================] - 1s 3ms/step - loss: 0.5243 - accuracy: 0.8343 - val_loss: 6.4181 - val_accuracy: 0.1017\n",
            "Epoch 79/100\n",
            "375/375 [==============================] - 1s 3ms/step - loss: 0.5158 - accuracy: 0.8370 - val_loss: 6.5158 - val_accuracy: 0.0988\n",
            "Epoch 80/100\n",
            "375/375 [==============================] - 1s 3ms/step - loss: 0.5061 - accuracy: 0.8400 - val_loss: 6.5377 - val_accuracy: 0.1005\n",
            "Epoch 81/100\n",
            "375/375 [==============================] - 1s 4ms/step - loss: 0.4973 - accuracy: 0.8419 - val_loss: 6.6334 - val_accuracy: 0.1013\n",
            "Epoch 82/100\n",
            "375/375 [==============================] - 2s 5ms/step - loss: 0.4870 - accuracy: 0.8463 - val_loss: 6.7006 - val_accuracy: 0.0999\n",
            "Epoch 83/100\n",
            "375/375 [==============================] - 1s 4ms/step - loss: 0.4762 - accuracy: 0.8509 - val_loss: 6.7899 - val_accuracy: 0.0972\n",
            "Epoch 84/100\n",
            "375/375 [==============================] - 1s 3ms/step - loss: 0.4675 - accuracy: 0.8520 - val_loss: 6.8481 - val_accuracy: 0.1001\n",
            "Epoch 85/100\n",
            "375/375 [==============================] - 1s 3ms/step - loss: 0.4581 - accuracy: 0.8561 - val_loss: 6.9398 - val_accuracy: 0.0994\n",
            "Epoch 86/100\n",
            "375/375 [==============================] - 1s 3ms/step - loss: 0.4523 - accuracy: 0.8572 - val_loss: 7.0306 - val_accuracy: 0.0986\n",
            "Epoch 87/100\n",
            "375/375 [==============================] - 1s 3ms/step - loss: 0.4438 - accuracy: 0.8601 - val_loss: 7.0741 - val_accuracy: 0.1018\n",
            "Epoch 88/100\n",
            "375/375 [==============================] - 1s 3ms/step - loss: 0.4340 - accuracy: 0.8661 - val_loss: 7.1946 - val_accuracy: 0.1002\n",
            "Epoch 89/100\n",
            "375/375 [==============================] - 1s 3ms/step - loss: 0.4253 - accuracy: 0.8670 - val_loss: 7.3073 - val_accuracy: 0.1004\n",
            "Epoch 90/100\n",
            "375/375 [==============================] - 1s 4ms/step - loss: 0.4182 - accuracy: 0.8700 - val_loss: 7.3733 - val_accuracy: 0.1018\n",
            "Epoch 91/100\n",
            "375/375 [==============================] - 2s 4ms/step - loss: 0.4113 - accuracy: 0.8717 - val_loss: 7.3835 - val_accuracy: 0.1010\n",
            "Epoch 92/100\n",
            "375/375 [==============================] - 2s 4ms/step - loss: 0.4046 - accuracy: 0.8740 - val_loss: 7.4728 - val_accuracy: 0.0977\n",
            "Epoch 93/100\n",
            "375/375 [==============================] - 1s 4ms/step - loss: 0.3961 - accuracy: 0.8774 - val_loss: 7.5389 - val_accuracy: 0.1022\n",
            "Epoch 94/100\n",
            "375/375 [==============================] - 1s 3ms/step - loss: 0.3910 - accuracy: 0.8783 - val_loss: 7.6199 - val_accuracy: 0.1011\n",
            "Epoch 95/100\n",
            "375/375 [==============================] - 1s 3ms/step - loss: 0.3857 - accuracy: 0.8796 - val_loss: 7.6902 - val_accuracy: 0.1010\n",
            "Epoch 96/100\n",
            "375/375 [==============================] - 1s 3ms/step - loss: 0.3770 - accuracy: 0.8836 - val_loss: 7.7878 - val_accuracy: 0.1007\n",
            "Epoch 97/100\n",
            "375/375 [==============================] - 1s 4ms/step - loss: 0.3700 - accuracy: 0.8860 - val_loss: 7.8626 - val_accuracy: 0.1018\n",
            "Epoch 98/100\n",
            "375/375 [==============================] - 1s 4ms/step - loss: 0.3640 - accuracy: 0.8878 - val_loss: 7.9125 - val_accuracy: 0.1001\n",
            "Epoch 99/100\n",
            "375/375 [==============================] - 1s 4ms/step - loss: 0.3579 - accuracy: 0.8902 - val_loss: 7.9299 - val_accuracy: 0.0978\n",
            "Epoch 100/100\n",
            "375/375 [==============================] - 2s 4ms/step - loss: 0.3494 - accuracy: 0.8939 - val_loss: 8.0372 - val_accuracy: 0.0991\n"
          ]
        },
        {
          "output_type": "execute_result",
          "data": {
            "text/plain": [
              "<keras.callbacks.History at 0x7fded40c6e20>"
            ]
          },
          "metadata": {},
          "execution_count": 22
        }
      ],
      "source": [
        "##w6 practice\n",
        "\n",
        "#importance of generalization power\n",
        "#shuffle하든 말든 상관 없다\n",
        "# Fitting a MNIST model with randomly shffled labels\n",
        "\n",
        "(train_images, train_labels), _ = mnist.load_data()\n",
        "train_images = train_images.reshape((60000, 28 * 28))\n",
        "train_images = train_images.astype(\"float32\") / 255\n",
        "\n",
        "random_train_labels = train_labels[:]\n",
        "np.random.shuffle(random_train_labels)\n",
        "\n",
        "model2 = keras.Sequential([\n",
        "    layers.Dense(512, activation=\"relu\"),\n",
        "    layers.Dense(10, activation=\"softmax\")\n",
        "])\n",
        "model2.compile(optimizer=\"rmsprop\",\n",
        "              loss=\"sparse_categorical_crossentropy\",\n",
        "              metrics=[\"accuracy\"])\n",
        "model2.fit(train_images, random_train_labels,\n",
        "          epochs=100,\n",
        "          batch_size=128,\n",
        "          validation_split=0.2)"
      ]
    },
    {
      "cell_type": "code",
      "source": [
        "#Visualize training accuracy and validation accuracy\n",
        "\n",
        "model2 = get_model()\n",
        "history_random = model2.fit(\n",
        "    train_images, random_train_labels,\n",
        "    epochs=10,\n",
        "    batch_size=128,\n",
        "    validation_split=0.2)\n",
        "\n",
        "\n",
        "import matplotlib.pyplot as plt\n",
        "val_acc_random = history_random.history[\"val_accuracy\"]\n",
        "train_acc_random = history_random.history['accuracy'] #history function: ['accuracy', 'loss','val_accuracy','val_loss']\n",
        "epochs = range(1, 11)\n",
        "plt.plot(epochs, val_acc_random, \"b-\",\n",
        "         label=\"Validation accuracy with shuffled data\")\n",
        "plt.plot(epochs, train_acc_random, 'r--',\n",
        "         label='Training accuracy with shuffled data')\n",
        "plt.title(\"Training meaningless data\")\n",
        "plt.xlabel(\"Epochs\")\n",
        "plt.ylabel(\"Accuracy\")\n",
        "plt.legend()"
      ],
      "metadata": {
        "colab": {
          "base_uri": "https://localhost:8080/",
          "height": 859
        },
        "id": "K6aEUEtb0wde",
        "outputId": "55ccd769-a699-4aab-d784-b4eb42fb8940"
      },
      "execution_count": 26,
      "outputs": [
        {
          "output_type": "stream",
          "name": "stdout",
          "text": [
            "Epoch 1/10\n",
            "375/375 [==============================] - 2s 4ms/step - loss: 2.3163 - accuracy: 0.1021 - val_loss: 2.3060 - val_accuracy: 0.1037\n",
            "Epoch 2/10\n",
            "375/375 [==============================] - 1s 3ms/step - loss: 2.2991 - accuracy: 0.1181 - val_loss: 2.3122 - val_accuracy: 0.1010\n",
            "Epoch 3/10\n",
            "375/375 [==============================] - 2s 4ms/step - loss: 2.2906 - accuracy: 0.1277 - val_loss: 2.3211 - val_accuracy: 0.0995\n",
            "Epoch 4/10\n",
            "375/375 [==============================] - 1s 4ms/step - loss: 2.2782 - accuracy: 0.1390 - val_loss: 2.3238 - val_accuracy: 0.1002\n",
            "Epoch 5/10\n",
            "375/375 [==============================] - 1s 3ms/step - loss: 2.2625 - accuracy: 0.1519 - val_loss: 2.3389 - val_accuracy: 0.0974\n",
            "Epoch 6/10\n",
            "375/375 [==============================] - 1s 3ms/step - loss: 2.2426 - accuracy: 0.1658 - val_loss: 2.3527 - val_accuracy: 0.0997\n",
            "Epoch 7/10\n",
            "375/375 [==============================] - 1s 3ms/step - loss: 2.2176 - accuracy: 0.1829 - val_loss: 2.3660 - val_accuracy: 0.0992\n",
            "Epoch 8/10\n",
            "375/375 [==============================] - 1s 3ms/step - loss: 2.1916 - accuracy: 0.1963 - val_loss: 2.3818 - val_accuracy: 0.1047\n",
            "Epoch 9/10\n",
            "375/375 [==============================] - 1s 3ms/step - loss: 2.1619 - accuracy: 0.2142 - val_loss: 2.4043 - val_accuracy: 0.0943\n",
            "Epoch 10/10\n",
            "375/375 [==============================] - 1s 3ms/step - loss: 2.1294 - accuracy: 0.2311 - val_loss: 2.4175 - val_accuracy: 0.1007\n"
          ]
        },
        {
          "output_type": "execute_result",
          "data": {
            "text/plain": [
              "<matplotlib.legend.Legend at 0x7fddb830afd0>"
            ]
          },
          "metadata": {},
          "execution_count": 26
        },
        {
          "output_type": "display_data",
          "data": {
            "text/plain": [
              "<Figure size 640x480 with 1 Axes>"
            ],
            "image/png": "[encoded data removed]"
          },
          "metadata": {}
        }
      ]
    },
    {
      "cell_type": "code",
      "source": [
        "(train_images, train_labels), _ = mnist.load_data()\n",
        "train_images = train_images.reshape((60000, 28 * 28))\n",
        "train_images = train_images.astype(\"float32\") / 255\n",
        "\n",
        "random_train_labels = train_labels[:]\n",
        "np.random.shuffle(random_train_labels)\n",
        "\n",
        "model2 = keras.Sequential([\n",
        "    layers.Dense(512, activation=\"relu\"),\n",
        "    layers.Dense(10, activation=\"softmax\")\n",
        "])\n",
        "model2.compile(optimizer=\"rmsprop\",\n",
        "              loss=\"sparse_categorical_crossentropy\",\n",
        "              metrics=[\"accuracy\"])\n",
        "model2.fit(train_images, random_train_labels,\n",
        "          epochs=100,\n",
        "          batch_size=128,\n",
        "          validation_split=0.2)\n",
        "\n",
        "model2 = get_model()\n",
        "history_random = model2.fit(\n",
        "    train_images, random_train_labels,\n",
        "    epochs=10,\n",
        "    batch_size=128,\n",
        "    validation_split=0.2)\n",
        "\n",
        "\n",
        "import matplotlib.pyplot as plt\n",
        "val_acc_random = history_random.history[\"val_accuracy\"]\n",
        "train_acc_random = history_random.history['accuracy'] #history function: ['accuracy', 'loss','val_accuracy','val_loss']\n",
        "epochs = range(1, 11)\n",
        "plt.plot(epochs, val_acc_random, \"b-\",\n",
        "         label=\"Validation accuracy with shuffled data\")\n",
        "plt.plot(epochs, train_acc_random, 'r--',\n",
        "         label='Training accuracy with shuffled data')\n",
        "plt.title(\"Training meaningless data\")\n",
        "plt.xlabel(\"Epochs\")\n",
        "plt.ylabel(\"Accuracy\")\n",
        "plt.legend()"
      ],
      "metadata": {
        "id": "djjwpv827_jK"
      },
      "execution_count": null,
      "outputs": []
    },
    {
      "cell_type": "markdown",
      "metadata": {
        "id": "9xz8dfEh9j-D"
      },
      "source": [
        "#### The manifold hypothesis"
      ]
    },
    {
      "cell_type": "markdown",
      "metadata": {
        "id": "dzZNT3G09j-E"
      },
      "source": [
        "#### Interpolation as a source of generalization"
      ]
    },
    {
      "cell_type": "markdown",
      "metadata": {
        "id": "7jxeJgSO9j-E"
      },
      "source": [
        "#### Why deep learning works"
      ]
    },
    {
      "cell_type": "markdown",
      "metadata": {
        "id": "Q_4WY_J29j-E"
      },
      "source": [
        "#### Training data is paramount"
      ]
    },
    {
      "cell_type": "markdown",
      "metadata": {
        "id": "YpkXfxJ69j-F"
      },
      "source": [
        "## Evaluating machine-learning models"
      ]
    },
    {
      "cell_type": "markdown",
      "metadata": {
        "id": "Y_q3pgnL9j-F"
      },
      "source": [
        "### Training, validation, and test sets"
      ]
    },
    {
      "cell_type": "markdown",
      "metadata": {
        "id": "Ucw47A5c9j-F"
      },
      "source": [
        "#### Simple hold-out validation"
      ]
    },
    {
      "cell_type": "markdown",
      "metadata": {
        "id": "pqyZUix69j-F"
      },
      "source": [
        "#### K-fold validation"
      ]
    },
    {
      "cell_type": "markdown",
      "metadata": {
        "id": "DjqTmmkb9j-G"
      },
      "source": [
        "#### Iterated K-fold validation with shuffling"
      ]
    },
    {
      "cell_type": "markdown",
      "metadata": {
        "id": "wwLhVdDJ9j-G"
      },
      "source": [
        "### Beating a common-sense baseline"
      ]
    },
    {
      "cell_type": "markdown",
      "metadata": {
        "id": "HGzM6jd49j-G"
      },
      "source": [
        "### Things to keep in mind about model evaluation"
      ]
    },
    {
      "cell_type": "markdown",
      "metadata": {
        "id": "eAln0IbB9j-H"
      },
      "source": [
        "## Improving model fit"
      ]
    },
    {
      "cell_type": "markdown",
      "metadata": {
        "id": "aYRb68939j-H"
      },
      "source": [
        "### Tuning key gradient descent parameters"
      ]
    },
    {
      "cell_type": "markdown",
      "metadata": {
        "id": "US3hnw8w9j-H"
      },
      "source": [
        "**Training a MNIST model with an incorrectly high learning rate**"
      ]
    },
    {
      "cell_type": "code",
      "execution_count": 10,
      "metadata": {
        "id": "96Udf3gz9j-H",
        "colab": {
          "base_uri": "https://localhost:8080/"
        },
        "outputId": "1b0fd71d-b72b-42df-a91d-38e5140c7183"
      },
      "outputs": [
        {
          "output_type": "stream",
          "name": "stdout",
          "text": [
            "Epoch 1/10\n",
            "375/375 [==============================] - 2s 5ms/step - loss: 847.4384 - accuracy: 0.3195 - val_loss: 2.5229 - val_accuracy: 0.2633\n",
            "Epoch 2/10\n",
            "375/375 [==============================] - 1s 4ms/step - loss: 2.7980 - accuracy: 0.2186 - val_loss: 2.2109 - val_accuracy: 0.2133\n",
            "Epoch 3/10\n",
            "375/375 [==============================] - 1s 3ms/step - loss: 2.5808 - accuracy: 0.1981 - val_loss: 2.2178 - val_accuracy: 0.2224\n",
            "Epoch 4/10\n",
            "375/375 [==============================] - 1s 3ms/step - loss: 2.4878 - accuracy: 0.1936 - val_loss: 2.1662 - val_accuracy: 0.2159\n",
            "Epoch 5/10\n",
            "375/375 [==============================] - 2s 4ms/step - loss: 2.5417 - accuracy: 0.2115 - val_loss: 2.1757 - val_accuracy: 0.2138\n",
            "Epoch 6/10\n",
            "375/375 [==============================] - 1s 4ms/step - loss: 2.3555 - accuracy: 0.2051 - val_loss: 2.9618 - val_accuracy: 0.2129\n",
            "Epoch 7/10\n",
            "375/375 [==============================] - 1s 3ms/step - loss: 2.3181 - accuracy: 0.2026 - val_loss: 2.1269 - val_accuracy: 0.2062\n",
            "Epoch 8/10\n",
            "375/375 [==============================] - 1s 3ms/step - loss: 2.3230 - accuracy: 0.2197 - val_loss: 23.7965 - val_accuracy: 0.1954\n",
            "Epoch 9/10\n",
            "375/375 [==============================] - 1s 3ms/step - loss: 2.4341 - accuracy: 0.2231 - val_loss: 2.0418 - val_accuracy: 0.2259\n",
            "Epoch 10/10\n",
            "375/375 [==============================] - 1s 3ms/step - loss: 2.2389 - accuracy: 0.2178 - val_loss: 2.1593 - val_accuracy: 0.2112\n"
          ]
        },
        {
          "output_type": "execute_result",
          "data": {
            "text/plain": [
              "<keras.callbacks.History at 0x7fdeca62cc40>"
            ]
          },
          "metadata": {},
          "execution_count": 10
        }
      ],
      "source": [
        "(train_images, train_labels), _ = mnist.load_data()\n",
        "train_images = train_images.reshape((60000, 28 * 28))\n",
        "train_images = train_images.astype(\"float32\") / 255\n",
        "\n",
        "model = keras.Sequential([\n",
        "    layers.Dense(512, activation=\"relu\"),\n",
        "    layers.Dense(10, activation=\"softmax\")\n",
        "])\n",
        "model.compile(optimizer=keras.optimizers.RMSprop(1.), #too high learining rate\n",
        "              loss=\"sparse_categorical_crossentropy\",\n",
        "              metrics=[\"accuracy\"])\n",
        "model.fit(train_images, train_labels,\n",
        "          epochs=10,\n",
        "          batch_size=128,\n",
        "          validation_split=0.2)"
      ]
    },
    {
      "cell_type": "markdown",
      "metadata": {
        "id": "rX5yUOc09j-I"
      },
      "source": [
        "**The same model with a more appropriate learning rate**"
      ]
    },
    {
      "cell_type": "code",
      "execution_count": 11,
      "metadata": {
        "id": "bj4zQ4Ql9j-I",
        "colab": {
          "base_uri": "https://localhost:8080/"
        },
        "outputId": "cb9b1fe5-552f-4d3a-f689-567d8a719982"
      },
      "outputs": [
        {
          "output_type": "stream",
          "name": "stdout",
          "text": [
            "Epoch 1/10\n",
            "375/375 [==============================] - 2s 4ms/step - loss: 0.3162 - accuracy: 0.9145 - val_loss: 0.1861 - val_accuracy: 0.9459\n",
            "Epoch 2/10\n",
            "375/375 [==============================] - 1s 4ms/step - loss: 0.1242 - accuracy: 0.9659 - val_loss: 0.1849 - val_accuracy: 0.9553\n",
            "Epoch 3/10\n",
            "375/375 [==============================] - 1s 3ms/step - loss: 0.1023 - accuracy: 0.9730 - val_loss: 0.1643 - val_accuracy: 0.9668\n",
            "Epoch 4/10\n",
            "375/375 [==============================] - 2s 4ms/step - loss: 0.0778 - accuracy: 0.9796 - val_loss: 0.1529 - val_accuracy: 0.9696\n",
            "Epoch 5/10\n",
            "375/375 [==============================] - 1s 3ms/step - loss: 0.0704 - accuracy: 0.9826 - val_loss: 0.1657 - val_accuracy: 0.9730\n",
            "Epoch 6/10\n",
            "375/375 [==============================] - 1s 3ms/step - loss: 0.0615 - accuracy: 0.9855 - val_loss: 0.1649 - val_accuracy: 0.9744\n",
            "Epoch 7/10\n",
            "375/375 [==============================] - 1s 3ms/step - loss: 0.0513 - accuracy: 0.9875 - val_loss: 0.2050 - val_accuracy: 0.9721\n",
            "Epoch 8/10\n",
            "375/375 [==============================] - 1s 3ms/step - loss: 0.0474 - accuracy: 0.9885 - val_loss: 0.1871 - val_accuracy: 0.9722\n",
            "Epoch 9/10\n",
            "375/375 [==============================] - 1s 3ms/step - loss: 0.0440 - accuracy: 0.9895 - val_loss: 0.2220 - val_accuracy: 0.9737\n",
            "Epoch 10/10\n",
            "375/375 [==============================] - 1s 3ms/step - loss: 0.0411 - accuracy: 0.9913 - val_loss: 0.2043 - val_accuracy: 0.9740\n"
          ]
        },
        {
          "output_type": "execute_result",
          "data": {
            "text/plain": [
              "<keras.callbacks.History at 0x7fdecb5abd60>"
            ]
          },
          "metadata": {},
          "execution_count": 11
        }
      ],
      "source": [
        "model = keras.Sequential([\n",
        "    layers.Dense(512, activation=\"relu\"),\n",
        "    layers.Dense(10, activation=\"softmax\")\n",
        "])\n",
        "model.compile(optimizer=keras.optimizers.RMSprop(1e-2), #appropriate learning rate\n",
        "              loss=\"sparse_categorical_crossentropy\",\n",
        "              metrics=[\"accuracy\"])\n",
        "model.fit(train_images, train_labels,\n",
        "          epochs=10,\n",
        "          batch_size=128,\n",
        "          validation_split=0.2)"
      ]
    },
    {
      "cell_type": "markdown",
      "metadata": {
        "id": "LqRuU4lI9j-I"
      },
      "source": [
        "### Leveraging better architecture priors"
      ]
    },
    {
      "cell_type": "markdown",
      "metadata": {
        "id": "p-_ni2bS9j-J"
      },
      "source": [
        "### Increasing model capacity"
      ]
    },
    {
      "cell_type": "markdown",
      "metadata": {
        "id": "2x5mLdjU9j-J"
      },
      "source": [
        "**A simple logistic regression on MNIST**"
      ]
    },
    {
      "cell_type": "code",
      "execution_count": 12,
      "metadata": {
        "id": "ng8U2ez79j-J",
        "colab": {
          "base_uri": "https://localhost:8080/"
        },
        "outputId": "a2d7fced-64da-4b6f-fdd6-a849c0615a5b"
      },
      "outputs": [
        {
          "output_type": "stream",
          "name": "stdout",
          "text": [
            "Epoch 1/20\n",
            "375/375 [==============================] - 2s 4ms/step - loss: 0.6716 - accuracy: 0.8324 - val_loss: 0.3602 - val_accuracy: 0.9039\n",
            "Epoch 2/20\n",
            "375/375 [==============================] - 1s 3ms/step - loss: 0.3528 - accuracy: 0.9026 - val_loss: 0.3085 - val_accuracy: 0.9147\n",
            "Epoch 3/20\n",
            "375/375 [==============================] - 1s 3ms/step - loss: 0.3177 - accuracy: 0.9116 - val_loss: 0.2910 - val_accuracy: 0.9181\n",
            "Epoch 4/20\n",
            "375/375 [==============================] - 1s 3ms/step - loss: 0.3016 - accuracy: 0.9159 - val_loss: 0.2832 - val_accuracy: 0.9210\n",
            "Epoch 5/20\n",
            "375/375 [==============================] - 1s 3ms/step - loss: 0.2920 - accuracy: 0.9186 - val_loss: 0.2778 - val_accuracy: 0.9233\n",
            "Epoch 6/20\n",
            "375/375 [==============================] - 1s 4ms/step - loss: 0.2851 - accuracy: 0.9209 - val_loss: 0.2754 - val_accuracy: 0.9238\n",
            "Epoch 7/20\n",
            "375/375 [==============================] - 2s 4ms/step - loss: 0.2805 - accuracy: 0.9224 - val_loss: 0.2730 - val_accuracy: 0.9250\n",
            "Epoch 8/20\n",
            "375/375 [==============================] - 1s 3ms/step - loss: 0.2766 - accuracy: 0.9235 - val_loss: 0.2687 - val_accuracy: 0.9259\n",
            "Epoch 9/20\n",
            "375/375 [==============================] - 1s 3ms/step - loss: 0.2735 - accuracy: 0.9240 - val_loss: 0.2679 - val_accuracy: 0.9272\n",
            "Epoch 10/20\n",
            "375/375 [==============================] - 1s 3ms/step - loss: 0.2708 - accuracy: 0.9246 - val_loss: 0.2664 - val_accuracy: 0.9273\n",
            "Epoch 11/20\n",
            "375/375 [==============================] - 1s 3ms/step - loss: 0.2683 - accuracy: 0.9253 - val_loss: 0.2648 - val_accuracy: 0.9283\n",
            "Epoch 12/20\n",
            "375/375 [==============================] - 1s 3ms/step - loss: 0.2665 - accuracy: 0.9265 - val_loss: 0.2644 - val_accuracy: 0.9288\n",
            "Epoch 13/20\n",
            "375/375 [==============================] - 1s 3ms/step - loss: 0.2649 - accuracy: 0.9271 - val_loss: 0.2644 - val_accuracy: 0.9302\n",
            "Epoch 14/20\n",
            "375/375 [==============================] - 1s 3ms/step - loss: 0.2628 - accuracy: 0.9271 - val_loss: 0.2630 - val_accuracy: 0.9293\n",
            "Epoch 15/20\n",
            "375/375 [==============================] - 1s 3ms/step - loss: 0.2618 - accuracy: 0.9283 - val_loss: 0.2625 - val_accuracy: 0.9289\n",
            "Epoch 16/20\n",
            "375/375 [==============================] - 1s 3ms/step - loss: 0.2605 - accuracy: 0.9285 - val_loss: 0.2628 - val_accuracy: 0.9298\n",
            "Epoch 17/20\n",
            "375/375 [==============================] - 1s 4ms/step - loss: 0.2592 - accuracy: 0.9288 - val_loss: 0.2641 - val_accuracy: 0.9282\n",
            "Epoch 18/20\n",
            "375/375 [==============================] - 1s 3ms/step - loss: 0.2582 - accuracy: 0.9292 - val_loss: 0.2613 - val_accuracy: 0.9289\n",
            "Epoch 19/20\n",
            "375/375 [==============================] - 1s 3ms/step - loss: 0.2570 - accuracy: 0.9298 - val_loss: 0.2610 - val_accuracy: 0.9301\n",
            "Epoch 20/20\n",
            "375/375 [==============================] - 1s 3ms/step - loss: 0.2565 - accuracy: 0.9298 - val_loss: 0.2616 - val_accuracy: 0.9299\n"
          ]
        }
      ],
      "source": [
        "model = keras.Sequential([layers.Dense(10, activation=\"softmax\")])\n",
        "model.compile(optimizer=\"rmsprop\",\n",
        "              loss=\"sparse_categorical_crossentropy\",\n",
        "              metrics=[\"accuracy\"])\n",
        "history_small_model = model.fit(\n",
        "    train_images, train_labels,\n",
        "    epochs=20,\n",
        "    batch_size=128,\n",
        "    validation_split=0.2)"
      ]
    },
    {
      "cell_type": "code",
      "execution_count": 13,
      "metadata": {
        "id": "S3u2qgDZ9j-K",
        "colab": {
          "base_uri": "https://localhost:8080/",
          "height": 490
        },
        "outputId": "cf41e28a-6a62-4aff-d967-8c8b0e5a5bd0"
      },
      "outputs": [
        {
          "output_type": "execute_result",
          "data": {
            "text/plain": [
              "<matplotlib.legend.Legend at 0x7fdecc503d30>"
            ]
          },
          "metadata": {},
          "execution_count": 13
        },
        {
          "output_type": "display_data",
          "data": {
            "text/plain": [
              "<Figure size 640x480 with 1 Axes>"
            ],
            "image/png": "[encoded data removed]"
          },
          "metadata": {}
        }
      ],
      "source": [
        "import matplotlib.pyplot as plt\n",
        "val_loss = history_small_model.history[\"val_loss\"]\n",
        "epochs = range(1, 21)\n",
        "plt.plot(epochs, val_loss, \"b--\",\n",
        "         label=\"Validation loss\")\n",
        "plt.title(\"Effect of insufficient model capacity on validation loss\")\n",
        "plt.xlabel(\"Epochs\")\n",
        "plt.ylabel(\"Loss\")\n",
        "plt.legend()"
      ]
    },
    {
      "cell_type": "code",
      "execution_count": 14,
      "metadata": {
        "id": "5DhKLaZC9j-K",
        "colab": {
          "base_uri": "https://localhost:8080/"
        },
        "outputId": "959756c0-31fa-42f6-9bd5-6959902c2907"
      },
      "outputs": [
        {
          "output_type": "stream",
          "name": "stdout",
          "text": [
            "Epoch 1/20\n",
            "375/375 [==============================] - 3s 5ms/step - loss: 0.3597 - accuracy: 0.8985 - val_loss: 0.2149 - val_accuracy: 0.9346\n",
            "Epoch 2/20\n",
            "375/375 [==============================] - 1s 3ms/step - loss: 0.1606 - accuracy: 0.9516 - val_loss: 0.1339 - val_accuracy: 0.9613\n",
            "Epoch 3/20\n",
            "375/375 [==============================] - 1s 3ms/step - loss: 0.1134 - accuracy: 0.9662 - val_loss: 0.1116 - val_accuracy: 0.9657\n",
            "Epoch 4/20\n",
            "375/375 [==============================] - 1s 3ms/step - loss: 0.0854 - accuracy: 0.9742 - val_loss: 0.1006 - val_accuracy: 0.9692\n",
            "Epoch 5/20\n",
            "375/375 [==============================] - 1s 3ms/step - loss: 0.0691 - accuracy: 0.9790 - val_loss: 0.0936 - val_accuracy: 0.9723\n",
            "Epoch 6/20\n",
            "375/375 [==============================] - 1s 3ms/step - loss: 0.0575 - accuracy: 0.9818 - val_loss: 0.0961 - val_accuracy: 0.9722\n",
            "Epoch 7/20\n",
            "375/375 [==============================] - 1s 4ms/step - loss: 0.0481 - accuracy: 0.9850 - val_loss: 0.0938 - val_accuracy: 0.9735\n",
            "Epoch 8/20\n",
            "375/375 [==============================] - 1s 3ms/step - loss: 0.0392 - accuracy: 0.9880 - val_loss: 0.1033 - val_accuracy: 0.9731\n",
            "Epoch 9/20\n",
            "375/375 [==============================] - 1s 4ms/step - loss: 0.0332 - accuracy: 0.9896 - val_loss: 0.0930 - val_accuracy: 0.9758\n",
            "Epoch 10/20\n",
            "375/375 [==============================] - 2s 5ms/step - loss: 0.0276 - accuracy: 0.9919 - val_loss: 0.0960 - val_accuracy: 0.9753\n",
            "Epoch 11/20\n",
            "375/375 [==============================] - 1s 3ms/step - loss: 0.0233 - accuracy: 0.9933 - val_loss: 0.1050 - val_accuracy: 0.9729\n",
            "Epoch 12/20\n",
            "375/375 [==============================] - 1s 3ms/step - loss: 0.0205 - accuracy: 0.9936 - val_loss: 0.0979 - val_accuracy: 0.9758\n",
            "Epoch 13/20\n",
            "375/375 [==============================] - 1s 4ms/step - loss: 0.0165 - accuracy: 0.9949 - val_loss: 0.1060 - val_accuracy: 0.9755\n",
            "Epoch 14/20\n",
            "375/375 [==============================] - 1s 3ms/step - loss: 0.0143 - accuracy: 0.9956 - val_loss: 0.1080 - val_accuracy: 0.9774\n",
            "Epoch 15/20\n",
            "375/375 [==============================] - 1s 3ms/step - loss: 0.0121 - accuracy: 0.9960 - val_loss: 0.1123 - val_accuracy: 0.9756\n",
            "Epoch 16/20\n",
            "375/375 [==============================] - 1s 3ms/step - loss: 0.0107 - accuracy: 0.9967 - val_loss: 0.1241 - val_accuracy: 0.9744\n",
            "Epoch 17/20\n",
            "375/375 [==============================] - 1s 3ms/step - loss: 0.0085 - accuracy: 0.9976 - val_loss: 0.1301 - val_accuracy: 0.9737\n",
            "Epoch 18/20\n",
            "375/375 [==============================] - 1s 3ms/step - loss: 0.0076 - accuracy: 0.9977 - val_loss: 0.1204 - val_accuracy: 0.9766\n",
            "Epoch 19/20\n",
            "375/375 [==============================] - 2s 5ms/step - loss: 0.0063 - accuracy: 0.9981 - val_loss: 0.1240 - val_accuracy: 0.9773\n",
            "Epoch 20/20\n",
            "375/375 [==============================] - 2s 4ms/step - loss: 0.0051 - accuracy: 0.9984 - val_loss: 0.1341 - val_accuracy: 0.9760\n"
          ]
        }
      ],
      "source": [
        "model = keras.Sequential([\n",
        "    layers.Dense(96, activation=\"relu\"),\n",
        "    layers.Dense(96, activation=\"relu\"),\n",
        "    layers.Dense(10, activation=\"softmax\"),\n",
        "])\n",
        "model.compile(optimizer=\"rmsprop\",\n",
        "              loss=\"sparse_categorical_crossentropy\",\n",
        "              metrics=[\"accuracy\"])\n",
        "history_large_model = model.fit(\n",
        "    train_images, train_labels,\n",
        "    epochs=20,\n",
        "    batch_size=128,\n",
        "    validation_split=0.2)"
      ]
    },
    {
      "cell_type": "markdown",
      "source": [
        "w6 practice\n",
        "- Visualize validation loss of the original model, model with lower capacity and model with larger capacity"
      ],
      "metadata": {
        "id": "Z3cO-Rg69z9T"
      }
    },
    {
      "cell_type": "code",
      "source": [
        "#small model\n",
        "model1 = keras.Sequential([layers.Dense(10, activation=\"softmax\")])\n",
        "model1.compile(optimizer=\"rmsprop\",\n",
        "              loss=\"sparse_categorical_crossentropy\",\n",
        "              metrics=[\"accuracy\"])\n",
        "history_small_model = model1.fit(\n",
        "    train_images, train_labels,\n",
        "    epochs=20,\n",
        "    batch_size=128,\n",
        "    validation_split=0.2)"
      ],
      "metadata": {
        "colab": {
          "base_uri": "https://localhost:8080/"
        },
        "id": "yDIGEUpI97bt",
        "outputId": "663ea870-50fe-487f-f850-8d962c53393b"
      },
      "execution_count": 33,
      "outputs": [
        {
          "output_type": "stream",
          "name": "stdout",
          "text": [
            "Epoch 1/20\n",
            "375/375 [==============================] - 2s 4ms/step - loss: 2.3280 - accuracy: 0.1029 - val_loss: 2.3236 - val_accuracy: 0.1047\n",
            "Epoch 2/20\n",
            "375/375 [==============================] - 1s 3ms/step - loss: 2.3115 - accuracy: 0.1076 - val_loss: 2.3235 - val_accuracy: 0.1008\n",
            "Epoch 3/20\n",
            "375/375 [==============================] - 2s 6ms/step - loss: 2.3056 - accuracy: 0.1161 - val_loss: 2.3217 - val_accuracy: 0.1007\n",
            "Epoch 4/20\n",
            "375/375 [==============================] - 1s 4ms/step - loss: 2.3013 - accuracy: 0.1189 - val_loss: 2.3252 - val_accuracy: 0.1033\n",
            "Epoch 5/20\n",
            "375/375 [==============================] - 2s 5ms/step - loss: 2.2985 - accuracy: 0.1236 - val_loss: 2.3226 - val_accuracy: 0.1038\n",
            "Epoch 6/20\n",
            "375/375 [==============================] - 1s 3ms/step - loss: 2.2963 - accuracy: 0.1231 - val_loss: 2.3222 - val_accuracy: 0.1041\n",
            "Epoch 7/20\n",
            "375/375 [==============================] - 2s 4ms/step - loss: 2.2938 - accuracy: 0.1261 - val_loss: 2.3218 - val_accuracy: 0.1034\n",
            "Epoch 8/20\n",
            "375/375 [==============================] - 2s 4ms/step - loss: 2.2923 - accuracy: 0.1276 - val_loss: 2.3243 - val_accuracy: 0.1010\n",
            "Epoch 9/20\n",
            "375/375 [==============================] - 1s 3ms/step - loss: 2.2903 - accuracy: 0.1284 - val_loss: 2.3224 - val_accuracy: 0.1049\n",
            "Epoch 10/20\n",
            "375/375 [==============================] - 1s 3ms/step - loss: 2.2890 - accuracy: 0.1285 - val_loss: 2.3277 - val_accuracy: 0.0988\n",
            "Epoch 11/20\n",
            "375/375 [==============================] - 1s 3ms/step - loss: 2.2877 - accuracy: 0.1298 - val_loss: 2.3286 - val_accuracy: 0.1008\n",
            "Epoch 12/20\n",
            "375/375 [==============================] - 1s 3ms/step - loss: 2.2863 - accuracy: 0.1299 - val_loss: 2.3291 - val_accuracy: 0.1046\n",
            "Epoch 13/20\n",
            "375/375 [==============================] - 1s 3ms/step - loss: 2.2854 - accuracy: 0.1327 - val_loss: 2.3298 - val_accuracy: 0.1026\n",
            "Epoch 14/20\n",
            "375/375 [==============================] - 2s 4ms/step - loss: 2.2840 - accuracy: 0.1342 - val_loss: 2.3322 - val_accuracy: 0.1011\n",
            "Epoch 15/20\n",
            "375/375 [==============================] - 1s 3ms/step - loss: 2.2829 - accuracy: 0.1333 - val_loss: 2.3303 - val_accuracy: 0.1023\n",
            "Epoch 16/20\n",
            "375/375 [==============================] - 1s 3ms/step - loss: 2.2825 - accuracy: 0.1354 - val_loss: 2.3296 - val_accuracy: 0.1034\n",
            "Epoch 17/20\n",
            "375/375 [==============================] - 1s 3ms/step - loss: 2.2823 - accuracy: 0.1361 - val_loss: 2.3330 - val_accuracy: 0.1002\n",
            "Epoch 18/20\n",
            "375/375 [==============================] - 1s 3ms/step - loss: 2.2807 - accuracy: 0.1365 - val_loss: 2.3336 - val_accuracy: 0.0991\n",
            "Epoch 19/20\n",
            "375/375 [==============================] - 1s 3ms/step - loss: 2.2801 - accuracy: 0.1380 - val_loss: 2.3326 - val_accuracy: 0.1002\n",
            "Epoch 20/20\n",
            "375/375 [==============================] - 1s 3ms/step - loss: 2.2792 - accuracy: 0.1393 - val_loss: 2.3369 - val_accuracy: 0.1032\n"
          ]
        }
      ]
    },
    {
      "cell_type": "code",
      "source": [
        "#larger model\n",
        "model2 = keras.Sequential([\n",
        "    layers.Dense(96, activation=\"relu\"),\n",
        "    layers.Dense(96, activation=\"relu\"),\n",
        "    layers.Dense(10, activation=\"softmax\"),\n",
        "])\n",
        "model2.compile(optimizer=\"rmsprop\",\n",
        "              loss=\"sparse_categorical_crossentropy\",\n",
        "              metrics=[\"accuracy\"])\n",
        "history_large_model = model2.fit(\n",
        "    train_images, train_labels,\n",
        "    epochs=20,\n",
        "    batch_size=128,\n",
        "    validation_split=0.2)"
      ],
      "metadata": {
        "colab": {
          "base_uri": "https://localhost:8080/"
        },
        "id": "By9LtfjNBNjX",
        "outputId": "15363839-4580-4f97-8e0d-9bf9433e26f7"
      },
      "execution_count": 34,
      "outputs": [
        {
          "output_type": "stream",
          "name": "stdout",
          "text": [
            "Epoch 1/20\n",
            "375/375 [==============================] - 3s 6ms/step - loss: 2.3072 - accuracy: 0.1045 - val_loss: 2.3041 - val_accuracy: 0.1026\n",
            "Epoch 2/20\n",
            "375/375 [==============================] - 1s 3ms/step - loss: 2.3013 - accuracy: 0.1112 - val_loss: 2.3047 - val_accuracy: 0.1056\n",
            "Epoch 3/20\n",
            "375/375 [==============================] - 1s 4ms/step - loss: 2.2985 - accuracy: 0.1157 - val_loss: 2.3053 - val_accuracy: 0.1075\n",
            "Epoch 4/20\n",
            "375/375 [==============================] - 1s 4ms/step - loss: 2.2946 - accuracy: 0.1213 - val_loss: 2.3086 - val_accuracy: 0.1067\n",
            "Epoch 5/20\n",
            "375/375 [==============================] - 1s 4ms/step - loss: 2.2891 - accuracy: 0.1280 - val_loss: 2.3140 - val_accuracy: 0.1008\n",
            "Epoch 6/20\n",
            "375/375 [==============================] - 1s 3ms/step - loss: 2.2829 - accuracy: 0.1359 - val_loss: 2.3201 - val_accuracy: 0.1015\n",
            "Epoch 7/20\n",
            "375/375 [==============================] - 1s 4ms/step - loss: 2.2745 - accuracy: 0.1422 - val_loss: 2.3272 - val_accuracy: 0.1017\n",
            "Epoch 8/20\n",
            "375/375 [==============================] - 1s 4ms/step - loss: 2.2653 - accuracy: 0.1485 - val_loss: 2.3328 - val_accuracy: 0.1034\n",
            "Epoch 9/20\n",
            "375/375 [==============================] - 2s 5ms/step - loss: 2.2533 - accuracy: 0.1596 - val_loss: 2.3353 - val_accuracy: 0.0990\n",
            "Epoch 10/20\n",
            "375/375 [==============================] - 1s 4ms/step - loss: 2.2410 - accuracy: 0.1654 - val_loss: 2.3515 - val_accuracy: 0.0997\n",
            "Epoch 11/20\n",
            "375/375 [==============================] - 1s 4ms/step - loss: 2.2283 - accuracy: 0.1735 - val_loss: 2.3592 - val_accuracy: 0.1010\n",
            "Epoch 12/20\n",
            "375/375 [==============================] - 2s 6ms/step - loss: 2.2148 - accuracy: 0.1805 - val_loss: 2.3799 - val_accuracy: 0.0997\n",
            "Epoch 13/20\n",
            "375/375 [==============================] - 1s 4ms/step - loss: 2.2003 - accuracy: 0.1882 - val_loss: 2.3875 - val_accuracy: 0.0940\n",
            "Epoch 14/20\n",
            "375/375 [==============================] - 1s 4ms/step - loss: 2.1848 - accuracy: 0.1960 - val_loss: 2.4041 - val_accuracy: 0.0973\n",
            "Epoch 15/20\n",
            "375/375 [==============================] - 1s 4ms/step - loss: 2.1696 - accuracy: 0.2065 - val_loss: 2.4081 - val_accuracy: 0.0964\n",
            "Epoch 16/20\n",
            "375/375 [==============================] - 3s 8ms/step - loss: 2.1561 - accuracy: 0.2122 - val_loss: 2.4312 - val_accuracy: 0.0931\n",
            "Epoch 17/20\n",
            "375/375 [==============================] - 2s 5ms/step - loss: 2.1404 - accuracy: 0.2177 - val_loss: 2.4399 - val_accuracy: 0.0996\n",
            "Epoch 18/20\n",
            "375/375 [==============================] - 1s 4ms/step - loss: 2.1242 - accuracy: 0.2271 - val_loss: 2.4549 - val_accuracy: 0.0978\n",
            "Epoch 19/20\n",
            "375/375 [==============================] - 2s 5ms/step - loss: 2.1096 - accuracy: 0.2349 - val_loss: 2.4727 - val_accuracy: 0.0996\n",
            "Epoch 20/20\n",
            "375/375 [==============================] - 1s 4ms/step - loss: 2.0948 - accuracy: 0.2395 - val_loss: 2.4945 - val_accuracy: 0.1004\n"
          ]
        }
      ]
    },
    {
      "cell_type": "code",
      "source": [
        "#original model\n",
        "model3=keras.Sequential([\n",
        "    layers.Dense(30, activation='relu'),\n",
        "    layers.Dense(30, activation='relu'),\n",
        "    layers.Dense(10, activation='softmax')\n",
        "])\n",
        "model3.compile(optimizer=\"rmsprop\",\n",
        "              loss=\"sparse_categorical_crossentropy\",\n",
        "              metrics=[\"accuracy\"])\n",
        "history_model=model3.fit(\n",
        "    train_images, train_labels,\n",
        "    epochs=20,\n",
        "    batch_size=128,\n",
        "    validation_split=0.2)"
      ],
      "metadata": {
        "colab": {
          "base_uri": "https://localhost:8080/"
        },
        "id": "Wb_7nh94BPyi",
        "outputId": "99aaafd6-aa9e-4525-92b9-984ab2f7202a"
      },
      "execution_count": 37,
      "outputs": [
        {
          "output_type": "stream",
          "name": "stdout",
          "text": [
            "Epoch 1/20\n",
            "375/375 [==============================] - 3s 4ms/step - loss: 2.3037 - accuracy: 0.1051 - val_loss: 2.3034 - val_accuracy: 0.1090\n",
            "Epoch 2/20\n",
            "375/375 [==============================] - 1s 4ms/step - loss: 2.3012 - accuracy: 0.1109 - val_loss: 2.3035 - val_accuracy: 0.1114\n",
            "Epoch 3/20\n",
            "375/375 [==============================] - 1s 4ms/step - loss: 2.2998 - accuracy: 0.1117 - val_loss: 2.3044 - val_accuracy: 0.1056\n",
            "Epoch 4/20\n",
            "375/375 [==============================] - 2s 4ms/step - loss: 2.2982 - accuracy: 0.1143 - val_loss: 2.3040 - val_accuracy: 0.1107\n",
            "Epoch 5/20\n",
            "375/375 [==============================] - 2s 4ms/step - loss: 2.2960 - accuracy: 0.1167 - val_loss: 2.3052 - val_accuracy: 0.1090\n",
            "Epoch 6/20\n",
            "375/375 [==============================] - 1s 4ms/step - loss: 2.2935 - accuracy: 0.1193 - val_loss: 2.3080 - val_accuracy: 0.1047\n",
            "Epoch 7/20\n",
            "375/375 [==============================] - 1s 3ms/step - loss: 2.2903 - accuracy: 0.1241 - val_loss: 2.3137 - val_accuracy: 0.1051\n",
            "Epoch 8/20\n",
            "375/375 [==============================] - 1s 4ms/step - loss: 2.2873 - accuracy: 0.1252 - val_loss: 2.3150 - val_accuracy: 0.1017\n",
            "Epoch 9/20\n",
            "375/375 [==============================] - 1s 3ms/step - loss: 2.2843 - accuracy: 0.1297 - val_loss: 2.3168 - val_accuracy: 0.1022\n",
            "Epoch 10/20\n",
            "375/375 [==============================] - 1s 3ms/step - loss: 2.2807 - accuracy: 0.1319 - val_loss: 2.3217 - val_accuracy: 0.1024\n",
            "Epoch 11/20\n",
            "375/375 [==============================] - 1s 4ms/step - loss: 2.2770 - accuracy: 0.1359 - val_loss: 2.3261 - val_accuracy: 0.1048\n",
            "Epoch 12/20\n",
            "375/375 [==============================] - 1s 4ms/step - loss: 2.2729 - accuracy: 0.1392 - val_loss: 2.3231 - val_accuracy: 0.1023\n",
            "Epoch 13/20\n",
            "375/375 [==============================] - 2s 5ms/step - loss: 2.2695 - accuracy: 0.1424 - val_loss: 2.3292 - val_accuracy: 0.1012\n",
            "Epoch 14/20\n",
            "375/375 [==============================] - 2s 4ms/step - loss: 2.2655 - accuracy: 0.1429 - val_loss: 2.3329 - val_accuracy: 0.0980\n",
            "Epoch 15/20\n",
            "375/375 [==============================] - 1s 3ms/step - loss: 2.2615 - accuracy: 0.1469 - val_loss: 2.3322 - val_accuracy: 0.1035\n",
            "Epoch 16/20\n",
            "375/375 [==============================] - 1s 3ms/step - loss: 2.2591 - accuracy: 0.1480 - val_loss: 2.3349 - val_accuracy: 0.1043\n",
            "Epoch 17/20\n",
            "375/375 [==============================] - 1s 4ms/step - loss: 2.2550 - accuracy: 0.1505 - val_loss: 2.3404 - val_accuracy: 0.1028\n",
            "Epoch 18/20\n",
            "375/375 [==============================] - 1s 3ms/step - loss: 2.2512 - accuracy: 0.1554 - val_loss: 2.3434 - val_accuracy: 0.1031\n",
            "Epoch 19/20\n",
            "375/375 [==============================] - 1s 4ms/step - loss: 2.2473 - accuracy: 0.1547 - val_loss: 2.3498 - val_accuracy: 0.0990\n",
            "Epoch 20/20\n",
            "375/375 [==============================] - 1s 4ms/step - loss: 2.2442 - accuracy: 0.1564 - val_loss: 2.3455 - val_accuracy: 0.0998\n"
          ]
        }
      ]
    },
    {
      "cell_type": "code",
      "source": [
        "import matplotlib.pyplot as plt\n",
        "val_loss1 = history_small_model.history[\"val_loss\"]\n",
        "val_loss2 = history_large_model.history['val_loss']\n",
        "val_loss3=history_model.history['val_loss']\n",
        "epochs = range(1, 21)\n",
        "plt.plot(epochs, val_loss1, \"b--\",\n",
        "         label=\"Validation loss with lower capacity\")\n",
        "plt.plot(epochs, val_loss2, 'b-',\n",
        "         label='Validation loss with larger capacity')\n",
        "plt.plot(epochs, val_loss3, 'r-',\n",
        "         label='Validation loss of original data')\n",
        "plt.title(\"Effect of insufficient model capacity on validation loss\")\n",
        "plt.xlabel(\"Epochs\")\n",
        "plt.ylabel(\"Loss\")\n",
        "plt.legend()"
      ],
      "metadata": {
        "colab": {
          "base_uri": "https://localhost:8080/",
          "height": 490
        },
        "id": "XJ0zADb5BHhh",
        "outputId": "f1d681b4-98b3-40da-e04d-33370271011e"
      },
      "execution_count": 38,
      "outputs": [
        {
          "output_type": "execute_result",
          "data": {
            "text/plain": [
              "<matplotlib.legend.Legend at 0x7fddbc5f4490>"
            ]
          },
          "metadata": {},
          "execution_count": 38
        },
        {
          "output_type": "display_data",
          "data": {
            "text/plain": [
              "<Figure size 640x480 with 1 Axes>"
            ],
            "image/png": "[encoded data removed]"
          },
          "metadata": {}
        }
      ]
    },
    {
      "cell_type": "markdown",
      "metadata": {
        "id": "zXAAwO8t9j-K"
      },
      "source": [
        "## Improving generalization"
      ]
    },
    {
      "cell_type": "markdown",
      "metadata": {
        "id": "h-B052Nd9j-L"
      },
      "source": [
        "### Dataset curation"
      ]
    },
    {
      "cell_type": "markdown",
      "metadata": {
        "id": "RpRiXU2J9j-L"
      },
      "source": [
        "### Feature engineering"
      ]
    },
    {
      "cell_type": "markdown",
      "metadata": {
        "id": "MHlt7_BJ9j-L"
      },
      "source": [
        "### Using early stopping"
      ]
    },
    {
      "cell_type": "markdown",
      "metadata": {
        "id": "sqXpRZR99j-L"
      },
      "source": [
        "### Regularizing your model"
      ]
    },
    {
      "cell_type": "markdown",
      "metadata": {
        "id": "o7Z_9CKE9j-M"
      },
      "source": [
        "#### Reducing the network's size"
      ]
    },
    {
      "cell_type": "markdown",
      "metadata": {
        "id": "oHJl1yai9j-M"
      },
      "source": [
        "**Original model**"
      ]
    },
    {
      "cell_type": "code",
      "execution_count": 15,
      "metadata": {
        "id": "ePLCJp_G9j-M",
        "colab": {
          "base_uri": "https://localhost:8080/"
        },
        "outputId": "bf1f3a5f-15be-440a-be1f-9620354b53d6"
      },
      "outputs": [
        {
          "output_type": "stream",
          "name": "stdout",
          "text": [
            "Downloading data from https://storage.googleapis.com/tensorflow/tf-keras-datasets/imdb.npz\n",
            "17464789/17464789 [==============================] - 2s 0us/step\n",
            "Epoch 1/20\n",
            "30/30 [==============================] - 3s 56ms/step - loss: 0.5283 - accuracy: 0.7714 - val_loss: 0.3982 - val_accuracy: 0.8726\n",
            "Epoch 2/20\n",
            "30/30 [==============================] - 1s 25ms/step - loss: 0.3298 - accuracy: 0.8949 - val_loss: 0.3139 - val_accuracy: 0.8875\n",
            "Epoch 3/20\n",
            "30/30 [==============================] - 1s 23ms/step - loss: 0.2494 - accuracy: 0.9183 - val_loss: 0.3080 - val_accuracy: 0.8753\n",
            "Epoch 4/20\n",
            "30/30 [==============================] - 1s 22ms/step - loss: 0.1974 - accuracy: 0.9363 - val_loss: 0.2839 - val_accuracy: 0.8877\n",
            "Epoch 5/20\n",
            "30/30 [==============================] - 1s 25ms/step - loss: 0.1636 - accuracy: 0.9479 - val_loss: 0.2756 - val_accuracy: 0.8930\n",
            "Epoch 6/20\n",
            "30/30 [==============================] - 1s 25ms/step - loss: 0.1410 - accuracy: 0.9548 - val_loss: 0.3161 - val_accuracy: 0.8760\n",
            "Epoch 7/20\n",
            "30/30 [==============================] - 1s 25ms/step - loss: 0.1234 - accuracy: 0.9614 - val_loss: 0.2948 - val_accuracy: 0.8876\n",
            "Epoch 8/20\n",
            "30/30 [==============================] - 1s 22ms/step - loss: 0.1061 - accuracy: 0.9681 - val_loss: 0.3124 - val_accuracy: 0.8833\n",
            "Epoch 9/20\n",
            "30/30 [==============================] - 1s 22ms/step - loss: 0.0917 - accuracy: 0.9746 - val_loss: 0.3225 - val_accuracy: 0.8834\n",
            "Epoch 10/20\n",
            "30/30 [==============================] - 1s 25ms/step - loss: 0.0784 - accuracy: 0.9786 - val_loss: 0.3529 - val_accuracy: 0.8786\n",
            "Epoch 11/20\n",
            "30/30 [==============================] - 1s 24ms/step - loss: 0.0687 - accuracy: 0.9831 - val_loss: 0.3619 - val_accuracy: 0.8804\n",
            "Epoch 12/20\n",
            "30/30 [==============================] - 1s 25ms/step - loss: 0.0600 - accuracy: 0.9845 - val_loss: 0.3798 - val_accuracy: 0.8767\n",
            "Epoch 13/20\n",
            "30/30 [==============================] - 1s 40ms/step - loss: 0.0521 - accuracy: 0.9885 - val_loss: 0.4051 - val_accuracy: 0.8759\n",
            "Epoch 14/20\n",
            "30/30 [==============================] - 1s 42ms/step - loss: 0.0450 - accuracy: 0.9899 - val_loss: 0.4255 - val_accuracy: 0.8745\n",
            "Epoch 15/20\n",
            "30/30 [==============================] - 1s 25ms/step - loss: 0.0358 - accuracy: 0.9939 - val_loss: 0.4464 - val_accuracy: 0.8738\n",
            "Epoch 16/20\n",
            "30/30 [==============================] - 1s 25ms/step - loss: 0.0342 - accuracy: 0.9930 - val_loss: 0.5066 - val_accuracy: 0.8673\n",
            "Epoch 17/20\n",
            "30/30 [==============================] - 1s 25ms/step - loss: 0.0287 - accuracy: 0.9952 - val_loss: 0.4837 - val_accuracy: 0.8734\n",
            "Epoch 18/20\n",
            "30/30 [==============================] - 1s 25ms/step - loss: 0.0245 - accuracy: 0.9963 - val_loss: 0.5258 - val_accuracy: 0.8697\n",
            "Epoch 19/20\n",
            "30/30 [==============================] - 1s 22ms/step - loss: 0.0245 - accuracy: 0.9949 - val_loss: 0.5306 - val_accuracy: 0.8706\n",
            "Epoch 20/20\n",
            "30/30 [==============================] - 1s 24ms/step - loss: 0.0157 - accuracy: 0.9985 - val_loss: 0.7288 - val_accuracy: 0.8412\n"
          ]
        }
      ],
      "source": [
        "from tensorflow.keras.datasets import imdb\n",
        "(train_data, train_labels), _ = imdb.load_data(num_words=10000)\n",
        "\n",
        "def vectorize_sequences(sequences, dimension=10000):\n",
        "    results = np.zeros((len(sequences), dimension))\n",
        "    for i, sequence in enumerate(sequences):\n",
        "        results[i, sequence] = 1.\n",
        "    return results\n",
        "train_data = vectorize_sequences(train_data)\n",
        "\n",
        "model = keras.Sequential([\n",
        "    layers.Dense(16, activation=\"relu\"),\n",
        "    layers.Dense(16, activation=\"relu\"),\n",
        "    layers.Dense(1, activation=\"sigmoid\")\n",
        "])\n",
        "model.compile(optimizer=\"rmsprop\",\n",
        "              loss=\"binary_crossentropy\",\n",
        "              metrics=[\"accuracy\"])\n",
        "history_original = model.fit(train_data, train_labels,\n",
        "                             epochs=20, batch_size=512, validation_split=0.4)"
      ]
    },
    {
      "cell_type": "markdown",
      "metadata": {
        "id": "ZGPZEyr39j-N"
      },
      "source": [
        "**Version of the model with lower capacity**"
      ]
    },
    {
      "cell_type": "code",
      "execution_count": 16,
      "metadata": {
        "id": "vC07ty6a9j-N",
        "colab": {
          "base_uri": "https://localhost:8080/"
        },
        "outputId": "0dbdc1d1-19a6-4b08-a163-96022d0a6c4f"
      },
      "outputs": [
        {
          "output_type": "stream",
          "name": "stdout",
          "text": [
            "Epoch 1/20\n",
            "30/30 [==============================] - 3s 53ms/step - loss: 0.6254 - accuracy: 0.6689 - val_loss: 0.5655 - val_accuracy: 0.7084\n",
            "Epoch 2/20\n",
            "30/30 [==============================] - 1s 22ms/step - loss: 0.5248 - accuracy: 0.7819 - val_loss: 0.5241 - val_accuracy: 0.7630\n",
            "Epoch 3/20\n",
            "30/30 [==============================] - 1s 22ms/step - loss: 0.4761 - accuracy: 0.8438 - val_loss: 0.4968 - val_accuracy: 0.8686\n",
            "Epoch 4/20\n",
            "30/30 [==============================] - 1s 30ms/step - loss: 0.4414 - accuracy: 0.8861 - val_loss: 0.4855 - val_accuracy: 0.8369\n",
            "Epoch 5/20\n",
            "30/30 [==============================] - 1s 43ms/step - loss: 0.4163 - accuracy: 0.9073 - val_loss: 0.4789 - val_accuracy: 0.8463\n",
            "Epoch 6/20\n",
            "30/30 [==============================] - 1s 23ms/step - loss: 0.3941 - accuracy: 0.9236 - val_loss: 0.4657 - val_accuracy: 0.8651\n",
            "Epoch 7/20\n",
            "30/30 [==============================] - 1s 22ms/step - loss: 0.3754 - accuracy: 0.9366 - val_loss: 0.4547 - val_accuracy: 0.8772\n",
            "Epoch 8/20\n",
            "30/30 [==============================] - 1s 23ms/step - loss: 0.3590 - accuracy: 0.9499 - val_loss: 0.4606 - val_accuracy: 0.8709\n",
            "Epoch 9/20\n",
            "30/30 [==============================] - 1s 25ms/step - loss: 0.3449 - accuracy: 0.9567 - val_loss: 0.4616 - val_accuracy: 0.8690\n",
            "Epoch 10/20\n",
            "30/30 [==============================] - 1s 22ms/step - loss: 0.3316 - accuracy: 0.9624 - val_loss: 0.4657 - val_accuracy: 0.8693\n",
            "Epoch 11/20\n",
            "30/30 [==============================] - 1s 23ms/step - loss: 0.3197 - accuracy: 0.9658 - val_loss: 0.4508 - val_accuracy: 0.8761\n",
            "Epoch 12/20\n",
            "30/30 [==============================] - 1s 22ms/step - loss: 0.3080 - accuracy: 0.9731 - val_loss: 0.4880 - val_accuracy: 0.8600\n",
            "Epoch 13/20\n",
            "30/30 [==============================] - 1s 24ms/step - loss: 0.2976 - accuracy: 0.9767 - val_loss: 0.4811 - val_accuracy: 0.8640\n",
            "Epoch 14/20\n",
            "30/30 [==============================] - 1s 25ms/step - loss: 0.2875 - accuracy: 0.9799 - val_loss: 0.4574 - val_accuracy: 0.8742\n",
            "Epoch 15/20\n",
            "30/30 [==============================] - 1s 22ms/step - loss: 0.2788 - accuracy: 0.9812 - val_loss: 0.4655 - val_accuracy: 0.8724\n",
            "Epoch 16/20\n",
            "30/30 [==============================] - 1s 22ms/step - loss: 0.2696 - accuracy: 0.9833 - val_loss: 0.5302 - val_accuracy: 0.8530\n",
            "Epoch 17/20\n",
            "30/30 [==============================] - 1s 22ms/step - loss: 0.2618 - accuracy: 0.9848 - val_loss: 0.5192 - val_accuracy: 0.8589\n",
            "Epoch 18/20\n",
            "30/30 [==============================] - 1s 22ms/step - loss: 0.2540 - accuracy: 0.9867 - val_loss: 0.4942 - val_accuracy: 0.8670\n",
            "Epoch 19/20\n",
            "30/30 [==============================] - 1s 22ms/step - loss: 0.2462 - accuracy: 0.9881 - val_loss: 0.5259 - val_accuracy: 0.8627\n",
            "Epoch 20/20\n",
            "30/30 [==============================] - 1s 24ms/step - loss: 0.2399 - accuracy: 0.9886 - val_loss: 0.5025 - val_accuracy: 0.8695\n"
          ]
        }
      ],
      "source": [
        "model = keras.Sequential([\n",
        "    layers.Dense(4, activation=\"relu\"),\n",
        "    layers.Dense(4, activation=\"relu\"),\n",
        "    layers.Dense(1, activation=\"sigmoid\")\n",
        "])\n",
        "model.compile(optimizer=\"rmsprop\",\n",
        "              loss=\"binary_crossentropy\",\n",
        "              metrics=[\"accuracy\"])\n",
        "history_smaller_model = model.fit(\n",
        "    train_data, train_labels,\n",
        "    epochs=20, batch_size=512, validation_split=0.4)"
      ]
    },
    {
      "cell_type": "markdown",
      "metadata": {
        "id": "QpeX3IaU9j-O"
      },
      "source": [
        "**Version of the model with higher capacity**"
      ]
    },
    {
      "cell_type": "code",
      "execution_count": 17,
      "metadata": {
        "id": "00muaus29j-O",
        "colab": {
          "base_uri": "https://localhost:8080/"
        },
        "outputId": "cd7e751e-5d35-4c02-fbcb-18750de9d140"
      },
      "outputs": [
        {
          "output_type": "stream",
          "name": "stdout",
          "text": [
            "Epoch 1/20\n",
            "30/30 [==============================] - 3s 59ms/step - loss: 0.5750 - accuracy: 0.7069 - val_loss: 0.3600 - val_accuracy: 0.8680\n",
            "Epoch 2/20\n",
            "30/30 [==============================] - 1s 28ms/step - loss: 0.3219 - accuracy: 0.8686 - val_loss: 0.4060 - val_accuracy: 0.8173\n",
            "Epoch 3/20\n",
            "30/30 [==============================] - 1s 27ms/step - loss: 0.2336 - accuracy: 0.9050 - val_loss: 0.2683 - val_accuracy: 0.8915\n",
            "Epoch 4/20\n",
            "30/30 [==============================] - 1s 27ms/step - loss: 0.1895 - accuracy: 0.9271 - val_loss: 0.2881 - val_accuracy: 0.8867\n",
            "Epoch 5/20\n",
            "30/30 [==============================] - 1s 44ms/step - loss: 0.1392 - accuracy: 0.9457 - val_loss: 0.4603 - val_accuracy: 0.8440\n",
            "Epoch 6/20\n",
            "30/30 [==============================] - 1s 31ms/step - loss: 0.1085 - accuracy: 0.9601 - val_loss: 0.3325 - val_accuracy: 0.8843\n",
            "Epoch 7/20\n",
            "30/30 [==============================] - 1s 26ms/step - loss: 0.0850 - accuracy: 0.9735 - val_loss: 0.3512 - val_accuracy: 0.8829\n",
            "Epoch 8/20\n",
            "30/30 [==============================] - 1s 27ms/step - loss: 0.0843 - accuracy: 0.9771 - val_loss: 0.3492 - val_accuracy: 0.8833\n",
            "Epoch 9/20\n",
            "30/30 [==============================] - 1s 28ms/step - loss: 0.0156 - accuracy: 0.9977 - val_loss: 0.4106 - val_accuracy: 0.8841\n",
            "Epoch 10/20\n",
            "30/30 [==============================] - 1s 28ms/step - loss: 0.1111 - accuracy: 0.9786 - val_loss: 0.3767 - val_accuracy: 0.8841\n",
            "Epoch 11/20\n",
            "30/30 [==============================] - 1s 29ms/step - loss: 0.0068 - accuracy: 0.9995 - val_loss: 0.4910 - val_accuracy: 0.8827\n",
            "Epoch 12/20\n",
            "30/30 [==============================] - 1s 28ms/step - loss: 0.0781 - accuracy: 0.9848 - val_loss: 0.4223 - val_accuracy: 0.8745\n",
            "Epoch 13/20\n",
            "30/30 [==============================] - 1s 26ms/step - loss: 0.0056 - accuracy: 0.9999 - val_loss: 0.4783 - val_accuracy: 0.8829\n",
            "Epoch 14/20\n",
            "30/30 [==============================] - 1s 27ms/step - loss: 0.0019 - accuracy: 0.9999 - val_loss: 0.5533 - val_accuracy: 0.8828\n",
            "Epoch 15/20\n",
            "30/30 [==============================] - 1s 29ms/step - loss: 0.0010 - accuracy: 1.0000 - val_loss: 0.6033 - val_accuracy: 0.8819\n",
            "Epoch 16/20\n",
            "30/30 [==============================] - 1s 26ms/step - loss: 0.0852 - accuracy: 0.9839 - val_loss: 0.4967 - val_accuracy: 0.8826\n",
            "Epoch 17/20\n",
            "30/30 [==============================] - 1s 27ms/step - loss: 0.0012 - accuracy: 1.0000 - val_loss: 0.5660 - val_accuracy: 0.8834\n",
            "Epoch 18/20\n",
            "30/30 [==============================] - 1s 27ms/step - loss: 6.6568e-04 - accuracy: 1.0000 - val_loss: 0.6260 - val_accuracy: 0.8831\n",
            "Epoch 19/20\n",
            "30/30 [==============================] - 1s 42ms/step - loss: 4.4060e-04 - accuracy: 1.0000 - val_loss: 0.6617 - val_accuracy: 0.8844\n",
            "Epoch 20/20\n",
            "30/30 [==============================] - 1s 32ms/step - loss: 3.0411e-04 - accuracy: 1.0000 - val_loss: 0.6877 - val_accuracy: 0.8839\n"
          ]
        }
      ],
      "source": [
        "model = keras.Sequential([\n",
        "    layers.Dense(512, activation=\"relu\"),\n",
        "    layers.Dense(512, activation=\"relu\"),\n",
        "    layers.Dense(1, activation=\"sigmoid\")\n",
        "])\n",
        "model.compile(optimizer=\"rmsprop\",\n",
        "              loss=\"binary_crossentropy\",\n",
        "              metrics=[\"accuracy\"])\n",
        "history_larger_model = model.fit(\n",
        "    train_data, train_labels,\n",
        "    epochs=20, batch_size=512, validation_split=0.4)"
      ]
    },
    {
      "cell_type": "markdown",
      "metadata": {
        "id": "6Om38TDM9j-P"
      },
      "source": [
        "#### Adding weight regularization"
      ]
    },
    {
      "cell_type": "markdown",
      "metadata": {
        "id": "imNxu7va9j-P"
      },
      "source": [
        "**Adding L2 weight regularization to the model**"
      ]
    },
    {
      "cell_type": "code",
      "execution_count": 18,
      "metadata": {
        "id": "H06Ppolm9j-P",
        "colab": {
          "base_uri": "https://localhost:8080/"
        },
        "outputId": "bd014a7f-0e7e-48aa-f3fa-75b6eabb94ff"
      },
      "outputs": [
        {
          "output_type": "stream",
          "name": "stdout",
          "text": [
            "Epoch 1/20\n",
            "30/30 [==============================] - 3s 53ms/step - loss: 0.6190 - accuracy: 0.7668 - val_loss: 0.5081 - val_accuracy: 0.8254\n",
            "Epoch 2/20\n",
            "30/30 [==============================] - 1s 25ms/step - loss: 0.4156 - accuracy: 0.8902 - val_loss: 0.4138 - val_accuracy: 0.8739\n",
            "Epoch 3/20\n",
            "30/30 [==============================] - 1s 25ms/step - loss: 0.3439 - accuracy: 0.9134 - val_loss: 0.3868 - val_accuracy: 0.8781\n",
            "Epoch 4/20\n",
            "30/30 [==============================] - 1s 22ms/step - loss: 0.3018 - accuracy: 0.9263 - val_loss: 0.3668 - val_accuracy: 0.8836\n",
            "Epoch 5/20\n",
            "30/30 [==============================] - 1s 22ms/step - loss: 0.2824 - accuracy: 0.9308 - val_loss: 0.3582 - val_accuracy: 0.8891\n",
            "Epoch 6/20\n",
            "30/30 [==============================] - 1s 25ms/step - loss: 0.2653 - accuracy: 0.9380 - val_loss: 0.3612 - val_accuracy: 0.8849\n",
            "Epoch 7/20\n",
            "30/30 [==============================] - 1s 22ms/step - loss: 0.2573 - accuracy: 0.9412 - val_loss: 0.3620 - val_accuracy: 0.8865\n",
            "Epoch 8/20\n",
            "30/30 [==============================] - 1s 25ms/step - loss: 0.2406 - accuracy: 0.9469 - val_loss: 0.3720 - val_accuracy: 0.8850\n",
            "Epoch 9/20\n",
            "30/30 [==============================] - 1s 24ms/step - loss: 0.2394 - accuracy: 0.9461 - val_loss: 0.4070 - val_accuracy: 0.8707\n",
            "Epoch 10/20\n",
            "30/30 [==============================] - 1s 39ms/step - loss: 0.2314 - accuracy: 0.9488 - val_loss: 0.3890 - val_accuracy: 0.8770\n",
            "Epoch 11/20\n",
            "30/30 [==============================] - 1s 41ms/step - loss: 0.2256 - accuracy: 0.9524 - val_loss: 0.3795 - val_accuracy: 0.8814\n",
            "Epoch 12/20\n",
            "30/30 [==============================] - 1s 25ms/step - loss: 0.2222 - accuracy: 0.9555 - val_loss: 0.4253 - val_accuracy: 0.8683\n",
            "Epoch 13/20\n",
            "30/30 [==============================] - 1s 24ms/step - loss: 0.2131 - accuracy: 0.9607 - val_loss: 0.4099 - val_accuracy: 0.8741\n",
            "Epoch 14/20\n",
            "30/30 [==============================] - 1s 25ms/step - loss: 0.2178 - accuracy: 0.9547 - val_loss: 0.3923 - val_accuracy: 0.8813\n",
            "Epoch 15/20\n",
            "30/30 [==============================] - 1s 25ms/step - loss: 0.2064 - accuracy: 0.9611 - val_loss: 0.3965 - val_accuracy: 0.8794\n",
            "Epoch 16/20\n",
            "30/30 [==============================] - 1s 23ms/step - loss: 0.2104 - accuracy: 0.9577 - val_loss: 0.4115 - val_accuracy: 0.8759\n",
            "Epoch 17/20\n",
            "30/30 [==============================] - 1s 23ms/step - loss: 0.2004 - accuracy: 0.9645 - val_loss: 0.4287 - val_accuracy: 0.8678\n",
            "Epoch 18/20\n",
            "30/30 [==============================] - 1s 22ms/step - loss: 0.2066 - accuracy: 0.9585 - val_loss: 0.4099 - val_accuracy: 0.8777\n",
            "Epoch 19/20\n",
            "30/30 [==============================] - 1s 23ms/step - loss: 0.1957 - accuracy: 0.9645 - val_loss: 0.4134 - val_accuracy: 0.8740\n",
            "Epoch 20/20\n",
            "30/30 [==============================] - 1s 22ms/step - loss: 0.2013 - accuracy: 0.9594 - val_loss: 0.4235 - val_accuracy: 0.8730\n"
          ]
        }
      ],
      "source": [
        "from tensorflow.keras import regularizers\n",
        "model = keras.Sequential([\n",
        "    layers.Dense(16,\n",
        "                 kernel_regularizer=regularizers.l2(0.002),\n",
        "                 activation=\"relu\"),\n",
        "    layers.Dense(16,\n",
        "                 kernel_regularizer=regularizers.l2(0.002),\n",
        "                 activation=\"relu\"),\n",
        "    layers.Dense(1, activation=\"sigmoid\")\n",
        "])\n",
        "model.compile(optimizer=\"rmsprop\",\n",
        "              loss=\"binary_crossentropy\",\n",
        "              metrics=[\"accuracy\"])\n",
        "history_l2_reg = model.fit(\n",
        "    train_data, train_labels,\n",
        "    epochs=20, batch_size=512, validation_split=0.4)"
      ]
    },
    {
      "cell_type": "markdown",
      "metadata": {
        "id": "RgAKWbFk9j-P"
      },
      "source": [
        "**Different weight regularizers available in Keras**"
      ]
    },
    {
      "cell_type": "code",
      "execution_count": 19,
      "metadata": {
        "id": "2Cbg4Jxx9j-Q",
        "colab": {
          "base_uri": "https://localhost:8080/"
        },
        "outputId": "ef13db90-5812-4217-bcd2-618029116699"
      },
      "outputs": [
        {
          "output_type": "execute_result",
          "data": {
            "text/plain": [
              "<keras.regularizers.L1L2 at 0x7fddbc710df0>"
            ]
          },
          "metadata": {},
          "execution_count": 19
        }
      ],
      "source": [
        "from tensorflow.keras import regularizers\n",
        "regularizers.l1(0.001)\n",
        "regularizers.l1_l2(l1=0.001, l2=0.001)"
      ]
    },
    {
      "cell_type": "markdown",
      "metadata": {
        "id": "NuH_1CV39j-Q"
      },
      "source": [
        "#### Adding dropout"
      ]
    },
    {
      "cell_type": "markdown",
      "metadata": {
        "id": "EerkDhy39j-R"
      },
      "source": [
        "**Adding dropout to the IMDB model**"
      ]
    },
    {
      "cell_type": "code",
      "execution_count": 20,
      "metadata": {
        "id": "tM43LyKe9j-S",
        "colab": {
          "base_uri": "https://localhost:8080/"
        },
        "outputId": "eebcb3e5-9c8f-4c15-87ea-eabcbcd978bd"
      },
      "outputs": [
        {
          "output_type": "stream",
          "name": "stdout",
          "text": [
            "Epoch 1/20\n",
            "30/30 [==============================] - 3s 54ms/step - loss: 0.6389 - accuracy: 0.6284 - val_loss: 0.5305 - val_accuracy: 0.8431\n",
            "Epoch 2/20\n",
            "30/30 [==============================] - 1s 25ms/step - loss: 0.5191 - accuracy: 0.7592 - val_loss: 0.4192 - val_accuracy: 0.8614\n",
            "Epoch 3/20\n",
            "30/30 [==============================] - 1s 23ms/step - loss: 0.4262 - accuracy: 0.8250 - val_loss: 0.3492 - val_accuracy: 0.8729\n",
            "Epoch 4/20\n",
            "30/30 [==============================] - 1s 23ms/step - loss: 0.3608 - accuracy: 0.8617 - val_loss: 0.3096 - val_accuracy: 0.8761\n",
            "Epoch 5/20\n",
            "30/30 [==============================] - 1s 25ms/step - loss: 0.3281 - accuracy: 0.8821 - val_loss: 0.2839 - val_accuracy: 0.8893\n",
            "Epoch 6/20\n",
            "30/30 [==============================] - 1s 25ms/step - loss: 0.2749 - accuracy: 0.9060 - val_loss: 0.2713 - val_accuracy: 0.8919\n",
            "Epoch 7/20\n",
            "30/30 [==============================] - 1s 25ms/step - loss: 0.2473 - accuracy: 0.9167 - val_loss: 0.2717 - val_accuracy: 0.8912\n",
            "Epoch 8/20\n",
            "30/30 [==============================] - 1s 26ms/step - loss: 0.2258 - accuracy: 0.9238 - val_loss: 0.3003 - val_accuracy: 0.8808\n",
            "Epoch 9/20\n",
            "30/30 [==============================] - 1s 25ms/step - loss: 0.2026 - accuracy: 0.9373 - val_loss: 0.2908 - val_accuracy: 0.8886\n",
            "Epoch 10/20\n",
            "30/30 [==============================] - 1s 22ms/step - loss: 0.1807 - accuracy: 0.9454 - val_loss: 0.2975 - val_accuracy: 0.8905\n",
            "Epoch 11/20\n",
            "30/30 [==============================] - 1s 26ms/step - loss: 0.1646 - accuracy: 0.9510 - val_loss: 0.3185 - val_accuracy: 0.8854\n",
            "Epoch 12/20\n",
            "30/30 [==============================] - 1s 29ms/step - loss: 0.1510 - accuracy: 0.9541 - val_loss: 0.3668 - val_accuracy: 0.8817\n",
            "Epoch 13/20\n",
            "30/30 [==============================] - 1s 41ms/step - loss: 0.1328 - accuracy: 0.9587 - val_loss: 0.3563 - val_accuracy: 0.8882\n",
            "Epoch 14/20\n",
            "30/30 [==============================] - 1s 25ms/step - loss: 0.1233 - accuracy: 0.9619 - val_loss: 0.3814 - val_accuracy: 0.8858\n",
            "Epoch 15/20\n",
            "30/30 [==============================] - 1s 22ms/step - loss: 0.1125 - accuracy: 0.9668 - val_loss: 0.4084 - val_accuracy: 0.8866\n",
            "Epoch 16/20\n",
            "30/30 [==============================] - 1s 24ms/step - loss: 0.1023 - accuracy: 0.9697 - val_loss: 0.4142 - val_accuracy: 0.8854\n",
            "Epoch 17/20\n",
            "30/30 [==============================] - 1s 23ms/step - loss: 0.0930 - accuracy: 0.9719 - val_loss: 0.4504 - val_accuracy: 0.8851\n",
            "Epoch 18/20\n",
            "30/30 [==============================] - 1s 22ms/step - loss: 0.0891 - accuracy: 0.9726 - val_loss: 0.4665 - val_accuracy: 0.8848\n",
            "Epoch 19/20\n",
            "30/30 [==============================] - 1s 22ms/step - loss: 0.0856 - accuracy: 0.9740 - val_loss: 0.5077 - val_accuracy: 0.8813\n",
            "Epoch 20/20\n",
            "30/30 [==============================] - 1s 23ms/step - loss: 0.0822 - accuracy: 0.9753 - val_loss: 0.5259 - val_accuracy: 0.8819\n"
          ]
        }
      ],
      "source": [
        "model = keras.Sequential([\n",
        "    layers.Dense(16, activation=\"relu\"),\n",
        "    layers.Dropout(0.5),\n",
        "    layers.Dense(16, activation=\"relu\"),\n",
        "    layers.Dropout(0.5),\n",
        "    layers.Dense(1, activation=\"sigmoid\")\n",
        "])\n",
        "model.compile(optimizer=\"rmsprop\",\n",
        "              loss=\"binary_crossentropy\",\n",
        "              metrics=[\"accuracy\"])\n",
        "history_dropout = model.fit(\n",
        "    train_data, train_labels,\n",
        "    epochs=20, batch_size=512, validation_split=0.4)"
      ]
    },
    {
      "cell_type": "markdown",
      "metadata": {
        "id": "8orcb10i9j-S"
      },
      "source": [
        "## Summary"
      ]
    }
  ],
  "metadata": {
    "colab": {
      "provenance": [],
      "include_colab_link": true
    },
    "kernelspec": {
      "display_name": "Python 3",
      "language": "python",
      "name": "python3"
    },
    "language_info": {
      "codemirror_mode": {
        "name": "ipython",
        "version": 3
      },
      "file_extension": ".py",
      "mimetype": "text/x-python",
      "name": "python",
      "nbconvert_exporter": "python",
      "pygments_lexer": "ipython3",
      "version": "3.7.0"
    },
    "accelerator": "GPU",
    "gpuClass": "standard"
  },
  "nbformat": 4,
  "nbformat_minor": 0
}